{
  "nbformat": 4,
  "nbformat_minor": 0,
  "metadata": {
    "accelerator": "GPU",
    "colab": {
      "name": "Copy of 4.3-EXE-CIFAR-10.ipynb",
      "provenance": []
    },
    "kernelspec": {
      "display_name": "Python 3",
      "language": "python",
      "name": "python3"
    },
    "language_info": {
      "codemirror_mode": {
        "name": "ipython",
        "version": 3
      },
      "file_extension": ".py",
      "mimetype": "text/x-python",
      "name": "python",
      "nbconvert_exporter": "python",
      "pygments_lexer": "ipython3",
      "version": "3.8.3"
    },
    "widgets": {
      "application/vnd.jupyter.widget-state+json": {
        "4fb5b1fcbfd94df4930eed5e4d4bb073": {
          "model_module": "@jupyter-widgets/controls",
          "model_name": "HBoxModel",
          "model_module_version": "1.5.0",
          "state": {
            "_view_name": "HBoxView",
            "_dom_classes": [],
            "_model_name": "HBoxModel",
            "_view_module": "@jupyter-widgets/controls",
            "_model_module_version": "1.5.0",
            "_view_count": null,
            "_view_module_version": "1.5.0",
            "box_style": "",
            "layout": "IPY_MODEL_6b6ece8b312a458e9a8a984f1a6d17a2",
            "_model_module": "@jupyter-widgets/controls",
            "children": [
              "IPY_MODEL_70f27756d3f145f89bd93ea470e6bdaa",
              "IPY_MODEL_0211dfba35a8436287713d9bf92239ce",
              "IPY_MODEL_da5fd4d8679c460cbdb4b4c4a923a7e8"
            ]
          }
        },
        "6b6ece8b312a458e9a8a984f1a6d17a2": {
          "model_module": "@jupyter-widgets/base",
          "model_name": "LayoutModel",
          "model_module_version": "1.2.0",
          "state": {
            "_view_name": "LayoutView",
            "grid_template_rows": null,
            "right": null,
            "justify_content": null,
            "_view_module": "@jupyter-widgets/base",
            "overflow": null,
            "_model_module_version": "1.2.0",
            "_view_count": null,
            "flex_flow": null,
            "width": null,
            "min_width": null,
            "border": null,
            "align_items": null,
            "bottom": null,
            "_model_module": "@jupyter-widgets/base",
            "top": null,
            "grid_column": null,
            "overflow_y": null,
            "overflow_x": null,
            "grid_auto_flow": null,
            "grid_area": null,
            "grid_template_columns": null,
            "flex": null,
            "_model_name": "LayoutModel",
            "justify_items": null,
            "grid_row": null,
            "max_height": null,
            "align_content": null,
            "visibility": null,
            "align_self": null,
            "height": null,
            "min_height": null,
            "padding": null,
            "grid_auto_rows": null,
            "grid_gap": null,
            "max_width": null,
            "order": null,
            "_view_module_version": "1.2.0",
            "grid_template_areas": null,
            "object_position": null,
            "object_fit": null,
            "grid_auto_columns": null,
            "margin": null,
            "display": null,
            "left": null
          }
        },
        "70f27756d3f145f89bd93ea470e6bdaa": {
          "model_module": "@jupyter-widgets/controls",
          "model_name": "HTMLModel",
          "model_module_version": "1.5.0",
          "state": {
            "_view_name": "HTMLView",
            "style": "IPY_MODEL_eadc6a79983141c1bbac290d785dec3b",
            "_dom_classes": [],
            "description": "",
            "_model_name": "HTMLModel",
            "placeholder": "​",
            "_view_module": "@jupyter-widgets/controls",
            "_model_module_version": "1.5.0",
            "value": "",
            "_view_count": null,
            "_view_module_version": "1.5.0",
            "description_tooltip": null,
            "_model_module": "@jupyter-widgets/controls",
            "layout": "IPY_MODEL_3eeb37a414e1435f9ad66a6bf0554aec"
          }
        },
        "0211dfba35a8436287713d9bf92239ce": {
          "model_module": "@jupyter-widgets/controls",
          "model_name": "FloatProgressModel",
          "model_module_version": "1.5.0",
          "state": {
            "_view_name": "ProgressView",
            "style": "IPY_MODEL_2dc106ed486140e9a80a019b1db391e3",
            "_dom_classes": [],
            "description": "",
            "_model_name": "FloatProgressModel",
            "bar_style": "success",
            "max": 170498071,
            "_view_module": "@jupyter-widgets/controls",
            "_model_module_version": "1.5.0",
            "value": 170498071,
            "_view_count": null,
            "_view_module_version": "1.5.0",
            "orientation": "horizontal",
            "min": 0,
            "description_tooltip": null,
            "_model_module": "@jupyter-widgets/controls",
            "layout": "IPY_MODEL_781b2ad276a54b11b0c024e6af55aa30"
          }
        },
        "da5fd4d8679c460cbdb4b4c4a923a7e8": {
          "model_module": "@jupyter-widgets/controls",
          "model_name": "HTMLModel",
          "model_module_version": "1.5.0",
          "state": {
            "_view_name": "HTMLView",
            "style": "IPY_MODEL_0278b68cdc934a57b45ce541b6de8ee5",
            "_dom_classes": [],
            "description": "",
            "_model_name": "HTMLModel",
            "placeholder": "​",
            "_view_module": "@jupyter-widgets/controls",
            "_model_module_version": "1.5.0",
            "value": " 170499072/? [00:11&lt;00:00, 16903059.73it/s]",
            "_view_count": null,
            "_view_module_version": "1.5.0",
            "description_tooltip": null,
            "_model_module": "@jupyter-widgets/controls",
            "layout": "IPY_MODEL_16e7abd107484ab2acc87e0e960cdeb1"
          }
        },
        "eadc6a79983141c1bbac290d785dec3b": {
          "model_module": "@jupyter-widgets/controls",
          "model_name": "DescriptionStyleModel",
          "model_module_version": "1.5.0",
          "state": {
            "_view_name": "StyleView",
            "_model_name": "DescriptionStyleModel",
            "description_width": "",
            "_view_module": "@jupyter-widgets/base",
            "_model_module_version": "1.5.0",
            "_view_count": null,
            "_view_module_version": "1.2.0",
            "_model_module": "@jupyter-widgets/controls"
          }
        },
        "3eeb37a414e1435f9ad66a6bf0554aec": {
          "model_module": "@jupyter-widgets/base",
          "model_name": "LayoutModel",
          "model_module_version": "1.2.0",
          "state": {
            "_view_name": "LayoutView",
            "grid_template_rows": null,
            "right": null,
            "justify_content": null,
            "_view_module": "@jupyter-widgets/base",
            "overflow": null,
            "_model_module_version": "1.2.0",
            "_view_count": null,
            "flex_flow": null,
            "width": null,
            "min_width": null,
            "border": null,
            "align_items": null,
            "bottom": null,
            "_model_module": "@jupyter-widgets/base",
            "top": null,
            "grid_column": null,
            "overflow_y": null,
            "overflow_x": null,
            "grid_auto_flow": null,
            "grid_area": null,
            "grid_template_columns": null,
            "flex": null,
            "_model_name": "LayoutModel",
            "justify_items": null,
            "grid_row": null,
            "max_height": null,
            "align_content": null,
            "visibility": null,
            "align_self": null,
            "height": null,
            "min_height": null,
            "padding": null,
            "grid_auto_rows": null,
            "grid_gap": null,
            "max_width": null,
            "order": null,
            "_view_module_version": "1.2.0",
            "grid_template_areas": null,
            "object_position": null,
            "object_fit": null,
            "grid_auto_columns": null,
            "margin": null,
            "display": null,
            "left": null
          }
        },
        "2dc106ed486140e9a80a019b1db391e3": {
          "model_module": "@jupyter-widgets/controls",
          "model_name": "ProgressStyleModel",
          "model_module_version": "1.5.0",
          "state": {
            "_view_name": "StyleView",
            "_model_name": "ProgressStyleModel",
            "description_width": "",
            "_view_module": "@jupyter-widgets/base",
            "_model_module_version": "1.5.0",
            "_view_count": null,
            "_view_module_version": "1.2.0",
            "bar_color": null,
            "_model_module": "@jupyter-widgets/controls"
          }
        },
        "781b2ad276a54b11b0c024e6af55aa30": {
          "model_module": "@jupyter-widgets/base",
          "model_name": "LayoutModel",
          "model_module_version": "1.2.0",
          "state": {
            "_view_name": "LayoutView",
            "grid_template_rows": null,
            "right": null,
            "justify_content": null,
            "_view_module": "@jupyter-widgets/base",
            "overflow": null,
            "_model_module_version": "1.2.0",
            "_view_count": null,
            "flex_flow": null,
            "width": null,
            "min_width": null,
            "border": null,
            "align_items": null,
            "bottom": null,
            "_model_module": "@jupyter-widgets/base",
            "top": null,
            "grid_column": null,
            "overflow_y": null,
            "overflow_x": null,
            "grid_auto_flow": null,
            "grid_area": null,
            "grid_template_columns": null,
            "flex": null,
            "_model_name": "LayoutModel",
            "justify_items": null,
            "grid_row": null,
            "max_height": null,
            "align_content": null,
            "visibility": null,
            "align_self": null,
            "height": null,
            "min_height": null,
            "padding": null,
            "grid_auto_rows": null,
            "grid_gap": null,
            "max_width": null,
            "order": null,
            "_view_module_version": "1.2.0",
            "grid_template_areas": null,
            "object_position": null,
            "object_fit": null,
            "grid_auto_columns": null,
            "margin": null,
            "display": null,
            "left": null
          }
        },
        "0278b68cdc934a57b45ce541b6de8ee5": {
          "model_module": "@jupyter-widgets/controls",
          "model_name": "DescriptionStyleModel",
          "model_module_version": "1.5.0",
          "state": {
            "_view_name": "StyleView",
            "_model_name": "DescriptionStyleModel",
            "description_width": "",
            "_view_module": "@jupyter-widgets/base",
            "_model_module_version": "1.5.0",
            "_view_count": null,
            "_view_module_version": "1.2.0",
            "_model_module": "@jupyter-widgets/controls"
          }
        },
        "16e7abd107484ab2acc87e0e960cdeb1": {
          "model_module": "@jupyter-widgets/base",
          "model_name": "LayoutModel",
          "model_module_version": "1.2.0",
          "state": {
            "_view_name": "LayoutView",
            "grid_template_rows": null,
            "right": null,
            "justify_content": null,
            "_view_module": "@jupyter-widgets/base",
            "overflow": null,
            "_model_module_version": "1.2.0",
            "_view_count": null,
            "flex_flow": null,
            "width": null,
            "min_width": null,
            "border": null,
            "align_items": null,
            "bottom": null,
            "_model_module": "@jupyter-widgets/base",
            "top": null,
            "grid_column": null,
            "overflow_y": null,
            "overflow_x": null,
            "grid_auto_flow": null,
            "grid_area": null,
            "grid_template_columns": null,
            "flex": null,
            "_model_name": "LayoutModel",
            "justify_items": null,
            "grid_row": null,
            "max_height": null,
            "align_content": null,
            "visibility": null,
            "align_self": null,
            "height": null,
            "min_height": null,
            "padding": null,
            "grid_auto_rows": null,
            "grid_gap": null,
            "max_width": null,
            "order": null,
            "_view_module_version": "1.2.0",
            "grid_template_areas": null,
            "object_position": null,
            "object_fit": null,
            "grid_auto_columns": null,
            "margin": null,
            "display": null,
            "left": null
          }
        }
      }
    }
  },
  "cells": [
    {
      "cell_type": "markdown",
      "metadata": {
        "id": "bu1Wy6Xb81Sn"
      },
      "source": [
        "# Credits\n",
        "\n",
        "This is heavily influenced from https://github.com/pytorch/tutorials"
      ]
    },
    {
      "cell_type": "markdown",
      "metadata": {
        "id": "oZW0gaQO81Sq"
      },
      "source": [
        "# CIFAR-10\n",
        "\n",
        "In thins notebook you need to put what you have learned into practice, and create your own convolutional classifier for the CIFAR-10 dataset.\n",
        "\n",
        "It has the classes: ‘airplane’, ‘automobile’, ‘bird’, ‘cat’, ‘deer’, ‘dog’, ‘frog’, ‘horse’, ‘ship’, ‘truck’.\n",
        "The images in CIFAR-10 are of size 3x32x32, i.e. 3-channel color images of 32x32 pixels in size.\n",
        "\n",
        "![cifar10](https://github.com/DeepLearningDTU/02456-deep-learning-with-PyTorch/blob/master/static_files/cifar10.png?raw=1)\n",
        "\n",
        "\n",
        "In order to train a classifier the following steps needs to be performed:\n",
        "\n",
        "1. Load and normalizing the CIFAR10 training and test datasets using\n",
        "   ``torchvision``\n",
        "2. Define a Convolutional Neural Network\n",
        "3. Define a loss function\n",
        "4. Train the network on the training data\n",
        "5. Test the network on the test data\n",
        "\n",
        "We will help you along the way.\n",
        "We indicate the places you need to modify the code with `# Your code here!`.\n",
        "It is however a good idea to read the entire assignment before you begin coding!"
      ]
    },
    {
      "cell_type": "markdown",
      "metadata": {
        "id": "htyg7xxN81St"
      },
      "source": [
        "## 1. Loading and normalizing CIFAR10\n",
        "\n",
        "Using ``torchvision``, it’s extremely easy to load CIFAR10."
      ]
    },
    {
      "cell_type": "code",
      "metadata": {
        "id": "v3u2GIWr81Su"
      },
      "source": [
        "%matplotlib inline\n",
        "import matplotlib.pyplot as plt\n",
        "import numpy as np\n",
        "\n",
        "import torch\n",
        "import torchvision\n",
        "import torchvision.transforms as transforms"
      ],
      "execution_count": 1,
      "outputs": []
    },
    {
      "cell_type": "markdown",
      "metadata": {
        "id": "xx5SHRkm81S0"
      },
      "source": [
        "The output of torchvision datasets are PILImage images of range [0, 1].\n",
        "We transform them to Tensors of normalized range [-1, 1]\n",
        "\n",
        "**NB** Modify the code below to only use a small part of the dataset if your computer is very slow."
      ]
    },
    {
      "cell_type": "code",
      "metadata": {
        "colab": {
          "base_uri": "https://localhost:8080/",
          "height": 117,
          "referenced_widgets": [
            "4fb5b1fcbfd94df4930eed5e4d4bb073",
            "6b6ece8b312a458e9a8a984f1a6d17a2",
            "70f27756d3f145f89bd93ea470e6bdaa",
            "0211dfba35a8436287713d9bf92239ce",
            "da5fd4d8679c460cbdb4b4c4a923a7e8",
            "eadc6a79983141c1bbac290d785dec3b",
            "3eeb37a414e1435f9ad66a6bf0554aec",
            "2dc106ed486140e9a80a019b1db391e3",
            "781b2ad276a54b11b0c024e6af55aa30",
            "0278b68cdc934a57b45ce541b6de8ee5",
            "16e7abd107484ab2acc87e0e960cdeb1"
          ]
        },
        "id": "QZeTujLC81S3",
        "outputId": "0e4272a5-8268-4540-a8e0-6b5f49faf970"
      },
      "source": [
        "transform = transforms.Compose(\n",
        "    [transforms.ToTensor(),\n",
        "     transforms.Normalize((0.5, 0.5, 0.5),(0.5, 0.5, 0.5))\n",
        "    ]\n",
        ")\n",
        "\n",
        "# Load dataset\n",
        "trainset = torchvision.datasets.CIFAR10(root='./data', train=True,\n",
        "                                        download=True, transform=transform)\n",
        "testset = torchvision.datasets.CIFAR10(root='./data', train=False,\n",
        "                                       download=True, transform=transform)\n",
        "\n",
        "classes = ('plane', 'car', 'bird', 'cat', 'deer',\n",
        "           'dog', 'frog', 'horse', 'ship', 'truck')\n",
        "\n",
        "used_categories = range(len(classes))\n",
        "\n",
        "## USE CODE BELOW IF YOUR COMPUTER IS TOO SLOW\n",
        "reduce_dataset = False\n",
        "if reduce_dataset:\n",
        "    used_categories = (3, 5) # cats and dogs\n",
        "\n",
        "    classes = [classes[i] for i in used_categories]\n",
        "    new_train_data = []\n",
        "    new_train_labels = []\n",
        "\n",
        "    new_test_data = []\n",
        "    new_test_labels = []\n",
        "    for i, t in enumerate(used_categories):\n",
        "        new_train_data.append(trainset.data[np.where(np.array(trainset.targets) == t)])\n",
        "        new_train_labels += [i for _ in range(new_train_data[-1].shape[0])]\n",
        "\n",
        "        new_test_data.append(testset.data[np.where(np.array(testset.targets) == t)])\n",
        "        new_test_labels += [i for _ in range(new_test_data[-1].shape[0])]\n",
        "\n",
        "    new_train_data = np.concatenate(new_train_data, 0)\n",
        "    trainset.data = new_train_data\n",
        "    trainset.targets = new_train_labels\n",
        "\n",
        "    new_test_data = np.concatenate(new_test_data, 0)\n",
        "    testset.data = new_test_data\n",
        "    testset.targets = new_test_labels\n",
        "\n",
        "    \n",
        "trainloader = torch.utils.data.DataLoader(trainset, batch_size=4,\n",
        "                                          shuffle=True, num_workers=2)\n",
        "testloader = torch.utils.data.DataLoader(testset, batch_size=4,\n",
        "                                         shuffle=True, num_workers=2)\n",
        "train_data_iter = iter(trainloader)\n",
        "test_data_iter = iter(testloader)\n",
        "print('used classes:', classes)"
      ],
      "execution_count": 2,
      "outputs": [
        {
          "output_type": "stream",
          "name": "stdout",
          "text": [
            "Downloading https://www.cs.toronto.edu/~kriz/cifar-10-python.tar.gz to ./data/cifar-10-python.tar.gz\n"
          ]
        },
        {
          "output_type": "display_data",
          "data": {
            "application/vnd.jupyter.widget-view+json": {
              "model_id": "4fb5b1fcbfd94df4930eed5e4d4bb073",
              "version_minor": 0,
              "version_major": 2
            },
            "text/plain": [
              "  0%|          | 0/170498071 [00:00<?, ?it/s]"
            ]
          },
          "metadata": {}
        },
        {
          "output_type": "stream",
          "name": "stdout",
          "text": [
            "Extracting ./data/cifar-10-python.tar.gz to ./data\n",
            "Files already downloaded and verified\n",
            "used classes: ('plane', 'car', 'bird', 'cat', 'deer', 'dog', 'frog', 'horse', 'ship', 'truck')\n"
          ]
        }
      ]
    },
    {
      "cell_type": "code",
      "metadata": {
        "colab": {
          "base_uri": "https://localhost:8080/"
        },
        "id": "JDHkc52L81S9",
        "outputId": "24fa8770-954c-443b-9246-da218a6b6976"
      },
      "source": [
        "print(\"# Training data\")\n",
        "print(\"Number of points:\", len(trainset))\n",
        "x, y = next(iter(trainloader))\n",
        "print(\"Batch dimension [B x C x H x W]:\", x.shape)\n",
        "print(\"Number of distinct labels:\", len(set(trainset.targets)))\n",
        "\n",
        "\n",
        "print(\"\\n# Test data\")\n",
        "print(\"Number of points:\", len(testset))\n",
        "x, y = next(iter(testloader))\n",
        "print(\"Batch dimension [B x C x H x W]:\", x.shape)\n",
        "print(\"Number of distinct labels:\", len(set(testset.targets)))"
      ],
      "execution_count": 3,
      "outputs": [
        {
          "output_type": "stream",
          "name": "stdout",
          "text": [
            "# Training data\n",
            "Number of points: 50000\n",
            "Batch dimension [B x C x H x W]: torch.Size([4, 3, 32, 32])\n",
            "Number of distinct labels: 10\n",
            "\n",
            "# Test data\n",
            "Number of points: 10000\n",
            "Batch dimension [B x C x H x W]: torch.Size([4, 3, 32, 32])\n",
            "Number of distinct labels: 10\n"
          ]
        }
      ]
    },
    {
      "cell_type": "markdown",
      "metadata": {
        "id": "xSA1h94681TB"
      },
      "source": [
        "Let us show some of the training images, for fun.\n",
        "\n"
      ]
    },
    {
      "cell_type": "code",
      "metadata": {
        "colab": {
          "base_uri": "https://localhost:8080/",
          "height": 155
        },
        "id": "njJy0klP81TD",
        "outputId": "4e879ad2-6fe1-47a9-f558-9d52bc595f10"
      },
      "source": [
        "# Run this cell multiple time to see more samples\n",
        "\n",
        "def imshow(img):\n",
        "    \"\"\" show an image \"\"\"\n",
        "    img = img / 2 + 0.5 # unnormalize\n",
        "    npimg = img.numpy()\n",
        "    plt.imshow(np.transpose(npimg, (1, 2, 0)))\n",
        "\n",
        "\n",
        "# get some random training images\n",
        "images, labels = train_data_iter.next()\n",
        "\n",
        "# show images\n",
        "imshow(torchvision.utils.make_grid(images))\n",
        "\n",
        "# print labels\n",
        "print(' '.join('%5s' % classes[labels[j]] for j in range(4)))"
      ],
      "execution_count": 4,
      "outputs": [
        {
          "output_type": "stream",
          "name": "stdout",
          "text": [
            "  dog  ship  bird  frog\n"
          ]
        },
        {
          "output_type": "display_data",
          "data": {
            "image/png": "[encoded data removed]",
            "text/plain": [
              "<Figure size 432x288 with 1 Axes>"
            ]
          },
          "metadata": {
            "needs_background": "light"
          }
        }
      ]
    },
    {
      "cell_type": "markdown",
      "metadata": {
        "id": "Wt3BVFMF81TI"
      },
      "source": [
        "## 2. Define a Convolutional Neural Network\n",
        "\n",
        "**Assignment 1:** Define a convolutional neural network. \n",
        "You may use the code from previous notebooks.\n",
        "We suggest that you start with a small network, and make sure that everything is working.\n",
        "Once you can train successfully come back and improve the architecture"
      ]
    },
    {
      "cell_type": "code",
      "metadata": {
        "colab": {
          "base_uri": "https://localhost:8080/"
        },
        "id": "OGV8QzmdaPmW",
        "outputId": "2fc66fef-70a4-4e4e-9f01-7db87382f256"
      },
      "source": [
        "((16-5+4)/1)+1"
      ],
      "execution_count": 5,
      "outputs": [
        {
          "output_type": "execute_result",
          "data": {
            "text/plain": [
              "16.0"
            ]
          },
          "metadata": {},
          "execution_count": 5
        }
      ]
    },
    {
      "cell_type": "code",
      "metadata": {
        "colab": {
          "base_uri": "https://localhost:8080/"
        },
        "id": "_EsKbw3o81TK",
        "outputId": "e0d8da13-8c99-4186-92c0-2c26b6bb2d9a"
      },
      "source": [
        "from torch.autograd import Variable\n",
        "import torch.nn as nn\n",
        "import torch.nn.functional as F\n",
        "\n",
        "class Net(nn.Module):\n",
        "    def __init__(self, num_classes):\n",
        "        super(Net, self).__init__()\n",
        "        self.num_classes = num_classes\n",
        "        \n",
        "        # Your code here!\n",
        "        self.arch = nn.Sequential(\n",
        "            nn.Conv2d(in_channels=3,\n",
        "                      out_channels=64, \n",
        "                      kernel_size=3, \n",
        "                      padding=1,\n",
        "                      stride=1),\n",
        "            # output dim (64, 32, 32)\n",
        "            nn.BatchNorm2d(64),\n",
        "            nn.MaxPool2d(kernel_size=2, \n",
        "                         stride=2),\n",
        "            # output dim (64, 16, 16)\n",
        "            nn.ReLU(inplace=True),\n",
        "            nn.Conv2d(in_channels=64, \n",
        "                      out_channels=128, \n",
        "                      kernel_size=5, \n",
        "                      padding=2),\n",
        "            nn.Dropout2d(p=0.1),\n",
        "            # output dim (128, 16, 16)\n",
        "            nn.MaxPool2d(kernel_size=2,\n",
        "                         stride=2),\n",
        "            # output dim (128, 8, 8)\n",
        "            nn.ReLU(inplace=True)\n",
        "        )\n",
        "        \n",
        "        # fully connected output layers\n",
        "        # [(W−K+2P)/S]+1\n",
        "        self.fc1_features = 128*8*8\n",
        "        self.fc1 = nn.Linear(in_features=self.fc1_features, \n",
        "                             out_features=500)\n",
        "        self.fc2 = nn.Linear(in_features=500,\n",
        "                             out_features=num_classes)\n",
        "\n",
        "\n",
        "    def forward(self, x):\n",
        "        # Your code here!\n",
        "        x = self.arch(x)\n",
        "        x = x.view(-1, self.fc1_features)\n",
        "        #x = self.dropout(relu(self.l_1(x)))\n",
        "        x = F.relu(self.fc1(x))\n",
        "\n",
        "        return F.log_softmax(self.fc2(x), dim=1)\n",
        "    \n",
        "\n",
        "net = Net(len(used_categories))\n",
        "print(net)"
      ],
      "execution_count": 6,
      "outputs": [
        {
          "output_type": "stream",
          "name": "stdout",
          "text": [
            "Net(\n",
            "  (arch): Sequential(\n",
            "    (0): Conv2d(3, 64, kernel_size=(3, 3), stride=(1, 1), padding=(1, 1))\n",
            "    (1): BatchNorm2d(64, eps=1e-05, momentum=0.1, affine=True, track_running_stats=True)\n",
            "    (2): MaxPool2d(kernel_size=2, stride=2, padding=0, dilation=1, ceil_mode=False)\n",
            "    (3): ReLU(inplace=True)\n",
            "    (4): Conv2d(64, 128, kernel_size=(5, 5), stride=(1, 1), padding=(2, 2))\n",
            "    (5): Dropout2d(p=0.1, inplace=False)\n",
            "    (6): MaxPool2d(kernel_size=2, stride=2, padding=0, dilation=1, ceil_mode=False)\n",
            "    (7): ReLU(inplace=True)\n",
            "  )\n",
            "  (fc1): Linear(in_features=8192, out_features=500, bias=True)\n",
            "  (fc2): Linear(in_features=500, out_features=10, bias=True)\n",
            ")\n"
          ]
        }
      ]
    },
    {
      "cell_type": "markdown",
      "metadata": {
        "id": "7-IUg3sq81TQ"
      },
      "source": [
        "## 3. Define a Loss function and optimizer\n",
        "\n",
        "**Assignment 2:** Implement the criterion and optimizer. \n",
        "We suggest Classification Cross-Entropy loss and SGD with momentum.\n",
        "You might need to experiment a bit with the learning rate."
      ]
    },
    {
      "cell_type": "code",
      "metadata": {
        "id": "48AX85QP81TR"
      },
      "source": [
        "import torch.optim as optim\n",
        "\n",
        "criterion = nn.CrossEntropyLoss()  # Your code here!\n",
        "optimizer = optim.SGD(net.parameters(), lr=0.001, momentum = 0.1)  # Your code here!"
      ],
      "execution_count": 7,
      "outputs": []
    },
    {
      "cell_type": "code",
      "metadata": {
        "colab": {
          "base_uri": "https://localhost:8080/"
        },
        "id": "XZB7coIccg0K",
        "outputId": "3c3548cb-68d6-4f26-f2d9-95f0eee4fcf4"
      },
      "source": [
        "#Test the forward pass with dummy data\n",
        "x = np.random.normal(0,1, (5, 3, 32, 32)).astype('float32')\n",
        "out = net(Variable(torch.from_numpy(x)))\n",
        "out.size(), out"
      ],
      "execution_count": 8,
      "outputs": [
        {
          "output_type": "stream",
          "name": "stderr",
          "text": [
            "/usr/local/lib/python3.7/dist-packages/torch/nn/functional.py:718: UserWarning: Named tensors and all their associated APIs are an experimental feature and subject to change. Please do not use them for anything important until they are released as stable. (Triggered internally at  /pytorch/c10/core/TensorImpl.h:1156.)\n",
            "  return torch.max_pool2d(input, kernel_size, stride, padding, dilation, ceil_mode)\n"
          ]
        },
        {
          "output_type": "execute_result",
          "data": {
            "text/plain": [
              "(torch.Size([5, 10]),\n",
              " tensor([[-2.1538, -2.1453, -2.3692, -2.1702, -2.2166, -2.2055, -2.4324, -2.3367,\n",
              "          -2.6991, -2.4269],\n",
              "         [-2.3340, -2.1430, -2.3134, -2.1402, -2.2437, -2.2343, -2.3113, -2.2658,\n",
              "          -2.6180, -2.5222],\n",
              "         [-2.2360, -2.2925, -2.4194, -2.1059, -2.2510, -2.0963, -2.4356, -2.2120,\n",
              "          -2.6628, -2.4487],\n",
              "         [-2.3614, -2.1508, -2.4136, -2.1520, -2.2863, -2.2304, -2.4015, -2.1799,\n",
              "          -2.6069, -2.3325],\n",
              "         [-2.3018, -2.2044, -2.4268, -2.1419, -2.2625, -2.1778, -2.3992, -2.1651,\n",
              "          -2.6526, -2.4027]], grad_fn=<LogSoftmaxBackward>))"
            ]
          },
          "metadata": {},
          "execution_count": 8
        }
      ]
    },
    {
      "cell_type": "markdown",
      "metadata": {
        "id": "-WneIN7C81TV"
      },
      "source": [
        "## 4. Train the network\n",
        "\n",
        "**Assignment 3:** Finish the training loop below. \n",
        "Start by using a small number of epochs (e.g. 3).\n",
        "Even with a low number of epochs you should be able to see results that are better than chance.\n",
        "When everything is working increase the number of epochs to find out how good your network really is."
      ]
    },
    {
      "cell_type": "code",
      "metadata": {
        "colab": {
          "base_uri": "https://localhost:8080/"
        },
        "id": "NkUanRRb81TW",
        "outputId": "5ddb1383-9d14-4201-ca2a-c346180737c9"
      },
      "source": [
        "num_epoch = 10  # Your code here!\n",
        "use_cuda = True\n",
        "if use_cuda:\n",
        "    net.cuda()\n",
        "for epoch in range(num_epoch):  # loop over the dataset multiple times\n",
        "\n",
        "    running_loss = 0.0\n",
        "    for i, data in enumerate(trainloader, 0):\n",
        "        # get the inputs\n",
        "        inputs, labels = data\n",
        "\n",
        "        # wrap them in Variable\n",
        "        if use_cuda:\n",
        "            inputs, labels = Variable(inputs.cuda()), Variable(labels.cuda())\n",
        "        else:\n",
        "            inputs, labels = Variable(inputs), Variable(labels)\n",
        "        # zero the parameter gradients\n",
        "        # Your code here!\n",
        "        optimizer.zero_grad()\n",
        "\n",
        "\n",
        "        # forward + backward + optimize\n",
        "        # Your code here!\n",
        "        output = net(inputs)\n",
        "        loss = criterion(output, labels)\n",
        "        loss.backward()\n",
        "        optimizer.step()\n",
        "        \n",
        "        # print statistics\n",
        "        running_loss += loss.item()\n",
        "        if i % 1000 == 999:    # print every 1000 mini-batches\n",
        "            print('[%d, %5d] loss: %.3f' %\n",
        "                  (epoch + 1, i + 1, running_loss / 1000))\n",
        "            running_loss = 0.0\n",
        "\n",
        "print('Finished Training')"
      ],
      "execution_count": 9,
      "outputs": [
        {
          "output_type": "stream",
          "name": "stdout",
          "text": [
            "[1,  1000] loss: 2.089\n",
            "[1,  2000] loss: 1.869\n",
            "[1,  3000] loss: 1.704\n",
            "[1,  4000] loss: 1.639\n",
            "[1,  5000] loss: 1.554\n",
            "[1,  6000] loss: 1.501\n",
            "[1,  7000] loss: 1.449\n",
            "[1,  8000] loss: 1.394\n",
            "[1,  9000] loss: 1.379\n",
            "[1, 10000] loss: 1.324\n",
            "[1, 11000] loss: 1.301\n",
            "[1, 12000] loss: 1.245\n",
            "[2,  1000] loss: 1.169\n",
            "[2,  2000] loss: 1.171\n",
            "[2,  3000] loss: 1.131\n",
            "[2,  4000] loss: 1.135\n",
            "[2,  5000] loss: 1.137\n",
            "[2,  6000] loss: 1.082\n",
            "[2,  7000] loss: 1.047\n",
            "[2,  8000] loss: 1.105\n",
            "[2,  9000] loss: 1.051\n",
            "[2, 10000] loss: 1.047\n",
            "[2, 11000] loss: 1.013\n",
            "[2, 12000] loss: 1.059\n",
            "[3,  1000] loss: 0.946\n",
            "[3,  2000] loss: 0.954\n",
            "[3,  3000] loss: 0.958\n",
            "[3,  4000] loss: 0.934\n",
            "[3,  5000] loss: 0.915\n",
            "[3,  6000] loss: 0.954\n",
            "[3,  7000] loss: 0.915\n",
            "[3,  8000] loss: 0.906\n",
            "[3,  9000] loss: 0.887\n",
            "[3, 10000] loss: 0.876\n",
            "[3, 11000] loss: 0.905\n",
            "[3, 12000] loss: 0.893\n",
            "[4,  1000] loss: 0.799\n",
            "[4,  2000] loss: 0.801\n",
            "[4,  3000] loss: 0.815\n",
            "[4,  4000] loss: 0.803\n",
            "[4,  5000] loss: 0.836\n",
            "[4,  6000] loss: 0.782\n",
            "[4,  7000] loss: 0.793\n",
            "[4,  8000] loss: 0.783\n",
            "[4,  9000] loss: 0.793\n",
            "[4, 10000] loss: 0.799\n",
            "[4, 11000] loss: 0.789\n",
            "[4, 12000] loss: 0.798\n",
            "[5,  1000] loss: 0.700\n",
            "[5,  2000] loss: 0.671\n",
            "[5,  3000] loss: 0.714\n",
            "[5,  4000] loss: 0.731\n",
            "[5,  5000] loss: 0.689\n",
            "[5,  6000] loss: 0.681\n",
            "[5,  7000] loss: 0.724\n",
            "[5,  8000] loss: 0.710\n",
            "[5,  9000] loss: 0.706\n",
            "[5, 10000] loss: 0.683\n",
            "[5, 11000] loss: 0.695\n",
            "[5, 12000] loss: 0.704\n",
            "[6,  1000] loss: 0.618\n",
            "[6,  2000] loss: 0.610\n",
            "[6,  3000] loss: 0.575\n",
            "[6,  4000] loss: 0.599\n",
            "[6,  5000] loss: 0.591\n",
            "[6,  6000] loss: 0.591\n",
            "[6,  7000] loss: 0.649\n",
            "[6,  8000] loss: 0.617\n",
            "[6,  9000] loss: 0.613\n",
            "[6, 10000] loss: 0.625\n",
            "[6, 11000] loss: 0.612\n",
            "[6, 12000] loss: 0.629\n",
            "[7,  1000] loss: 0.508\n",
            "[7,  2000] loss: 0.485\n",
            "[7,  3000] loss: 0.513\n",
            "[7,  4000] loss: 0.544\n",
            "[7,  5000] loss: 0.520\n",
            "[7,  6000] loss: 0.511\n",
            "[7,  7000] loss: 0.530\n",
            "[7,  8000] loss: 0.535\n",
            "[7,  9000] loss: 0.545\n",
            "[7, 10000] loss: 0.526\n",
            "[7, 11000] loss: 0.531\n",
            "[7, 12000] loss: 0.554\n",
            "[8,  1000] loss: 0.439\n",
            "[8,  2000] loss: 0.427\n",
            "[8,  3000] loss: 0.453\n",
            "[8,  4000] loss: 0.434\n",
            "[8,  5000] loss: 0.460\n",
            "[8,  6000] loss: 0.425\n",
            "[8,  7000] loss: 0.457\n",
            "[8,  8000] loss: 0.435\n",
            "[8,  9000] loss: 0.458\n",
            "[8, 10000] loss: 0.453\n",
            "[8, 11000] loss: 0.461\n",
            "[8, 12000] loss: 0.433\n",
            "[9,  1000] loss: 0.339\n",
            "[9,  2000] loss: 0.357\n",
            "[9,  3000] loss: 0.360\n",
            "[9,  4000] loss: 0.368\n",
            "[9,  5000] loss: 0.373\n",
            "[9,  6000] loss: 0.369\n",
            "[9,  7000] loss: 0.351\n",
            "[9,  8000] loss: 0.365\n",
            "[9,  9000] loss: 0.370\n",
            "[9, 10000] loss: 0.376\n",
            "[9, 11000] loss: 0.396\n",
            "[9, 12000] loss: 0.368\n",
            "[10,  1000] loss: 0.265\n",
            "[10,  2000] loss: 0.284\n",
            "[10,  3000] loss: 0.282\n",
            "[10,  4000] loss: 0.299\n",
            "[10,  5000] loss: 0.277\n",
            "[10,  6000] loss: 0.302\n",
            "[10,  7000] loss: 0.304\n",
            "[10,  8000] loss: 0.282\n",
            "[10,  9000] loss: 0.299\n",
            "[10, 10000] loss: 0.311\n",
            "[10, 11000] loss: 0.302\n",
            "[10, 12000] loss: 0.304\n",
            "Finished Training\n"
          ]
        }
      ]
    },
    {
      "cell_type": "markdown",
      "metadata": {
        "id": "0qAsbC8I81Ta"
      },
      "source": [
        "## 5. Test the network on the test data\n",
        "\n",
        "Now we need to check if the network has learnt anything at all.\n",
        "We will check this by predicting the class label that the neural network outputs, and checking it against the ground truth.\n",
        "If the prediction is correct, we add the sample to the list of correct predictions.\n",
        "\n",
        "Okay, first step. Let us display an image from the test set to get familiar."
      ]
    },
    {
      "cell_type": "code",
      "metadata": {
        "colab": {
          "base_uri": "https://localhost:8080/",
          "height": 172
        },
        "id": "7LT0RoAC81Tc",
        "outputId": "904815e3-c8bc-4b41-9b44-36ee7c50c4e1"
      },
      "source": [
        "images, labels = test_data_iter.next()\n",
        "\n",
        "# print images\n",
        "imshow(torchvision.utils.make_grid(images))\n",
        "plt.show()\n",
        "\n",
        "print('GroundTruth:  ', ' '.join('%5s' % classes[labels[j]] for j in range(4)))\n",
        "if use_cuda:\n",
        "  images = images.cuda()\n",
        "outputs = net(images)\n",
        "_, predicted = torch.max(outputs.data, 1)\n",
        "print('Predicted:    ', ' '.join('%5s' % classes[predicted[j]] for j in range(4)))"
      ],
      "execution_count": 13,
      "outputs": [
        {
          "output_type": "display_data",
          "data": {
            "image/png": "[encoded data removed]",
            "text/plain": [
              "<Figure size 432x288 with 1 Axes>"
            ]
          },
          "metadata": {
            "needs_background": "light"
          }
        },
        {
          "output_type": "stream",
          "name": "stdout",
          "text": [
            "GroundTruth:    bird  frog  deer horse\n",
            "Predicted:      deer  frog  deer horse\n"
          ]
        }
      ]
    },
    {
      "cell_type": "markdown",
      "metadata": {
        "id": "ISA6LJJO81Tg"
      },
      "source": [
        "Let us look at how the network performs on the whole dataset."
      ]
    },
    {
      "cell_type": "code",
      "metadata": {
        "colab": {
          "base_uri": "https://localhost:8080/"
        },
        "id": "Smv6_BwF81Ti",
        "outputId": "d677bf9f-b08e-4821-a8f6-19eb31d85bc3"
      },
      "source": [
        "correct = 0\n",
        "total = 0\n",
        "\n",
        "for data in testloader:\n",
        "    images, labels = data\n",
        "    if use_cuda:\n",
        "        inputs, labels = Variable(inputs.cuda()), Variable(labels.cuda())\n",
        "        images = images.cuda()\n",
        "    else:\n",
        "        inputs, labels = Variable(inputs), Variable(labels)\n",
        "    outputs = net(Variable(images))\n",
        "    _, predicted = torch.max(outputs.data, 1)\n",
        "    total += labels.size(0)\n",
        "    correct += (predicted == labels).sum()\n",
        "\n",
        "print('Accuracy of the network on the {} test images: {:4.2f} %'.format(\n",
        "    testset.data.shape[0], 100 * correct.true_divide(total)))"
      ],
      "execution_count": 14,
      "outputs": [
        {
          "output_type": "stream",
          "name": "stdout",
          "text": [
            "Accuracy of the network on the 10000 test images: 74.70 %\n"
          ]
        }
      ]
    },
    {
      "cell_type": "markdown",
      "metadata": {
        "id": "QMZRvhaW81Tl"
      },
      "source": [
        "Hopefully the network is better than chance, which is $\\frac{1}{\\text{number of classes}}$ accuracy (randomly picking\n",
        "a class).\n",
        "\n",
        "\n",
        "We can also examine which class the network found the most difficult (makes more sense if you have many clases):"
      ]
    },
    {
      "cell_type": "code",
      "metadata": {
        "colab": {
          "base_uri": "https://localhost:8080/"
        },
        "id": "WqVTQgKq81Tl",
        "outputId": "198824f1-4d1b-4677-e91e-24af21256b00"
      },
      "source": [
        "class_total = list(0. for i in range(len(classes)))\n",
        "class_correct = list(0. for i in range(len(classes)))\n",
        "\n",
        "for data in testloader:\n",
        "    images, labels = data\n",
        "    if use_cuda:\n",
        "        inputs, labels = Variable(inputs.cuda()), Variable(labels.cuda())\n",
        "        images = images.cuda()\n",
        "    else:\n",
        "        inputs, labels = Variable(inputs), Variable(labels)\n",
        "    outputs = net(Variable(images))\n",
        "    _, predicted = torch.max(outputs.data, 1)\n",
        "    c = (predicted == labels).squeeze()\n",
        "    \n",
        "    for i in range(len(c)):\n",
        "        label = labels[i]\n",
        "        class_correct[label] += c[i].cpu().numpy()\n",
        "        class_total[label] += 1\n",
        "\n",
        "for i in range(len(classes)):\n",
        "    print('Accuracy of {:5s} : {:5.2f} %'.format(\n",
        "        classes[i], 100 * class_correct[i] / class_total[i]))"
      ],
      "execution_count": 15,
      "outputs": [
        {
          "output_type": "stream",
          "name": "stdout",
          "text": [
            "Accuracy of plane : 80.20 %\n",
            "Accuracy of car   : 87.30 %\n",
            "Accuracy of bird  : 72.00 %\n",
            "Accuracy of cat   : 45.90 %\n",
            "Accuracy of deer  : 61.70 %\n",
            "Accuracy of dog   : 73.00 %\n",
            "Accuracy of frog  : 80.70 %\n",
            "Accuracy of horse : 76.40 %\n",
            "Accuracy of ship  : 84.30 %\n",
            "Accuracy of truck : 85.00 %\n"
          ]
        }
      ]
    },
    {
      "cell_type": "markdown",
      "metadata": {
        "id": "ocnQOBAl81Tn"
      },
      "source": [
        "**Assignment 4:** \n",
        "1. Go back and improve performance of the network. \n",
        " * If you are using all 10 classes you should get a test accuracy above 55%, but see how much further you can get it!\n",
        " * If you are using only 2 classes (e.g. cat and dog) you should get a test accuracy above 60%, but see how much further you can get it!\n",
        "\n",
        "2. Briefly describe what you did and any experiments you did along the way as well as what results you obtained.\n",
        "Did anything surprise you during the exercise?\n",
        "\n",
        "3. Write down key lessons/insights you got (if any) during this exercise.\n",
        "\n",
        "**Answer:**"
      ]
    },
    {
      "cell_type": "markdown",
      "metadata": {
        "id": "4j79l_itKQZp"
      },
      "source": [
        "**2.** First I did a simple network without batchnorm and dropout and with just 16 filters on one layer and 32 on the second hidden layer. Also the fully connected layer before the output one had only 50 nodes. I was testing this network on just dogs and cats images and got around 70% accuracy but the accuracy on one of the classes was much higher than the other one. Then I added batchnorm and dropout and achieved 72% accuracy on test data for both cats and dogs.\n",
        "\n",
        "After getting satisfying results on cats and dogs I switched to 10 classes problems. I had around 70% accuracy after 10 epochs and checked couple of different combinations of filter numbers, strides and paddings eventually getting the above results of almost 75% average accuracy in just 10 epochs and 2 convolution layers.\n",
        "\n",
        "**3.** During this exercise I learned how to calculate the dimensions for different layers in CNNs and what are good combinations to achieve decent results while still keeping the network very simple and understandable to a human being. "
      ]
    },
    {
      "cell_type": "markdown",
      "metadata": {
        "id": "8Nzefavy81To"
      },
      "source": [
        "# Training on GPU\n",
        "\n",
        "**Optional Assignment:**\n",
        "If you have a GPU we suggest that you try and rewrite the code above to run on the GPU\n",
        "___\n",
        "\n",
        "Just like how you transfer a Tensor on to the GPU, you transfer the neural net onto the GPU.\n",
        "This will recursively go over all modules and convert their parameters and buffers to CUDA tensors:\n",
        "\n",
        "```\n",
        "    net.cuda()\n",
        "```\n",
        "\n",
        "Remember that you will have to send the inputs and targets at every step to the GPU too:\n",
        "\n",
        "```\n",
        "    inputs, labels = Variable(inputs.cuda()), Variable(labels.cuda())\n",
        "```\n",
        "\n",
        "Why dont I notice MASSIVE speedup compared to CPU? \n",
        "Because your network is realllly small.\n",
        "\n",
        "**Exercise:** Try increasing the width of your network (argument 2 of\n",
        "the first ``nn.Conv2d``, and argument 1 of the second ``nn.Conv2d`` –\n",
        "they need to be the same number), see what kind of speedup you get.\n",
        "\n",
        "**Goals achieved**:\n",
        "\n",
        "- Understanding PyTorch's Tensor library and neural networks at a high level.\n",
        "- Train a small neural network to classify images\n",
        "\n",
        "## Setting up GPU in Colab\n",
        "\n",
        "In Colab, you will get 12 hours of execution time but the session will be disconnected if you are idle for more than 60 minutes. It means that for every 12 hours Disk, RAM, CPU Cache and the Data that is on our allocated virtual machine will get erased.\n",
        "\n",
        "To enable GPU hardware accelerator, just go to **Runtime -> Change runtime type -> Hardware accelerator -> GPU**"
      ]
    },
    {
      "cell_type": "markdown",
      "metadata": {
        "id": "b8mEIylU81Tp"
      },
      "source": [
        "# Michael Nielsen book exercise of own choice\n",
        "\n",
        "**Assignment 5:** Pick an exercise of own choice from [Michael Nielsens book](http://neuralnetworksanddeeplearning.com/)\n",
        "\n",
        "**Answer:**\n",
        "\n",
        "\n",
        "\n"
      ]
    },
    {
      "cell_type": "markdown",
      "metadata": {
        "id": "Y4NTrINMOncr"
      },
      "source": [
        "**Task from chapter 3:** Verify that the standard deviation of $z=\\sum_{j}w_jx_j+b$ in the paragraph above is $\\sqrt{\\frac{3}{2}}$.\n",
        "It may help to know that: (a) the variance of a sum of independent random variables\n",
        "is the sum of the variances of the individual random variables; and (b) the variance is\n",
        "the square of the standard deviation\n",
        "\n",
        "**Answer:**\n",
        "\n",
        "$z$ in this task is equal to $z=\\sum_{j}w_jx_j+b$. We also know that the weights have mean $0$ and standard deviation of $1/\\sqrt{n_{in}}$ where $n_{in}$ is a number of input nodes (in our case 1000). It is also given that 500 of the inputs are zero and 500 are 1. Bias has $0$ mean and variance equal to $1$.\n",
        "\n",
        "Now we can calculate $V(z)$. \n",
        "$$ V(z) = V(\\sum_{j}w_jx_j+b) = V(\\sum_{j}w_jx_j)+V(b)$$\n",
        "Now if we consider $J$ as a set of inputs which are not 0, thus equal to 1. Also keeping in mind that weights are independent random variables:\n",
        "$$ V(z) = V(\\sum\\limits_{z \\in J}w_jx_j)+V(b) = V(\\sum\\limits_{z \\in J}w_j)+V(b) = \\frac{n_{in}}{2}\\frac{1}{n_{in}} + 1 = \\frac{3}{2}$$ That is because we sum over half of the input neurons and each of the weights has variance $\\frac{1}{n_{in}}$.\n",
        "\n",
        "$std(z) = \\sqrt{V(z)}=\\sqrt{\\frac{3}{2}}$\n"
      ]
    },
    {
      "cell_type": "code",
      "metadata": {
        "id": "ZyvqfQt4Ta8W"
      },
      "source": [
        ""
      ],
      "execution_count": null,
      "outputs": []
    }
  ]
}