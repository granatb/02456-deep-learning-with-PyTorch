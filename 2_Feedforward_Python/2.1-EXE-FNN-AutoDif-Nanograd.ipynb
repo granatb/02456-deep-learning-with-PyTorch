{
 "cells": [
  {
   "cell_type": "markdown",
   "metadata": {
    "id": "HAva8TnYFtFu"
   },
   "source": [
    "# Contents and why we need this lab\n",
    "\n",
    "This lab is about implementing neural networks yourself before we start using other frameworks which hide some of the computation from you. It builds on the first lab where you derived the equations for neural network forward and backward propagation and gradient descent parameter updates. \n",
    "\n",
    "All the frameworks for deep learning you will meet from now on uses automatic differentiation (autodiff) so you don't have to code the backward step yourself. In this version of this lab you will develop your own autodif implementation. We also have a [version](https://github.com/DeepLearningDTU/02456-deep-learning-with-PyTorch/blob/master/2_Feedforward_NumPy/2.1-FNN-NumPy.ipynb) of this lab where you have to code the backward pass explicitly in Numpy."
   ]
  },
  {
   "cell_type": "markdown",
   "metadata": {
    "id": "sCa7HzwpFtFy"
   },
   "source": [
    "# External sources of information\n",
    "\n",
    "1. Jupyter notebook. You can find more information about Jupyter notebooks [here](https://jupyter.org/). It will come as part of the [Anaconda](https://www.anaconda.com/) Python installation. \n",
    "2. [NumPy](https://numpy.org/). Part of Anaconda distribution. If you already know how to program most things about Python and NumPy can be found through Google search.\n",
    "3. [Nanograd](https://github.com/rasmusbergpalm/nanograd) is a minimalistic version of autodiff developed by Rasmus Berg Palm that we use for our framework.\n"
   ]
  },
  {
   "cell_type": "markdown",
   "metadata": {
    "id": "1SjiIp-TFtF0"
   },
   "source": [
    "# This notebook will follow the next steps:\n",
    "\n",
    "1. Nanograd automatic differentiation framework\n",
    "2. Finite difference method\n",
    "3. Data generation\n",
    "4. Defining and initializing the network\n",
    "5. Forward pass\n",
    "6. Training loop \n",
    "7. Testing your model\n",
    "8. Further extensions"
   ]
  },
  {
   "cell_type": "markdown",
   "metadata": {
    "id": "OyXeAA-HuT7s"
   },
   "source": [
    "# Nanograd automatic differention framework"
   ]
  },
  {
   "cell_type": "markdown",
   "metadata": {
    "id": "k6UWKCLKubgA"
   },
   "source": [
    "The [Nanograd](https://github.com/rasmusbergpalm/nanograd) framework defines a class Var which both holds a value and gradient value that we can use to store the intermediate values when we apply the chain rule of differentiation."
   ]
  },
  {
   "cell_type": "code",
   "execution_count": 42,
   "metadata": {
    "id": "Jd4CoEBNzNWS"
   },
   "outputs": [],
   "source": [
    "# Copy and pasted from https://github.com/rasmusbergpalm/nanograd/blob/main/nanograd.py\n",
    "\n",
    "from math import exp, log, tanh\n",
    "\n",
    "class Var:\n",
    "    \"\"\"\n",
    "    A variable which holds a float and enables gradient computations.\n",
    "    \"\"\"\n",
    "\n",
    "    def __init__(self, val: float, grad_fn=lambda: []):\n",
    "        assert type(val) == float\n",
    "        self.v = val\n",
    "        self.grad_fn = grad_fn\n",
    "        self.grad = 0.0\n",
    "\n",
    "    def backprop(self, bp):\n",
    "        self.grad += bp\n",
    "        for input, grad in self.grad_fn():\n",
    "            input.backprop(grad * bp)\n",
    "\n",
    "    def backward(self):\n",
    "        self.backprop(1.0)\n",
    "\n",
    "    def __add__(self: 'Var', other: 'Var') -> 'Var':\n",
    "        return Var(self.v + other.v, lambda: [(self, 1.0), (other, 1.0)])\n",
    "\n",
    "    def __mul__(self: 'Var', other: 'Var') -> 'Var':\n",
    "        return Var(self.v * other.v, lambda: [(self, other.v), (other, self.v)])\n",
    "\n",
    "    def __pow__(self, power):\n",
    "        assert type(power) in {float, int}, \"power must be float or int\"\n",
    "        return Var(self.v ** power, lambda: [(self, power * self.v ** (power - 1))])\n",
    "\n",
    "    def __neg__(self: 'Var') -> 'Var':\n",
    "        return Var(-1.0) * self\n",
    "\n",
    "    def __sub__(self: 'Var', other: 'Var') -> 'Var':\n",
    "        return self + (-other)\n",
    "\n",
    "    def __truediv__(self: 'Var', other: 'Var') -> 'Var':\n",
    "        return self * other ** -1\n",
    "\n",
    "    def __repr__(self):\n",
    "        return \"Var(v=%.4f, grad=%.4f)\" % (self.v, self.grad)\n",
    "\n",
    "    def relu(self):\n",
    "        return Var(self.v if self.v > 0.0 else 0.0, lambda: [(self, 1.0 if self.v > 0.0 else 0.0)])\n",
    "    \n",
    "    def tanhi(self):\n",
    "        return Var(tanh(self.v), lambda: [(self, 1-tanh(self.v)**2)])\n",
    "    \n",
    "    def sigmoid_x(self, x):\n",
    "        return 1/(1+exp(-x))\n",
    "                  \n",
    "    def sigmoid(self):\n",
    "        return Var(self.sigmoid_x(self.v), lambda: [(self, self.sigmoid_x(self.v)*(1-self.sigmoid_x(self.v)))])\n",
    "    \n",
    "    def identity(self):\n",
    "        return self\n",
    "    \n",
    "    def exp(self):\n",
    "        return Var(exp(self.v), lambda: [(self, exp(self.v))])\n",
    "    \n",
    "    def log(self):\n",
    "        return Var(log(self.v), lambda: [(self, self.v ** -1)])"
   ]
  },
  {
   "cell_type": "markdown",
   "metadata": {
    "id": "yDX67D6jzcte"
   },
   "source": [
    "A few examples illustrate how we can use this:"
   ]
  },
  {
   "cell_type": "code",
   "execution_count": 5,
   "metadata": {
    "colab": {
     "base_uri": "https://localhost:8080/"
    },
    "id": "xk6PeLc3zwPT",
    "outputId": "1e8c6d68-749a-44c3-8fce-0029dcc3215b"
   },
   "outputs": [
    {
     "name": "stdout",
     "output_type": "stream",
     "text": [
      "Var(v=3.0000, grad=5.0000)\n",
      "Var(v=5.0000, grad=3.0000)\n",
      "Var(v=15.0000, grad=1.0000)\n"
     ]
    }
   ],
   "source": [
    "a = Var(3.0)\n",
    "b = Var(5.0)\n",
    "f = a * b\n",
    "\n",
    "f.backward()\n",
    "\n",
    "for v in [a, b, f]:\n",
    "    print(v)"
   ]
  },
  {
   "cell_type": "code",
   "execution_count": 6,
   "metadata": {
    "colab": {
     "base_uri": "https://localhost:8080/"
    },
    "id": "JmKhYgsY0g_o",
    "outputId": "d86771b7-4166-40a5-8b35-8a46a5d7b1e9"
   },
   "outputs": [
    {
     "name": "stdout",
     "output_type": "stream",
     "text": [
      "Var(v=3.0000, grad=14.0000)\n",
      "Var(v=5.0000, grad=3.0000)\n",
      "Var(v=15.0000, grad=1.0000)\n",
      "Var(v=9.0000, grad=3.0000)\n",
      "Var(v=27.0000, grad=1.0000)\n",
      "Var(v=42.0000, grad=1.0000)\n"
     ]
    }
   ],
   "source": [
    "a = Var(3.0)\n",
    "b = Var(5.0)\n",
    "c = a * b\n",
    "d = Var(9.0)\n",
    "e = a * d\n",
    "f = c + e\n",
    "\n",
    "f.backward()\n",
    "\n",
    "for v in [a, b, c, d, e, f]:\n",
    "    print(v)"
   ]
  },
  {
   "cell_type": "markdown",
   "metadata": {
    "id": "Fe3B6uEH140p"
   },
   "source": [
    "## Exercise a) What is being calculated?\n",
    "\n",
    "Explain briefly the output of the code? What is the expression we differentiate and with respect to what variables?\n",
    "\n",
    "We calculate the value of $a*b$ and then calculate $\\frac{\\partial f}{\\partial a}$ and $\\frac{\\partial f}{\\partial b}$. The value of derivative of $f$ with respect to $a$ is stored as a.grad and derivative of $f$ with respect to $b$ is stored as b.grad. f.grad is equal to 1 but we do not really calculate any derivative here as we start the backprop from $f$."
   ]
  },
  {
   "cell_type": "markdown",
   "metadata": {
    "id": "q8_Q0t2I3Ruj"
   },
   "source": [
    "#### Exercise b) How does the backward function work?\n",
    "\n",
    "For the first example above, make a schematic of the data structure which is generated when we define the expression for f. Then execture the backward function by hand to convince yourself that it indeed calculates the gradients with respect to the variables. Write down the sequence of calls to backprop for the first example above."
   ]
  },
  {
   "cell_type": "markdown",
   "metadata": {},
   "source": [
    "The data structure for $f$ is following:\n",
    "$$f=a*b=Var(15.0, [(Var(3.0),5.0), (Var(5.0),3.0)])$$\n",
    "\n",
    "Then we follow the sequence:\n",
    "- call the backprop with the bp value of 1 - it is just for the implementation purpose\n",
    "- call the backprop first for the $Var(3.0)$ and grad value of $5$ which is equal to $\\frac{\\partial f}{\\partial a}=b$\n",
    "- call the backprop for the $Var(5.0)$ and grad value of $3$ which is equal to $\\frac{\\partial f}{\\partial b}=a$\n",
    "\n",
    "Those are all of the calls to backprop in the first example"
   ]
  },
  {
   "cell_type": "markdown",
   "metadata": {
    "id": "A5oi21W4gpeM"
   },
   "source": [
    "## Exercise c) What happens if we run backward again?\n",
    "\n",
    "Try to execute the code below. Explain what happens."
   ]
  },
  {
   "cell_type": "code",
   "execution_count": 7,
   "metadata": {
    "colab": {
     "base_uri": "https://localhost:8080/"
    },
    "id": "DCtpJyr-gyX1",
    "outputId": "86d38af1-1c6e-487b-f4e6-bf29f0bb105e"
   },
   "outputs": [
    {
     "name": "stdout",
     "output_type": "stream",
     "text": [
      "Var(v=3.0000, grad=28.0000)\n",
      "Var(v=5.0000, grad=6.0000)\n",
      "Var(v=15.0000, grad=2.0000)\n",
      "Var(v=9.0000, grad=6.0000)\n",
      "Var(v=27.0000, grad=2.0000)\n",
      "Var(v=42.0000, grad=2.0000)\n"
     ]
    }
   ],
   "source": [
    "f.backward()\n",
    "\n",
    "for v in [a, b, c, d, e, f]:\n",
    "    print(v)"
   ]
  },
  {
   "cell_type": "markdown",
   "metadata": {},
   "source": [
    "If we run backword again we essentially call backprop again for each step and add grads to already calculated ones. The function does not have any memory to know wether we already did call the backprop or not. The state of the Var objects is not changing when we call the function apart from the grads values so we should just use it once to acquire the proper gradient values"
   ]
  },
  {
   "cell_type": "markdown",
   "metadata": {
    "id": "e8bPVq2VhsP-"
   },
   "source": [
    "## Exercise d) Zero gradient\n",
    "\n",
    "We can zero the gradient by backpropagating a -1.0 as is shown in the example below. (If you have run backward multiple time then you also have to run the cell below an equal amount of times.) Explain what is going on."
   ]
  },
  {
   "cell_type": "code",
   "execution_count": 8,
   "metadata": {
    "colab": {
     "base_uri": "https://localhost:8080/"
    },
    "id": "OnyPDQx9lJe0",
    "outputId": "0b86a0c1-3dc7-4f72-e661-649fa7b53c3a"
   },
   "outputs": [
    {
     "name": "stdout",
     "output_type": "stream",
     "text": [
      "Var(v=2.0000, grad=0.0000)\n",
      "Var(v=5.0000, grad=6.0000)\n",
      "Var(v=15.0000, grad=2.0000)\n",
      "Var(v=9.0000, grad=6.0000)\n",
      "Var(v=27.0000, grad=2.0000)\n",
      "Var(v=42.0000, grad=2.0000)\n",
      "Var(v=2.0000, grad=0.0000)\n",
      "Var(v=5.0000, grad=3.0000)\n",
      "Var(v=15.0000, grad=1.0000)\n",
      "Var(v=9.0000, grad=3.0000)\n",
      "Var(v=27.0000, grad=1.0000)\n",
      "Var(v=42.0000, grad=1.0000)\n"
     ]
    }
   ],
   "source": [
    "a = Var(2.0)\n",
    "\n",
    "for v in [a, b, c, d, e, f]:\n",
    "    print(v)\n",
    "\n",
    "f.backprop(-1.0)\n",
    "\n",
    "for v in [a, b, c, d, e, f]:\n",
    "    print(v)"
   ]
  },
  {
   "cell_type": "markdown",
   "metadata": {},
   "source": [
    "When we call the backprop function for the grad_fn elements we call it with an argument of $grad*bp$ if we set $bp$ to $-1$ we essentially do the same calculations as before but we subtract each gradient value instead of adding it. That's why doing the same number of backprop calls with the value of $1$ and $-1$ will always zero the gradient values."
   ]
  },
  {
   "cell_type": "markdown",
   "metadata": {
    "id": "U4057_ljNvWB"
   },
   "source": [
    "## Exercise e) Test correctness of derivatives with the finite difference method\n",
    "\n",
    "Write a small function that uses [the finite difference method](https://en.wikipedia.org/wiki/Finite_difference_method) to numerically test that backpropation implementation is working. In short we will use\n",
    "$$\n",
    "\\frac{\\partial f(a)}{\\partial a} \\approx \\frac{f(a+da)-f(a)}{da}\n",
    "$$\n",
    "for $da \\ll 1$.\n",
    "\n",
    "\n",
    "_Insert your code in the cell below._\n"
   ]
  },
  {
   "cell_type": "code",
   "execution_count": 9,
   "metadata": {
    "colab": {
     "base_uri": "https://localhost:8080/"
    },
    "id": "9TGil92lSXDN",
    "outputId": "4993ad11-b380-487c-bcf2-c29a12ef60e1"
   },
   "outputs": [
    {
     "name": "stdout",
     "output_type": "stream",
     "text": [
      "Var(v=3.0000, grad=5.0000)\n",
      "Var(v=5.0000, grad=3.0000)\n",
      "Var(v=15.0000, grad=1.0000)\n",
      "5.000000413701855\n"
     ]
    }
   ],
   "source": [
    "# test function - try to change into other functions as well\n",
    "def test_function(a):\n",
    "    a = Var(a)\n",
    "    b = Var(5.0)\n",
    "    f = a * b\n",
    "    f.backward()\n",
    "    return a,b,f\n",
    "\n",
    "for v in test_function(3.0):\n",
    "    print(v)\n",
    "\n",
    "# Insert your finite difference code here\n",
    "def finite_difference(a,b,da=1e-10):\n",
    "    \"\"\"\n",
    "    This function compute the finite difference between\n",
    "    \n",
    "    Input:\n",
    "    da:          The finite difference                           (float)\n",
    "    a:          parameter                           (float)\n",
    "    b:          constant                           (float)\n",
    "    \n",
    "    Output:\n",
    "    finite_difference: numerical approximation to the derivative (float) \n",
    "    \"\"\"\n",
    "    \n",
    "    fa_da = b*(a+da)           # <- Insert correct expression\n",
    "    fa = b*a               # <- Insert correct expression\n",
    "\n",
    "    finite_difference = (fa_da - fa) / da\n",
    "    \n",
    "    return finite_difference\n",
    "\n",
    "print(finite_difference(3,5))"
   ]
  },
  {
   "cell_type": "markdown",
   "metadata": {
    "id": "6pZar5RKaUkg"
   },
   "source": [
    "# Create an artificial dataset to play with\n",
    "\n",
    "We create a non-linear 1d regression task. The generator supports various noise levels and it creates train, validation and test sets. You can modify it yourself if you want more or less challenging tasks."
   ]
  },
  {
   "cell_type": "code",
   "execution_count": 10,
   "metadata": {
    "id": "Y6yfMAQ8aduj"
   },
   "outputs": [],
   "source": [
    "import numpy as np\n",
    "import matplotlib.pyplot as plt\n",
    "\n",
    "np.random.seed(42)"
   ]
  },
  {
   "cell_type": "code",
   "execution_count": 11,
   "metadata": {
    "id": "4YabfD43ajNh"
   },
   "outputs": [],
   "source": [
    "def data_generator(noise=0.1, n_samples=300, D1=True):\n",
    "    # Create covariates and response variable\n",
    "    if D1:\n",
    "        X = np.linspace(-3, 3, num=n_samples).reshape(-1,1) # 1-D\n",
    "        np.random.shuffle(X)\n",
    "        y = np.random.normal((0.5*np.sin(X[:,0]*3) + X[:,0]), noise) # 1-D with trend\n",
    "    else:\n",
    "        X = np.random.multivariate_normal(np.zeros(3), noise*np.eye(3), size = n_samples) # 3-D\n",
    "        np.random.shuffle(X)    \n",
    "        y = np.sin(X[:,0]) - 5*(X[:,1]**2) + 0.5*X[:,2] # 3-D\n",
    "\n",
    "    # Stack them together vertically to split data set\n",
    "    data_set = np.vstack((X.T,y)).T\n",
    "    \n",
    "    train, validation, test = np.split(data_set, [int(0.35*n_samples), int(0.7*n_samples)], axis=0)\n",
    "    \n",
    "    # Standardization of the data, remember we do the standardization with the training set mean and standard deviation\n",
    "    train_mu = np.mean(train, axis=0)\n",
    "    train_sigma = np.std(train, axis=0)\n",
    "    \n",
    "    train = (train-train_mu)/train_sigma\n",
    "    validation = (validation-train_mu)/train_sigma\n",
    "    test = (test-train_mu)/train_sigma\n",
    "    \n",
    "    x_train, x_validation, x_test = train[:,:-1], validation[:,:-1], test[:,:-1]\n",
    "    y_train, y_validation, y_test = train[:,-1], validation[:,-1], test[:,-1]\n",
    "\n",
    "    return x_train, y_train,  x_validation, y_validation, x_test, y_test"
   ]
  },
  {
   "cell_type": "code",
   "execution_count": 12,
   "metadata": {
    "id": "u1oDngHLapIz"
   },
   "outputs": [],
   "source": [
    "D1 = True\n",
    "x_train, y_train,  x_validation, y_validation, x_test, y_test = data_generator(noise=0.5, D1=D1)"
   ]
  },
  {
   "cell_type": "code",
   "execution_count": 13,
   "metadata": {
    "colab": {
     "base_uri": "https://localhost:8080/",
     "height": 265
    },
    "id": "Ysfa3FsBavlm",
    "outputId": "26d5d03c-6c26-47ce-cbab-676c99c30b73"
   },
   "outputs": [
    {
     "data": {
      "image/png": "[encoded data removed]",
      "text/plain": [
       "<Figure size 432x288 with 1 Axes>"
      ]
     },
     "metadata": {
      "needs_background": "light"
     },
     "output_type": "display_data"
    }
   ],
   "source": [
    "if D1:\n",
    "    plt.scatter(x_train[:,0], y_train);\n",
    "    plt.scatter(x_validation[:,0], y_validation);\n",
    "    plt.scatter(x_test[:,0], y_test);\n",
    "else:\n",
    "    plt.scatter(x_train[:,1], y_train);\n",
    "    plt.scatter(x_validation[:,1], y_validation);\n",
    "    plt.scatter(x_test[:,1], y_test);\n",
    "plt.show()"
   ]
  },
  {
   "cell_type": "code",
   "execution_count": 14,
   "metadata": {
    "id": "zac2HHNlgbpm"
   },
   "outputs": [],
   "source": [
    "# convert from nparray to Var\n",
    "def nparray_to_Var(x):\n",
    "    if x.ndim==1:\n",
    "        y = [[Var(float(x[i]))] for i in range(x.shape[0])] # always work with list of list\n",
    "    else:\n",
    "        y = [[Var(float(x[i,j])) for j in range(x.shape[1])] for i in range(x.shape[0])]\n",
    "    return y\n",
    "   \n",
    "x_train = nparray_to_Var(x_train)\n",
    "y_train = nparray_to_Var(y_train)\n",
    "x_validation = nparray_to_Var(x_validation)\n",
    "y_validation = nparray_to_Var(y_validation)\n",
    "x_test = nparray_to_Var(x_test)\n",
    "y_test = nparray_to_Var(y_test)\n"
   ]
  },
  {
   "cell_type": "code",
   "execution_count": 15,
   "metadata": {
    "collapsed": true
   },
   "outputs": [
    {
     "data": {
      "text/plain": [
       "[[Var(v=0.7213, grad=0.0000)],\n",
       " [Var(v=1.4497, grad=0.0000)],\n",
       " [Var(v=0.1316, grad=0.0000)],\n",
       " [Var(v=-1.5219, grad=0.0000)],\n",
       " [Var(v=1.0682, grad=0.0000)],\n",
       " [Var(v=0.9872, grad=0.0000)],\n",
       " [Var(v=0.6403, grad=0.0000)],\n",
       " [Var(v=-0.3656, grad=0.0000)],\n",
       " [Var(v=-1.5681, grad=0.0000)],\n",
       " [Var(v=0.3975, grad=0.0000)],\n",
       " [Var(v=1.1144, grad=0.0000)],\n",
       " [Var(v=-0.9669, grad=0.0000)],\n",
       " [Var(v=0.8947, grad=0.0000)],\n",
       " [Var(v=-1.1056, grad=0.0000)],\n",
       " [Var(v=0.4785, grad=0.0000)],\n",
       " [Var(v=0.9294, grad=0.0000)],\n",
       " [Var(v=1.7157, grad=0.0000)],\n",
       " [Var(v=0.8138, grad=0.0000)],\n",
       " [Var(v=0.0853, grad=0.0000)],\n",
       " [Var(v=0.2819, grad=0.0000)],\n",
       " [Var(v=-0.7240, grad=0.0000)],\n",
       " [Var(v=-0.3193, grad=0.0000)],\n",
       " [Var(v=1.2532, grad=0.0000)],\n",
       " [Var(v=1.2647, grad=0.0000)],\n",
       " [Var(v=-0.4234, grad=0.0000)],\n",
       " [Var(v=-1.1403, grad=0.0000)],\n",
       " [Var(v=1.6232, grad=0.0000)],\n",
       " [Var(v=1.7851, grad=0.0000)],\n",
       " [Var(v=0.1894, grad=0.0000)],\n",
       " [Var(v=1.1260, grad=0.0000)],\n",
       " [Var(v=-1.4294, grad=0.0000)],\n",
       " [Var(v=0.2703, grad=0.0000)],\n",
       " [Var(v=-1.2444, grad=0.0000)],\n",
       " [Var(v=-1.3484, grad=0.0000)],\n",
       " [Var(v=0.8600, grad=0.0000)],\n",
       " [Var(v=-0.2500, grad=0.0000)],\n",
       " [Var(v=-1.5450, grad=0.0000)],\n",
       " [Var(v=-0.5853, grad=0.0000)],\n",
       " [Var(v=-1.0940, grad=0.0000)],\n",
       " [Var(v=-0.7819, grad=0.0000)],\n",
       " [Var(v=-0.5506, grad=0.0000)],\n",
       " [Var(v=-0.7472, grad=0.0000)],\n",
       " [Var(v=1.6810, grad=0.0000)],\n",
       " [Var(v=-0.9322, grad=0.0000)],\n",
       " [Var(v=-0.7356, grad=0.0000)],\n",
       " [Var(v=-0.8975, grad=0.0000)],\n",
       " [Var(v=1.0797, grad=0.0000)],\n",
       " [Var(v=1.0219, grad=0.0000)],\n",
       " [Var(v=-0.3425, grad=0.0000)],\n",
       " [Var(v=1.0450, grad=0.0000)],\n",
       " [Var(v=0.4553, grad=0.0000)],\n",
       " [Var(v=0.0391, grad=0.0000)],\n",
       " [Var(v=1.1375, grad=0.0000)],\n",
       " [Var(v=-0.7587, grad=0.0000)],\n",
       " [Var(v=1.8082, grad=0.0000)],\n",
       " [Var(v=1.5885, grad=0.0000)],\n",
       " [Var(v=-0.5044, grad=0.0000)],\n",
       " [Var(v=-0.5622, grad=0.0000)],\n",
       " [Var(v=0.5941, grad=0.0000)],\n",
       " [Var(v=-1.3369, grad=0.0000)],\n",
       " [Var(v=1.0566, grad=0.0000)],\n",
       " [Var(v=-0.9437, grad=0.0000)],\n",
       " [Var(v=-1.5566, grad=0.0000)],\n",
       " [Var(v=0.5132, grad=0.0000)],\n",
       " [Var(v=0.3744, grad=0.0000)],\n",
       " [Var(v=-1.2790, grad=0.0000)],\n",
       " [Var(v=-1.3715, grad=0.0000)],\n",
       " [Var(v=1.3341, grad=0.0000)],\n",
       " [Var(v=-0.9784, grad=0.0000)],\n",
       " [Var(v=0.5247, grad=0.0000)],\n",
       " [Var(v=-0.3772, grad=0.0000)],\n",
       " [Var(v=-0.1690, grad=0.0000)],\n",
       " [Var(v=1.0335, grad=0.0000)],\n",
       " [Var(v=0.6057, grad=0.0000)],\n",
       " [Var(v=-0.1343, grad=0.0000)],\n",
       " [Var(v=1.6347, grad=0.0000)],\n",
       " [Var(v=-0.6778, grad=0.0000)],\n",
       " [Var(v=-0.6547, grad=0.0000)],\n",
       " [Var(v=-0.8628, grad=0.0000)],\n",
       " [Var(v=1.7041, grad=0.0000)],\n",
       " [Var(v=0.2588, grad=0.0000)],\n",
       " [Var(v=0.1547, grad=0.0000)],\n",
       " [Var(v=-1.4062, grad=0.0000)],\n",
       " [Var(v=-0.1922, grad=0.0000)],\n",
       " [Var(v=-0.7125, grad=0.0000)],\n",
       " [Var(v=-0.3078, grad=0.0000)],\n",
       " [Var(v=-0.2615, grad=0.0000)],\n",
       " [Var(v=-0.7934, grad=0.0000)],\n",
       " [Var(v=-1.4525, grad=0.0000)],\n",
       " [Var(v=-1.5103, grad=0.0000)],\n",
       " [Var(v=0.6172, grad=0.0000)],\n",
       " [Var(v=-0.4581, grad=0.0000)],\n",
       " [Var(v=-0.8397, grad=0.0000)],\n",
       " [Var(v=0.9641, grad=0.0000)],\n",
       " [Var(v=-1.1981, grad=0.0000)],\n",
       " [Var(v=-1.4409, grad=0.0000)],\n",
       " [Var(v=0.4438, grad=0.0000)],\n",
       " [Var(v=0.0738, grad=0.0000)],\n",
       " [Var(v=1.5422, grad=0.0000)],\n",
       " [Var(v=-0.8512, grad=0.0000)],\n",
       " [Var(v=1.0104, grad=0.0000)],\n",
       " [Var(v=-0.8281, grad=0.0000)],\n",
       " [Var(v=-1.2675, grad=0.0000)],\n",
       " [Var(v=0.4900, grad=0.0000)],\n",
       " [Var(v=1.4382, grad=0.0000)]]"
      ]
     },
     "execution_count": 15,
     "metadata": {},
     "output_type": "execute_result"
    }
   ],
   "source": [
    "x_train"
   ]
  },
  {
   "cell_type": "markdown",
   "metadata": {
    "id": "VbjrqcpVFtGe"
   },
   "source": [
    "# Defining and initializing the network\n",
    "\n",
    "The steps to create a feed forward neural network are the following:\n",
    "\n",
    "1. **Number of hidden layer and hidden units**. We have to define the number of hidden units in each layer. The number of features in X and the output dimensionality (the size of Y) are given but the numbers in between are set by the researcher. Remember that for each unit in each layer beside in the input has a bias term.\n",
    "2. **Activation functions** for each hidden layer. Each hidden layer in your list must have an activation function (it can also be the linear activation which is equivalent to identity function). The power of neural networks comes from non-linear activation functions that learn representations (features) from the data allowing us to learn from it. \n",
    "3. **Parameter initialization**. We will initialize the weights to have random values. This is done in practice by drawing pseudo random numbers from a Gaussian or uniform distribution. It turns out that for deeper models we have to be careful about how we scale the random numbers. This will be the topic of the exercise below. For now we will just use unit variance Gaussians.  \n",
    "\n",
    "In order to make life easier for ourselves we define a DenseLayer class that takes care of initialization and the forward pass. We can also extend it later with print and advanced initialization capabilities. For the latter we have introduced a Initializer class.\n",
    "\n",
    "Note that we use Sequence in the code below. A Sequence is an ordered list. This means the order we insert and access items are the same."
   ]
  },
  {
   "cell_type": "code",
   "execution_count": 16,
   "metadata": {
    "id": "ij_ieRsAt7Xt"
   },
   "outputs": [],
   "source": [
    "class Initializer:\n",
    "\n",
    "    def init_weights(self, n_in, n_out):\n",
    "        raise NotImplementedError\n",
    "\n",
    "    def init_bias(self, n_out):\n",
    "        raise NotImplementedError"
   ]
  },
  {
   "cell_type": "code",
   "execution_count": 17,
   "metadata": {
    "id": "eb18N5phuIha"
   },
   "outputs": [],
   "source": [
    "import random\n",
    "\n",
    "class NormalInitializer(Initializer):\n",
    "\n",
    "    def __init__(self, mean=0, std=0.1):\n",
    "        self.mean = mean\n",
    "        self.std = std\n",
    "\n",
    "    def init_weights(self, n_in, n_out):\n",
    "        return [[Var(random.gauss(self.mean, self.std)) for _ in range(n_out)] for _ in range(n_in)]\n",
    "\n",
    "    def init_bias(self, n_out):\n",
    "        return [Var(0.0) for _ in range(n_out)]\n",
    "\n",
    "class ConstantInitializer(Initializer):\n",
    "\n",
    "    def __init__(self, weight=1.0, bias=0.0):\n",
    "        self.weight = weight\n",
    "        self.bias = bias\n",
    "\n",
    "    def init_weights(self, n_in, n_out):\n",
    "        return [[Var(self.weight) for _ in range(n_out)] for _ in range(n_in)]\n",
    "\n",
    "    def init_bias(self, n_out):\n",
    "        return [Var(self.bias) for _ in range(n_out)]"
   ]
  },
  {
   "cell_type": "code",
   "execution_count": 18,
   "metadata": {},
   "outputs": [],
   "source": [
    "initializer = NormalInitializer()"
   ]
  },
  {
   "cell_type": "code",
   "execution_count": 19,
   "metadata": {},
   "outputs": [
    {
     "data": {
      "text/plain": [
       "[[Var(v=0.2430, grad=0.0000),\n",
       "  Var(v=-0.0757, grad=0.0000),\n",
       "  Var(v=0.2353, grad=0.0000),\n",
       "  Var(v=-0.0247, grad=0.0000),\n",
       "  Var(v=0.0997, grad=0.0000)]]"
      ]
     },
     "execution_count": 19,
     "metadata": {},
     "output_type": "execute_result"
    }
   ],
   "source": [
    "initializer.init_weights(1, 5)"
   ]
  },
  {
   "cell_type": "code",
   "execution_count": 20,
   "metadata": {},
   "outputs": [
    {
     "data": {
      "text/plain": [
       "[[Var(v=-0.0146, grad=0.0000)],\n",
       " [Var(v=-0.1182, grad=0.0000)],\n",
       " [Var(v=0.0963, grad=0.0000)],\n",
       " [Var(v=-0.0883, grad=0.0000)],\n",
       " [Var(v=0.0728, grad=0.0000)]]"
      ]
     },
     "execution_count": 20,
     "metadata": {},
     "output_type": "execute_result"
    }
   ],
   "source": [
    "initializer.init_weights(5, 1)"
   ]
  },
  {
   "cell_type": "code",
   "execution_count": 21,
   "metadata": {
    "id": "jOLYGnZKuM6W"
   },
   "outputs": [],
   "source": [
    "from typing import Sequence\n",
    "\n",
    "class DenseLayer:\n",
    "    def __init__(self, n_in: int, n_out: int, act_fn, initializer = NormalInitializer()):\n",
    "        self.weights = initializer.init_weights(n_in, n_out)\n",
    "        self.bias = initializer.init_bias(n_out)\n",
    "        self.act_fn = act_fn\n",
    "    \n",
    "    def __repr__(self):    \n",
    "        return 'Weights: ' + repr(self.weights) + '\\n Biases: ' + repr(self.bias)\n",
    "    \n",
    "    def parameters(self) -> Sequence[Var]:\n",
    "        params = []\n",
    "        for r in self.weights:\n",
    "            params += r\n",
    "\n",
    "        return params + self.bias\n",
    "\n",
    "    def forward(self, inputs: Sequence[Var]) -> Sequence[Var]:\n",
    "        assert len(self.weights) == len(inputs), \"weights and inputs must match in first dimension\"\n",
    "        weights = self.weights\n",
    "        out = []\n",
    "        for j in range(len(weights[0])):\n",
    "            node =  self.bias[j]# <- Insert code\n",
    "            for i in range(len(inputs)):\n",
    "                node += self.weights[i][j]*inputs[i]  # <- Insert code\n",
    "            node = self.act_fn(node)\n",
    "            out.append(node)\n",
    "\n",
    "        return out"
   ]
  },
  {
   "cell_type": "markdown",
   "metadata": {
    "id": "p_8n_SKnIW2F"
   },
   "source": [
    "## Exercise f) Complete the forward pass\n",
    "\n",
    "In the code below we initialize a 1-5-1 network and pass the training set through it. The forward method in DenseLayer is not complete. It  just outputs zeros right now. The method forward should perform an [affine transformation](https://en.wikipedia.org/wiki/Affine_transformation) on the input followed by an application of the activation function."
   ]
  },
  {
   "cell_type": "code",
   "execution_count": 54,
   "metadata": {
    "colab": {
     "base_uri": "https://localhost:8080/"
    },
    "id": "xDEjtePxE7Mv",
    "outputId": "271bcd73-43d6-4255-8ea0-6447b2a0ad8c"
   },
   "outputs": [
    {
     "name": "stdout",
     "output_type": "stream",
     "text": [
      "[[Var(v=-0.0009, grad=0.0000)], [Var(v=-0.0018, grad=0.0000)]]\n"
     ]
    }
   ],
   "source": [
    "NN = [\n",
    "    DenseLayer(1, 5, lambda x: x.relu()),\n",
    "    DenseLayer(5, 1, lambda x: x.identity())\n",
    "]\n",
    "\n",
    "def forward(input, network):\n",
    "\n",
    "    def forward_single(x, network):\n",
    "        for layer in network:\n",
    "            x = layer.forward(x)\n",
    "        return x\n",
    "\n",
    "    output = [ forward_single(input[n], network) for n in range(len(input))]\n",
    "    return output\n",
    "\n",
    "print(forward(x_train[0:2], NN))\n"
   ]
  },
  {
   "cell_type": "markdown",
   "metadata": {
    "id": "oLrGJytZFtGm"
   },
   "source": [
    "## Exercise g) Print all network parameters\n",
    "\n",
    "Make a function that prints all the parameters of the network (weights and biases) with information about in which layer the appear. In the object oriented spirit you should introduce a method in the DenseLayer class to print the parameters of a layer. Hint: You can take inspiration from the corresponding method in Var. "
   ]
  },
  {
   "cell_type": "code",
   "execution_count": 23,
   "metadata": {},
   "outputs": [
    {
     "name": "stdout",
     "output_type": "stream",
     "text": [
      "Layer 0: \n",
      " Weights: [[Var(v=0.0119, grad=0.0000), Var(v=-0.0329, grad=0.0000), Var(v=-0.0854, grad=0.0000), Var(v=0.0723, grad=0.0000), Var(v=0.0761, grad=0.0000)]]\n",
      " Biases: [Var(v=0.0000, grad=0.0000), Var(v=0.0000, grad=0.0000), Var(v=0.0000, grad=0.0000), Var(v=0.0000, grad=0.0000), Var(v=0.0000, grad=0.0000)] \n",
      "\n",
      "Layer 1: \n",
      " Weights: [[Var(v=-0.0540, grad=0.0000)], [Var(v=-0.0228, grad=0.0000)], [Var(v=0.0279, grad=0.0000)], [Var(v=-0.0704, grad=0.0000)], [Var(v=0.0055, grad=0.0000)]]\n",
      " Biases: [Var(v=0.0000, grad=0.0000)] \n",
      "\n"
     ]
    }
   ],
   "source": [
    "# Insert code here and in the DenseLayer class\n",
    "# We use __repr__ in the class and iterate over layers\n",
    "layer_id = 0\n",
    "for layer in NN:\n",
    "    print(f'Layer {layer_id}: \\n {layer} \\n')\n",
    "    layer_id+=1"
   ]
  },
  {
   "cell_type": "markdown",
   "metadata": {
    "id": "-u4xk_ORFtGz"
   },
   "source": [
    "# Activation functions\n",
    "\n",
    "To have a full definition of the neural network, we must define an activation function for every layer. Several activation functions have been proposed and have different characteristics. In the Var class we have already defined the rectified linear init (relu). \n",
    " "
   ]
  },
  {
   "cell_type": "markdown",
   "metadata": {
    "id": "jpIZPBpNI0pO"
   },
   "source": [
    "## Exercise h) Add more activation functions\n",
    "\n",
    "Implement the following activation functions in the Var class:\n",
    "\n",
    "* Identity: $$\\mathrm{identity}(x) = x$$\n",
    "* Hyperbolic tangent: $$\\tanh(x)$$\n",
    "* Sigmoid (or logistic function): $$\\mathrm{sigmoid}(x) = \\frac{1}{1.0 + \\exp(-x ) }$$  Hint: $\\mathrm{sigmoid}'(x)= \\mathrm{sigmoid}(x)(1-\\mathrm{sigmoid}(x))$.  \n",
    "\n",
    "Hint: You can seek inspiration in the relu method in the Var class."
   ]
  },
  {
   "cell_type": "markdown",
   "metadata": {
    "id": "_79HOAXrFtHK"
   },
   "source": [
    "## Visualization\n",
    "\n",
    "Now that we have defined our activation functions we can visualize them to see what they look like:"
   ]
  },
  {
   "cell_type": "code",
   "execution_count": 24,
   "metadata": {
    "colab": {
     "base_uri": "https://localhost:8080/",
     "height": 284
    },
    "id": "1FcylHqLTl-Z",
    "outputId": "c23c865b-3894-434c-f38a-f3cff5f772e5"
   },
   "outputs": [
    {
     "data": {
      "text/plain": [
       "[<matplotlib.lines.Line2D at 0x2169f2619a0>]"
      ]
     },
     "execution_count": 24,
     "metadata": {},
     "output_type": "execute_result"
    },
    {
     "data": {
      "image/png": "[encoded data removed]",
      "text/plain": [
       "<Figure size 432x288 with 1 Axes>"
      ]
     },
     "metadata": {
      "needs_background": "light"
     },
     "output_type": "display_data"
    }
   ],
   "source": [
    "x = np.linspace(-6, 6, 100)\n",
    "\n",
    "# convert from Var to ndarray  \n",
    "def Var_to_nparray(x):\n",
    "    y = np.zeros((len(x),len(x[0])))\n",
    "    for i in range(len(x)):\n",
    "        for j in range(len(x[0])):\n",
    "            y[i,j] = x[i][j].v\n",
    "    return y\n",
    "\n",
    "# define 1-1 network with weight = 1 and relu activation \n",
    "NN = [ DenseLayer(1, 1, lambda x: x.relu(), initializer = ConstantInitializer(1.0)) ] \n",
    "y = Var_to_nparray(forward(nparray_to_Var(x), NN))\n",
    "\n",
    "#y = Var_to_nparray(relu(nparray_to_Var(x)))\n",
    "plt.plot(x,y)"
   ]
  },
  {
   "cell_type": "code",
   "execution_count": 25,
   "metadata": {
    "colab": {
     "base_uri": "https://localhost:8080/",
     "height": 341
    },
    "id": "oOL2UolJFtHL",
    "outputId": "9d51d191-ca43-44a6-d5f6-d41a2bd0a80b"
   },
   "outputs": [
    {
     "data": {
      "image/png": "[encoded data removed]",
      "text/plain": [
       "<Figure size 360x360 with 1 Axes>"
      ]
     },
     "metadata": {
      "needs_background": "light"
     },
     "output_type": "display_data"
    }
   ],
   "source": [
    "# Testing all activation layers\n",
    "\n",
    "x = np.linspace(-6, 6, 100)\n",
    "units = {\n",
    "    \"identity\": lambda x: x.identity(),\n",
    "    \"sigmoid\": lambda x: x.sigmoid(),  \n",
    "    \"relu\": lambda x: x.relu(),\n",
    "    \"tanh\": lambda x: x.tanhi() \n",
    "}\n",
    "\n",
    "plt.figure(figsize=(5, 5))\n",
    "[plt.plot(x, Var_to_nparray(forward(nparray_to_Var(x), [DenseLayer(1, 1, unit, initializer = ConstantInitializer(1.0))]) ), label=unit_name, lw=2) for unit_name, unit in units.items()] # unit(nparray_to_Var(x))), label=unit_name, lw=2) for unit_name, unit in units.items()]\n",
    "plt.legend(loc=2, fontsize=16)\n",
    "plt.title('Our activation functions', fontsize=20)\n",
    "plt.ylim([-2, 5])\n",
    "plt.xlim([-6, 6])\n",
    "plt.show()"
   ]
  },
  {
   "cell_type": "markdown",
   "metadata": {
    "id": "b-jdEl-7FtGs"
   },
   "source": [
    "# Advanced initialization schemes\n",
    "\n",
    "If we are not careful with initialization, the signals we propagate forward ($a^{(l)}$, $l=1,\\ldots,L$) and backward ($\\delta^l$, $l=L,L-1,\\ldots,1$) can blow up or shrink to zero. A statistical analysis of the variance of the signals for different activation functions can be found in these two papers: [Glorot initialization](http://proceedings.mlr.press/v9/glorot10a/glorot10a.pdf) and [He initialization](https://arxiv.org/pdf/1502.01852v1.pdf). \n",
    "\n",
    "The result of the analyses are proposals for how to make the initialization such that the variance of the signals (forward and backward) are kept approxmimatly constant when propagating from layer to layer. The exact expressions depend upon the non-linear activation function used. In Glorot initialization, the aim is to keep both the forward and backward variances constant whereas He only aims at keeping the variance in the forward pass constant.\n",
    "\n",
    "We define $n_{in}$ and $n_{out}$ as the number of input units and output units of a particular layer. \n",
    "\n",
    "The Glorot initialization has the form: \n",
    "\n",
    "$$w_{ij} \\sim N \\bigg( 0, \\, \\frac{2 \\alpha }{n_{in} + n_{out}} \\bigg) \\ . $$\n",
    "\n",
    "where $N(\\mu,\\sigma^2)$ is a Gaussian distribution with mean $\\mu$ and variance $\\sigma^2$ and $\\alpha$ is a parameter that depends upon the activation function used. For $\\tanh$, $\\alpha=1$ and for Rectified Linear Unit (ReLU) activations, $\\alpha=2$. (It is also possible to use a uniform distribution for initialization, see [this blog post](https://mmuratarat.github.io/2019-02-25/xavier-glorot-he-weight-init).) \n",
    "\n",
    "The He initialization is very similar\n",
    "\n",
    "$$w_{ij} \\sim N \\bigg( 0, \\, \\frac{\\alpha}{n_{in}} \\bigg) \\ . $$"
   ]
  },
  {
   "cell_type": "markdown",
   "metadata": {
    "id": "mqeyab9qFtGs"
   },
   "source": [
    "## Exercise i) Glorot and He initialization\n",
    " \n",
    "Using the Initializer class, implement functions that implement Glorot and He \n",
    "\n",
    "Explain briefly how you would test numerically that these initializations have the sought after property. Hint: See plots in Glorot paper.\n",
    "\n",
    "Comment: If you want to be more advanced then try to make a universal initializer taking both the activation function and type (Glorot or He) as argument."
   ]
  },
  {
   "cell_type": "code",
   "execution_count": 26,
   "metadata": {
    "id": "Qyk01CgaFtGt"
   },
   "outputs": [],
   "source": [
    "## Glorot\n",
    "def DenseLayer_Glorot_tanh(n_in: int, n_out: int):\n",
    "    std = 2/(n_in+n_out) # <- replace with proper initialization\n",
    "    return DenseLayer(n_in, n_out, lambda x: x.tanh(), initializer = NormalInitializer(std))\n",
    "\n",
    "## He\n",
    "def DenseLayer_He_relu(n_in: int, n_out: int):\n",
    "    std = 2/n_in # <- replace with proper initialization\n",
    "    return DenseLayer(n_in, n_out, lambda x: x.tanh(), initializer = NormalInitializer(std))"
   ]
  },
  {
   "cell_type": "markdown",
   "metadata": {
    "id": "-XyXBD37FtHk"
   },
   "source": [
    "## Exercise j) Forward pass unit test\n",
    "\n",
    "Write a bit of code to make a unit test that the forward pass works. This can be done by defining a simple network with for example all weights equal to one (using the ConstantInitializer method) and identity activation functions. \n",
    "\n",
    "Hints: Use the [assert](https://www.w3schools.com/python/ref_keyword_assert.asp), the nparray_to_Var and the Var_to_nparray commands. "
   ]
  },
  {
   "cell_type": "code",
   "execution_count": 29,
   "metadata": {
    "id": "k0miqRUAFtHl"
   },
   "outputs": [],
   "source": [
    "# Insert code here\n",
    "NN = [\n",
    "    DenseLayer(1, 1, lambda x: x.identity(),initializer = ConstantInitializer(1.0)),\n",
    "    DenseLayer(1, 1, lambda x: x.identity(),initializer = ConstantInitializer(1.0)),\n",
    "    DenseLayer(1, 1, lambda x: x.identity(),initializer = ConstantInitializer(1.0))\n",
    "]\n",
    "\n",
    "x = np.linspace(0,1,10)"
   ]
  },
  {
   "cell_type": "code",
   "execution_count": 30,
   "metadata": {},
   "outputs": [],
   "source": [
    "assert x.all() == Var_to_nparray(forward(nparray_to_Var(x), NN)).all()"
   ]
  },
  {
   "cell_type": "markdown",
   "metadata": {
    "id": "faCxhfFnFtHp"
   },
   "source": [
    "# Loss functions\n",
    "\n",
    "We are only missing a loss function to we need to define a loss function and its derivative with respect to the output of the neural network $y$"
   ]
  },
  {
   "cell_type": "code",
   "execution_count": 31,
   "metadata": {
    "id": "I2eDYKvAFtHq"
   },
   "outputs": [],
   "source": [
    "def squared_loss(t, y):\n",
    "  \n",
    "    # add check that sizes agree\n",
    "    assert len(t) == len(y), \"t and y must match in dimension\"\n",
    "\n",
    "    def squared_loss_single(t, y):\n",
    "        Loss = Var(0.0)\n",
    "        for i in range(len(t)): # sum over outputs\n",
    "            Loss += (t[i]-y[i]) ** 2\n",
    "        return Loss\n",
    "\n",
    "    Loss = Var(0.0)\n",
    "    for n in range(len(t)): # sum over training data\n",
    "        Loss += squared_loss_single(t[n],y[n])\n",
    "    return Loss"
   ]
  },
  {
   "cell_type": "markdown",
   "metadata": {
    "id": "SrwSJ2UWFtHu"
   },
   "source": [
    "## Exercise j) Implement cross entropy loss\n",
    "\n",
    "Insert code below to implement cross-entropy loss for general dimensionality of $t$. Use a logits formulation:\n",
    "$$\n",
    "\\rm{Loss} = - \\sum_i t_i \\, log \\, p_i \n",
    "$$\n",
    "with $p$ given by the the softmax function in terms of the logits $h$:\n",
    "$$\n",
    "p_i = \\frac{\\exp(h_i)}{\\sum_{i'} \\exp(h_{i'} } .\n",
    "$$\n",
    "Inserting $p$ in the expression for the loss gives\n",
    "$$\n",
    "\\rm{Loss} = - \\sum_i t_i h_i + \\rm{LogSumExp}(h) \\ ,\n",
    "$$\n",
    "where \n",
    "$$\n",
    "\\rm{LogSumExp}(h) = \\log \\sum_i \\exp h_i \\ .\n",
    "$$\n",
    "This is true for $t$ being a one-hot vector. In practice you want to implement a [numerically stable](https://leimao.github.io/blog/LogSumExp/) version of LogSumExp. But we will not bother about that here.\n",
    "\n",
    "Help: You can add these methods in the Var class:\n",
    "\n",
    "    def exp(self):\n",
    "        return Var(exp(self.v), lambda: [(self, exp(self.v))])\n",
    "    \n",
    "    def log(self):\n",
    "        return Var(log(self.v), lambda: [(self, self.v ** -1)])"
   ]
  },
  {
   "cell_type": "markdown",
   "metadata": {},
   "source": [
    "### Answer\n",
    "\n",
    "I think that the definition is not really suitable for our implementation. If we have to use *t* and *y* in our implementation we can't use the above definition as our implementation is returning the values already transformed by some activation function. Below I have implemented 2 functions. One of them is treating our output as a logit *h* and other as the vector of probabilities for each given class. We can see in the examples below that the loss function in terms of *p* is actually assigning small values when we are close to the correct answer while the other one still gives a big loss value.\n",
    "\n",
    "We have 2 options: \n",
    "- Implement a softmax activation function and use it on the last layer when we want to do the classification. Then we could use the loss function in terms of probabilities. (cross_entropy_loss_y)\n",
    "- Implement the function as stated in the task but then we always have to make an assumption that the function on the last layer is identity. I find it counterintuitive as we are actually including our activation function in the definition of the loss function. (cross_entropy_loss)"
   ]
  },
  {
   "cell_type": "code",
   "execution_count": 139,
   "metadata": {
    "id": "6nMuxyfzFtHv"
   },
   "outputs": [],
   "source": [
    "def cross_entropy_loss_y(t, y):\n",
    "     \n",
    "    Loss = Var(0.0)\n",
    "    # Insert code here\n",
    "    assert len(t) == len(y), \"t and y must match in dimension\"\n",
    "\n",
    "    def ce_loss_single(t, y):\n",
    "        Loss = Var(0.0)\n",
    "        for i in range(len(t)): # sum over outputs\n",
    "            Loss += -t[i]*y[i].log()\n",
    "        return Loss\n",
    "\n",
    "    Loss = Var(0.0)\n",
    "    for n in range(len(t)): # sum over training data\n",
    "        Loss += ce_loss_single(t[n],y[n])\n",
    "    return Loss"
   ]
  },
  {
   "cell_type": "code",
   "execution_count": 100,
   "metadata": {},
   "outputs": [],
   "source": [
    "def cross_entropy_loss(t, y):\n",
    "     \n",
    "    Loss = Var(0.0)\n",
    "    # Insert code here\n",
    "    assert len(t) == len(y), \"t and y must match in dimension\"\n",
    "\n",
    "    def ce_loss_single(t, y):\n",
    "        Loss_a = Var(0.0)\n",
    "        Loss_b = Var(0.0)\n",
    "        for i in range(len(t)): # sum over outputs\n",
    "            Loss_a += -t[i]*y[i]\n",
    "            Loss_b += y[i].exp()\n",
    "        return Loss_a + Loss_b.log()\n",
    "\n",
    "    Loss = Var(0.0)\n",
    "    for n in range(len(t)): # sum over training data\n",
    "        Loss += ce_loss_single(t[n],y[n])\n",
    "    return Loss"
   ]
  },
  {
   "cell_type": "code",
   "execution_count": 123,
   "metadata": {},
   "outputs": [],
   "source": [
    "t = [[Var(0.0),Var(0.0),Var(0.0),Var(1.0)], [Var(0.0),Var(0.0),Var(0.0),Var(1.0)]]\n",
    "p = [[Var(0.2),Var(0.2),Var(0.3),Var(0.3)], [Var(0.01),Var(0.01),Var(0.01),Var(0.96)]]"
   ]
  },
  {
   "cell_type": "code",
   "execution_count": 124,
   "metadata": {},
   "outputs": [
    {
     "data": {
      "text/plain": [
       "Var(v=2.1078, grad=0.0000)"
      ]
     },
     "execution_count": 124,
     "metadata": {},
     "output_type": "execute_result"
    }
   ],
   "source": [
    "cross_entropy_loss(t,p)"
   ]
  },
  {
   "cell_type": "code",
   "execution_count": 125,
   "metadata": {},
   "outputs": [
    {
     "data": {
      "text/plain": [
       "Var(v=1.2448, grad=0.0000)"
      ]
     },
     "execution_count": 125,
     "metadata": {},
     "output_type": "execute_result"
    }
   ],
   "source": [
    "cross_entropy_loss_y(t,p)"
   ]
  },
  {
   "cell_type": "code",
   "execution_count": 127,
   "metadata": {},
   "outputs": [],
   "source": [
    "t = [[Var(0.0),Var(0.0),Var(0.0),Var(1.0)]]\n",
    "p = [[Var(0.2),Var(0.2),Var(0.3),Var(0.3)]]"
   ]
  },
  {
   "cell_type": "code",
   "execution_count": 128,
   "metadata": {},
   "outputs": [
    {
     "data": {
      "text/plain": [
       "Var(v=1.3375, grad=0.0000)"
      ]
     },
     "execution_count": 128,
     "metadata": {},
     "output_type": "execute_result"
    }
   ],
   "source": [
    "cross_entropy_loss(t,p)"
   ]
  },
  {
   "cell_type": "code",
   "execution_count": 129,
   "metadata": {},
   "outputs": [
    {
     "data": {
      "text/plain": [
       "Var(v=1.2040, grad=0.0000)"
      ]
     },
     "execution_count": 129,
     "metadata": {},
     "output_type": "execute_result"
    }
   ],
   "source": [
    "cross_entropy_loss_y(t,p)"
   ]
  },
  {
   "cell_type": "code",
   "execution_count": 130,
   "metadata": {},
   "outputs": [],
   "source": [
    "t = [[Var(0.0),Var(0.0),Var(0.0),Var(1.0)]]\n",
    "p = [[Var(0.01),Var(0.01),Var(0.01),Var(0.97)]]"
   ]
  },
  {
   "cell_type": "code",
   "execution_count": 131,
   "metadata": {},
   "outputs": [
    {
     "data": {
      "text/plain": [
       "Var(v=0.7649, grad=0.0000)"
      ]
     },
     "execution_count": 131,
     "metadata": {},
     "output_type": "execute_result"
    }
   ],
   "source": [
    "cross_entropy_loss(t,p)"
   ]
  },
  {
   "cell_type": "code",
   "execution_count": 132,
   "metadata": {
    "scrolled": true
   },
   "outputs": [
    {
     "data": {
      "text/plain": [
       "Var(v=0.0305, grad=0.0000)"
      ]
     },
     "execution_count": 132,
     "metadata": {},
     "output_type": "execute_result"
    }
   ],
   "source": [
    "cross_entropy_loss_y(t,p)"
   ]
  },
  {
   "cell_type": "markdown",
   "metadata": {
    "id": "8fAF5ew4FtHy"
   },
   "source": [
    "# Backward pass\n",
    "\n",
    "Now the magic happens! We get the calculation of the gradients for free. Just do:"
   ]
  },
  {
   "cell_type": "code",
   "execution_count": 32,
   "metadata": {
    "id": "iHyfPPI9Qqwu"
   },
   "outputs": [],
   "source": [
    "NN = [\n",
    "    DenseLayer(1, 5, lambda x: x.relu()),\n",
    "    DenseLayer(5, 1, lambda x: x.identity())\n",
    "]\n",
    "\n",
    "output = forward(x_train, NN)\n",
    "\n",
    "Loss = squared_loss(y_train,output)\n",
    "Loss.backward()"
   ]
  },
  {
   "cell_type": "code",
   "execution_count": 50,
   "metadata": {
    "scrolled": true
   },
   "outputs": [
    {
     "data": {
      "text/plain": [
       "[[Var(v=-0.0025, grad=-1.8011)],\n",
       " [Var(v=-0.0050, grad=-3.1563)],\n",
       " [Var(v=-0.0005, grad=-1.6452)],\n",
       " [Var(v=0.0620, grad=3.3310)],\n",
       " [Var(v=-0.0037, grad=-0.6189)],\n",
       " [Var(v=-0.0034, grad=-1.1618)],\n",
       " [Var(v=-0.0022, grad=-0.7431)],\n",
       " [Var(v=0.0149, grad=0.6055)],\n",
       " [Var(v=0.0639, grad=3.3623)],\n",
       " [Var(v=-0.0014, grad=-1.0769)],\n",
       " [Var(v=-0.0038, grad=-1.4201)],\n",
       " [Var(v=0.0394, grad=1.1844)],\n",
       " [Var(v=-0.0031, grad=-0.8622)],\n",
       " [Var(v=0.0451, grad=1.7704)],\n",
       " [Var(v=-0.0016, grad=-1.7989)],\n",
       " [Var(v=-0.0032, grad=-0.9374)],\n",
       " [Var(v=-0.0059, grad=-2.9754)],\n",
       " [Var(v=-0.0028, grad=-0.8400)],\n",
       " [Var(v=-0.0003, grad=-0.3870)],\n",
       " [Var(v=-0.0010, grad=-0.8855)],\n",
       " [Var(v=0.0295, grad=0.6484)],\n",
       " [Var(v=0.0130, grad=0.1955)],\n",
       " [Var(v=-0.0043, grad=-2.1459)],\n",
       " [Var(v=-0.0043, grad=-1.6576)],\n",
       " [Var(v=0.0173, grad=0.5403)],\n",
       " [Var(v=0.0465, grad=2.3052)],\n",
       " [Var(v=-0.0056, grad=-3.8150)],\n",
       " [Var(v=-0.0061, grad=-4.0107)],\n",
       " [Var(v=-0.0006, grad=0.0176)],\n",
       " [Var(v=-0.0039, grad=-2.2395)],\n",
       " [Var(v=0.0582, grad=2.8240)],\n",
       " [Var(v=-0.0009, grad=-0.4840)],\n",
       " [Var(v=0.0507, grad=2.6186)],\n",
       " [Var(v=0.0549, grad=2.9887)],\n",
       " [Var(v=-0.0030, grad=-1.1053)],\n",
       " [Var(v=0.0102, grad=0.6075)],\n",
       " [Var(v=0.0630, grad=2.6391)],\n",
       " [Var(v=0.0239, grad=0.9653)],\n",
       " [Var(v=0.0446, grad=1.4302)],\n",
       " [Var(v=0.0319, grad=0.5318)],\n",
       " [Var(v=0.0224, grad=0.8712)],\n",
       " [Var(v=0.0304, grad=0.9061)],\n",
       " [Var(v=-0.0058, grad=-2.8362)],\n",
       " [Var(v=0.0380, grad=2.2167)],\n",
       " [Var(v=0.0300, grad=0.8999)],\n",
       " [Var(v=0.0366, grad=1.7653)],\n",
       " [Var(v=-0.0037, grad=-1.3593)],\n",
       " [Var(v=-0.0035, grad=-0.9635)],\n",
       " [Var(v=0.0140, grad=2.0416)],\n",
       " [Var(v=-0.0036, grad=-1.4763)],\n",
       " [Var(v=-0.0016, grad=-1.0197)],\n",
       " [Var(v=-0.0001, grad=0.1451)],\n",
       " [Var(v=-0.0039, grad=-1.0991)],\n",
       " [Var(v=0.0309, grad=1.1850)],\n",
       " [Var(v=-0.0062, grad=-4.2575)],\n",
       " [Var(v=-0.0055, grad=-3.3638)],\n",
       " [Var(v=0.0206, grad=0.7430)],\n",
       " [Var(v=0.0229, grad=1.6428)],\n",
       " [Var(v=-0.0020, grad=-2.5097)],\n",
       " [Var(v=0.0545, grad=2.1341)],\n",
       " [Var(v=-0.0036, grad=-2.0260)],\n",
       " [Var(v=0.0385, grad=1.0504)],\n",
       " [Var(v=0.0634, grad=3.3772)],\n",
       " [Var(v=-0.0018, grad=-1.5057)],\n",
       " [Var(v=-0.0013, grad=-1.6439)],\n",
       " [Var(v=0.0521, grad=3.2316)],\n",
       " [Var(v=0.0559, grad=3.4109)],\n",
       " [Var(v=-0.0046, grad=-1.5229)],\n",
       " [Var(v=0.0399, grad=2.0147)],\n",
       " [Var(v=-0.0018, grad=-2.1415)],\n",
       " [Var(v=0.0154, grad=1.2831)],\n",
       " [Var(v=0.0069, grad=1.0841)],\n",
       " [Var(v=-0.0035, grad=-1.4298)],\n",
       " [Var(v=-0.0021, grad=-0.4286)],\n",
       " [Var(v=0.0055, grad=0.3408)],\n",
       " [Var(v=-0.0056, grad=-4.0374)],\n",
       " [Var(v=0.0276, grad=0.7553)],\n",
       " [Var(v=0.0267, grad=0.0916)],\n",
       " [Var(v=0.0352, grad=1.9074)],\n",
       " [Var(v=-0.0058, grad=-4.4066)],\n",
       " [Var(v=-0.0009, grad=-0.3765)],\n",
       " [Var(v=-0.0005, grad=0.3342)],\n",
       " [Var(v=0.0573, grad=3.3770)],\n",
       " [Var(v=0.0078, grad=-0.0022)],\n",
       " [Var(v=0.0290, grad=0.9768)],\n",
       " [Var(v=0.0125, grad=1.5895)],\n",
       " [Var(v=0.0107, grad=1.7441)],\n",
       " [Var(v=0.0323, grad=1.1183)],\n",
       " [Var(v=0.0592, grad=4.3605)],\n",
       " [Var(v=0.0615, grad=4.0493)],\n",
       " [Var(v=-0.0021, grad=-2.0586)],\n",
       " [Var(v=0.0187, grad=0.3786)],\n",
       " [Var(v=0.0342, grad=1.2266)],\n",
       " [Var(v=-0.0033, grad=-0.9068)],\n",
       " [Var(v=0.0488, grad=2.5570)],\n",
       " [Var(v=0.0587, grad=2.0926)],\n",
       " [Var(v=-0.0015, grad=-1.4312)],\n",
       " [Var(v=-0.0003, grad=-0.4387)],\n",
       " [Var(v=-0.0053, grad=-3.0791)],\n",
       " [Var(v=0.0347, grad=1.1571)],\n",
       " [Var(v=-0.0035, grad=-1.5543)],\n",
       " [Var(v=0.0337, grad=1.0677)],\n",
       " [Var(v=0.0517, grad=3.8481)],\n",
       " [Var(v=-0.0017, grad=-1.9291)],\n",
       " [Var(v=-0.0049, grad=-2.5134)]]"
      ]
     },
     "execution_count": 50,
     "metadata": {},
     "output_type": "execute_result"
    }
   ],
   "source": [
    "output"
   ]
  },
  {
   "cell_type": "code",
   "execution_count": 45,
   "metadata": {
    "scrolled": true
   },
   "outputs": [
    {
     "data": {
      "text/plain": [
       "[[Var(v=0.8981, grad=83.7620)],\n",
       " [Var(v=1.5732, grad=128.9800)],\n",
       " [Var(v=0.8221, grad=250.9819)],\n",
       " [Var(v=-1.6035, grad=-105.9324)],\n",
       " [Var(v=0.3058, grad=-262.0411)],\n",
       " [Var(v=0.5775, grad=-127.6820)],\n",
       " [Var(v=0.3693, grad=-103.6563)],\n",
       " [Var(v=-0.2878, grad=21.1025)],\n",
       " [Var(v=-1.6173, grad=-101.4104)],\n",
       " [Var(v=0.5371, grad=39.6578)],\n",
       " [Var(v=0.7062, grad=-115.4258)],\n",
       " [Var(v=-0.5528, grad=131.2046)],\n",
       " [Var(v=0.4280, grad=-159.0583)],\n",
       " [Var(v=-0.8402, grad=62.7656)],\n",
       " [Var(v=0.8978, grad=159.1598)],\n",
       " [Var(v=0.4655, grad=-154.7615)],\n",
       " [Var(v=1.4818, grad=9.6762)],\n",
       " [Var(v=0.4172, grad=-138.2609)],\n",
       " [Var(v=0.1932, grad=19.3280)],\n",
       " [Var(v=0.4418, grad=38.5910)],\n",
       " [Var(v=-0.2947, grad=151.4565)],\n",
       " [Var(v=-0.0847, grad=84.4931)],\n",
       " [Var(v=1.0687, grad=-12.8076)],\n",
       " [Var(v=0.8245, grad=-114.5725)],\n",
       " [Var(v=-0.2529, grad=57.7869)],\n",
       " [Var(v=-1.1061, grad=-32.4437)],\n",
       " [Var(v=1.9019, grad=207.2808)],\n",
       " [Var(v=1.9992, grad=196.1258)],\n",
       " [Var(v=-0.0094, grad=-107.9741)],\n",
       " [Var(v=1.1159, grad=45.6646)],\n",
       " [Var(v=-1.3538, grad=-35.2918)],\n",
       " [Var(v=0.2411, grad=-38.1880)],\n",
       " [Var(v=-1.2586, grad=-58.7090)],\n",
       " [Var(v=-1.4394, grad=-96.5751)],\n",
       " [Var(v=0.5497, grad=-99.3639)],\n",
       " [Var(v=-0.2936, grad=-27.1417)],\n",
       " [Var(v=-1.2566, grad=38.5504)],\n",
       " [Var(v=-0.4588, grad=36.1766)],\n",
       " [Var(v=-0.6705, grad=127.0588)],\n",
       " [Var(v=-0.2341, grad=195.8872)],\n",
       " [Var(v=-0.4132, grad=41.7686)],\n",
       " [Var(v=-0.4226, grad=108.0830)],\n",
       " [Var(v=1.4124, grad=-7.4815)],\n",
       " [Var(v=-1.0704, grad=-88.6974)],\n",
       " [Var(v=-0.4200, grad=105.1255)],\n",
       " [Var(v=-0.8461, grad=-10.3864)],\n",
       " [Var(v=0.6759, grad=-116.8287)],\n",
       " [Var(v=0.4782, grad=-178.3578)],\n",
       " [Var(v=-1.0068, grad=-277.0481)],\n",
       " [Var(v=0.7346, grad=-82.5000)],\n",
       " [Var(v=0.5083, grad=9.8322)],\n",
       " [Var(v=-0.0727, grad=-63.8649)],\n",
       " [Var(v=0.5456, grad=-187.1698)],\n",
       " [Var(v=-0.5616, grad=56.2274)],\n",
       " [Var(v=2.1225, grad=238.5216)],\n",
       " [Var(v=1.6765, grad=127.4153)],\n",
       " [Var(v=-0.3510, grad=49.4291)],\n",
       " [Var(v=-0.7985, grad=-108.8347)],\n",
       " [Var(v=1.2528, grad=265.8713)],\n",
       " [Var(v=-1.0126, grad=71.1604)],\n",
       " [Var(v=1.0094, grad=24.3875)],\n",
       " [Var(v=-0.4867, grad=149.8688)],\n",
       " [Var(v=-1.6252, grad=-107.1024)],\n",
       " [Var(v=0.7511, grad=89.3344)],\n",
       " [Var(v=0.8207, grad=161.0202)],\n",
       " [Var(v=-1.5637, grad=-169.7230)],\n",
       " [Var(v=-1.6496, grad=-173.3733)],\n",
       " [Var(v=0.7569, grad=-163.2876)],\n",
       " [Var(v=-0.9675, grad=-31.5646)],\n",
       " [Var(v=1.0689, grad=213.5136)],\n",
       " [Var(v=-0.6262, grad=-110.3627)],\n",
       " [Var(v=-0.5352, grad=-157.3219)],\n",
       " [Var(v=0.7113, grad=-88.2401)],\n",
       " [Var(v=0.2122, grad=-156.0484)],\n",
       " [Var(v=-0.1649, grad=-22.9623)],\n",
       " [Var(v=2.0131, grad=248.3695)],\n",
       " [Var(v=-0.3500, grad=113.0157)],\n",
       " [Var(v=-0.0191, grad=237.8860)],\n",
       " [Var(v=-0.9186, grad=-51.4152)],\n",
       " [Var(v=2.1974, grad=300.9416)],\n",
       " [Var(v=0.1874, grad=-55.6705)],\n",
       " [Var(v=-0.1677, grad=-156.9471)],\n",
       " [Var(v=-1.6312, grad=-154.4738)],\n",
       " [Var(v=0.0090, grad=70.9620)],\n",
       " [Var(v=-0.4594, grad=81.2268)],\n",
       " [Var(v=-0.7822, grad=-200.4702)],\n",
       " [Var(v=-0.8614, grad=-250.7705)],\n",
       " [Var(v=-0.5268, grad=82.1918)],\n",
       " [Var(v=-2.1211, grad=-336.1194)],\n",
       " [Var(v=-1.9631, grad=-253.7227)],\n",
       " [Var(v=1.0272, grad=167.9845)],\n",
       " [Var(v=-0.1706, grad=104.2931)],\n",
       " [Var(v=-0.5791, grad=77.1128)],\n",
       " [Var(v=0.4501, grad=-171.7321)],\n",
       " [Var(v=-1.2297, grad=-62.6273)],\n",
       " [Var(v=-0.9876, grad=115.7268)],\n",
       " [Var(v=0.7141, grad=96.1899)],\n",
       " [Var(v=0.2191, grad=35.4504)],\n",
       " [Var(v=1.5343, grad=84.6083)],\n",
       " [Var(v=-0.5439, grad=95.2459)],\n",
       " [Var(v=0.7737, grad=-56.0079)],\n",
       " [Var(v=-0.5001, grad=104.8812)],\n",
       " [Var(v=-1.8724, grad=-297.7080)],\n",
       " [Var(v=0.9629, grad=181.6867)],\n",
       " [Var(v=1.2518, grad=3.3651)]]"
      ]
     },
     "execution_count": 45,
     "metadata": {},
     "output_type": "execute_result"
    }
   ],
   "source": [
    "y_train"
   ]
  },
  {
   "cell_type": "markdown",
   "metadata": {
    "id": "49biIAYKQ1oG"
   },
   "source": [
    "and the gradients will be calculated:"
   ]
  },
  {
   "cell_type": "code",
   "execution_count": 33,
   "metadata": {
    "colab": {
     "base_uri": "https://localhost:8080/"
    },
    "id": "_rGt1bq_Q7uk",
    "outputId": "8d283577-9bd1-496b-f4a8-764a9507a4bf"
   },
   "outputs": [
    {
     "name": "stdout",
     "output_type": "stream",
     "text": [
      "Layer 0 \n",
      " Weights: [[Var(v=-0.1310, grad=-25.6468), Var(v=-0.0294, grad=3.1515), Var(v=-0.1235, grad=-2.5725), Var(v=0.0457, grad=7.6589), Var(v=-0.0288, grad=-17.1219)]]\n",
      " Biases: [Var(v=0.0000, grad=23.3284), Var(v=0.0000, grad=-2.8666), Var(v=0.0000, grad=2.3399), Var(v=0.0000, grad=6.5785), Var(v=0.0000, grad=15.5741)]\n",
      "Layer 1 \n",
      " Weights: [[Var(v=0.2562, grad=13.1146)], [Var(v=-0.0315, grad=2.9390)], [Var(v=0.0257, grad=12.3658)], [Var(v=-0.0751, grad=-4.6584)], [Var(v=0.1711, grad=2.8818)]]\n",
      " Biases: [Var(v=0.0000, grad=3.4562)]\n"
     ]
    },
    {
     "data": {
      "text/plain": [
       "[None, None]"
      ]
     },
     "execution_count": 33,
     "metadata": {},
     "output_type": "execute_result"
    }
   ],
   "source": [
    "[print('Layer', i, '\\n', NN[i]) for i in range(len(NN))] "
   ]
  },
  {
   "cell_type": "markdown",
   "metadata": {
    "id": "D7d7qK0uFtH9"
   },
   "source": [
    "# Backward pass unit test\n",
    "\n",
    "Above we used finite differences to test that Nanograd is actually doing what it is supposed to do. We can in principle try the same for the neural network. But we will trust that the test above is enough."
   ]
  },
  {
   "cell_type": "markdown",
   "metadata": {
    "id": "WgBi8GOSFtIN"
   },
   "source": [
    "# Training and validation\n",
    "\n",
    "We are ready to train some neural networks!\n",
    "\n",
    "We initialize again:"
   ]
  },
  {
   "cell_type": "code",
   "execution_count": 155,
   "metadata": {
    "id": "01ePmzBzRtdh"
   },
   "outputs": [],
   "source": [
    "NN = [\n",
    "    DenseLayer(1, 5, lambda x: x.relu()),\n",
    "    DenseLayer(5, 1, lambda x: x.identity())\n",
    "]\n",
    "\n",
    "output = forward(x_train, NN)\n",
    "\n",
    "Loss = squared_loss(y_train,output)\n",
    "Loss.backward()"
   ]
  },
  {
   "cell_type": "markdown",
   "metadata": {
    "id": "10iRPiQ1ISHw"
   },
   "source": [
    "and make an update:\n",
    "\n",
    "We introduce a help function parameters to have a handle in all parameters in the network."
   ]
  },
  {
   "cell_type": "code",
   "execution_count": 34,
   "metadata": {
    "colab": {
     "base_uri": "https://localhost:8080/"
    },
    "id": "dhAI7eyeznia",
    "outputId": "8584bbad-00aa-4130-9961-44e9ae7fb4ed"
   },
   "outputs": [
    {
     "name": "stdout",
     "output_type": "stream",
     "text": [
      "Network before update:\n",
      "Layer 0 \n",
      " Weights: [[Var(v=-0.1310, grad=-25.6468), Var(v=-0.0294, grad=3.1515), Var(v=-0.1235, grad=-2.5725), Var(v=0.0457, grad=7.6589), Var(v=-0.0288, grad=-17.1219)]]\n",
      " Biases: [Var(v=0.0000, grad=23.3284), Var(v=0.0000, grad=-2.8666), Var(v=0.0000, grad=2.3399), Var(v=0.0000, grad=6.5785), Var(v=0.0000, grad=15.5741)]\n",
      "Layer 1 \n",
      " Weights: [[Var(v=0.2562, grad=13.1146)], [Var(v=-0.0315, grad=2.9390)], [Var(v=0.0257, grad=12.3658)], [Var(v=-0.0751, grad=-4.6584)], [Var(v=0.1711, grad=2.8818)]]\n",
      " Biases: [Var(v=0.0000, grad=3.4562)]\n",
      "\n",
      "Network after update:\n",
      "Layer 0 \n",
      " Weights: [[Var(v=0.1254, grad=-25.6468), Var(v=-0.0609, grad=3.1515), Var(v=-0.0978, grad=-2.5725), Var(v=-0.0309, grad=7.6589), Var(v=0.1424, grad=-17.1219)]]\n",
      " Biases: [Var(v=-0.2333, grad=23.3284), Var(v=0.0287, grad=-2.8666), Var(v=-0.0234, grad=2.3399), Var(v=-0.0658, grad=6.5785), Var(v=-0.1557, grad=15.5741)]\n",
      "Layer 1 \n",
      " Weights: [[Var(v=0.1251, grad=13.1146)], [Var(v=-0.0609, grad=2.9390)], [Var(v=-0.0980, grad=12.3658)], [Var(v=-0.0285, grad=-4.6584)], [Var(v=0.1422, grad=2.8818)]]\n",
      " Biases: [Var(v=-0.0346, grad=3.4562)]\n",
      "\n",
      "Network after zeroing gradients:\n",
      "Layer 0 \n",
      " Weights: [[Var(v=0.1254, grad=0.0000), Var(v=-0.0609, grad=0.0000), Var(v=-0.0978, grad=0.0000), Var(v=-0.0309, grad=0.0000), Var(v=0.1424, grad=0.0000)]]\n",
      " Biases: [Var(v=-0.2333, grad=0.0000), Var(v=0.0287, grad=0.0000), Var(v=-0.0234, grad=0.0000), Var(v=-0.0658, grad=0.0000), Var(v=-0.1557, grad=0.0000)]\n",
      "Layer 1 \n",
      " Weights: [[Var(v=0.1251, grad=0.0000)], [Var(v=-0.0609, grad=0.0000)], [Var(v=-0.0980, grad=0.0000)], [Var(v=-0.0285, grad=0.0000)], [Var(v=0.1422, grad=0.0000)]]\n",
      " Biases: [Var(v=-0.0346, grad=0.0000)]\n"
     ]
    },
    {
     "data": {
      "text/plain": [
       "[None, None]"
      ]
     },
     "execution_count": 34,
     "metadata": {},
     "output_type": "execute_result"
    }
   ],
   "source": [
    "print('Network before update:')\n",
    "[print('Layer', i, '\\n', NN[i]) for i in range(len(NN))] \n",
    "\n",
    "def parameters(network):\n",
    "  params = []\n",
    "  for layer in range(len(network)):\n",
    "    params += network[layer].parameters()\n",
    "  return params\n",
    "\n",
    "def update_parameters(params, learning_rate=0.01):\n",
    "  for p in params:\n",
    "    p.v -= learning_rate*p.grad\n",
    "\n",
    "def zero_gradients(params):\n",
    "  for p in params:\n",
    "    p.grad = 0.0\n",
    "\n",
    "update_parameters(parameters(NN))\n",
    "\n",
    "print('\\nNetwork after update:')\n",
    "[print('Layer', i, '\\n', NN[i]) for i in range(len(NN))] \n",
    "\n",
    "zero_gradients(parameters(NN))\n",
    "\n",
    "print('\\nNetwork after zeroing gradients:')\n",
    "[print('Layer', i, '\\n', NN[i]) for i in range(len(NN))] "
   ]
  },
  {
   "cell_type": "code",
   "execution_count": 35,
   "metadata": {
    "id": "woWYpdw6FtIO"
   },
   "outputs": [],
   "source": [
    "# Initialize an arbitrary neural network\n",
    "NN = [\n",
    "    DenseLayer(1, 8, lambda x: x.relu()),\n",
    "    DenseLayer(8, 1, lambda x: x.identity())\n",
    "]\n",
    "\n",
    "# Recommended hyper-parameters for 3-D: \n",
    "#NN = [\n",
    "#    DenseLayer(3, 16, lambda x: x.relu()),\n",
    "#    DenseLayer(16, 1, lambda x: x.identity())\n",
    "#]\n",
    "\n",
    "\n",
    "### Notice that, when we switch from tanh to relu activation, we decrease the learning rate. This is due the stability of the gradients \n",
    "## of the activation functions."
   ]
  },
  {
   "cell_type": "code",
   "execution_count": 36,
   "metadata": {
    "id": "mdqaqYBVFtIR"
   },
   "outputs": [],
   "source": [
    "# Initialize training hyperparameters\n",
    "EPOCHS = 200\n",
    "LEARN_R = 2e-3 "
   ]
  },
  {
   "cell_type": "code",
   "execution_count": 37,
   "metadata": {
    "colab": {
     "base_uri": "https://localhost:8080/"
    },
    "id": "5kfg76GMFtIW",
    "outputId": "e30cf68a-31f2-42b4-cc5e-860c297c0f04",
    "scrolled": true
   },
   "outputs": [
    {
     "name": "stdout",
     "output_type": "stream",
     "text": [
      "   0 ( 0.00%) Train loss: 102.210 \t Validation loss: 100.343\n",
      "  10 ( 5.00%) Train loss: 24.860 \t Validation loss: 18.127\n",
      "  20 (10.00%) Train loss: 15.477 \t Validation loss: 11.442\n",
      "  30 (15.00%) Train loss: 14.579 \t Validation loss: 10.707\n",
      "  40 (20.00%) Train loss: 13.037 \t Validation loss: 9.960\n",
      "  50 (25.00%) Train loss: 12.401 \t Validation loss: 9.481\n",
      "  60 (30.00%) Train loss: 12.242 \t Validation loss: 9.228\n",
      "  70 (35.00%) Train loss: 12.163 \t Validation loss: 9.111\n",
      "  80 (40.00%) Train loss: 12.107 \t Validation loss: 9.024\n",
      "  90 (45.00%) Train loss: 12.068 \t Validation loss: 8.962\n",
      " 100 (50.00%) Train loss: 12.028 \t Validation loss: 8.930\n",
      " 110 (55.00%) Train loss: 11.986 \t Validation loss: 8.918\n",
      " 120 (60.00%) Train loss: 11.952 \t Validation loss: 8.906\n",
      " 130 (65.00%) Train loss: 11.936 \t Validation loss: 8.915\n",
      " 140 (70.00%) Train loss: 11.924 \t Validation loss: 8.928\n",
      " 150 (75.00%) Train loss: 11.915 \t Validation loss: 8.942\n",
      " 160 (80.00%) Train loss: 11.910 \t Validation loss: 8.952\n",
      " 170 (85.00%) Train loss: 11.906 \t Validation loss: 8.959\n",
      " 180 (90.00%) Train loss: 11.904 \t Validation loss: 8.960\n",
      " 190 (95.00%) Train loss: 11.902 \t Validation loss: 8.965\n"
     ]
    }
   ],
   "source": [
    "train_loss = []\n",
    "val_loss = []\n",
    "\n",
    "for e in range(EPOCHS):\n",
    "     \n",
    "    # Forward pass and loss computation\n",
    "    Loss = squared_loss(y_train, forward(x_train, NN))\n",
    "\n",
    "    # Backward pass\n",
    "    Loss.backward()\n",
    "    \n",
    "    # gradient descent update\n",
    "    update_parameters(parameters(NN), LEARN_R)\n",
    "    zero_gradients(parameters(NN))\n",
    "    \n",
    "    # Training loss\n",
    "    train_loss.append(Loss.v)\n",
    "    \n",
    "    # Validation\n",
    "    Loss_validation = squared_loss(y_validation, forward(x_validation, NN))\n",
    "    val_loss.append(Loss_validation.v)\n",
    "    \n",
    "    if e%10==0:\n",
    "        print(\"{:4d}\".format(e),\n",
    "              \"({:5.2f}%)\".format(e/EPOCHS*100), \n",
    "              \"Train loss: {:4.3f} \\t Validation loss: {:4.3f}\".format(train_loss[-1], val_loss[-1]))\n",
    "        \n"
   ]
  },
  {
   "cell_type": "code",
   "execution_count": 38,
   "metadata": {
    "colab": {
     "base_uri": "https://localhost:8080/",
     "height": 265
    },
    "id": "VetyRWFwFtIY",
    "outputId": "344e490d-6d7d-455a-fa6f-88dd11eb957e",
    "scrolled": true
   },
   "outputs": [
    {
     "data": {
      "image/png": "[encoded data removed]",
      "text/plain": [
       "<Figure size 432x288 with 1 Axes>"
      ]
     },
     "metadata": {
      "needs_background": "light"
     },
     "output_type": "display_data"
    }
   ],
   "source": [
    "plt.plot(range(len(train_loss)), train_loss);\n",
    "plt.plot(range(len(val_loss)), val_loss);"
   ]
  },
  {
   "cell_type": "markdown",
   "metadata": {
    "id": "8OgmIrM9FtIb"
   },
   "source": [
    "# Testing\n",
    "\n",
    "We have kept the calculation of the test error separate in order to emphasize that you should not use the test set in optimization."
   ]
  },
  {
   "cell_type": "code",
   "execution_count": 39,
   "metadata": {
    "id": "HmNi7S-vFtIc"
   },
   "outputs": [],
   "source": [
    "output_test = forward(x_test, NN)"
   ]
  },
  {
   "cell_type": "code",
   "execution_count": 40,
   "metadata": {
    "colab": {
     "base_uri": "https://localhost:8080/",
     "height": 316
    },
    "id": "7mmJOTSEFtIf",
    "outputId": "e3264095-cefe-4aee-893d-bf152438e332"
   },
   "outputs": [
    {
     "name": "stdout",
     "output_type": "stream",
     "text": [
      "Test loss:  9.790\n"
     ]
    },
    {
     "data": {
      "image/png": "[encoded data removed]",
      "text/plain": [
       "<Figure size 432x288 with 1 Axes>"
      ]
     },
     "metadata": {
      "needs_background": "light"
     },
     "output_type": "display_data"
    }
   ],
   "source": [
    "y_test_np = Var_to_nparray(y_test)\n",
    "plt.scatter(y_test_np, Var_to_nparray(output_test));\n",
    "plt.plot([np.min(y_test_np), np.max(y_test_np)], [np.min(y_test_np), np.max(y_test_np)], color='k');\n",
    "plt.xlabel(\"y\");\n",
    "plt.ylabel(\"$\\hat{y}$\");\n",
    "plt.title(\"Model prediction vs real in the test set, the close to the line the better\")\n",
    "plt.grid(True);\n",
    "plt.axis('equal');\n",
    "plt.tight_layout();\n",
    "\n",
    "Loss_test = squared_loss(y_test, forward(x_test, NN))\n",
    "\n",
    "print(\"Test loss:  {:4.3f}\".format(Loss_test.v))"
   ]
  },
  {
   "cell_type": "code",
   "execution_count": 41,
   "metadata": {
    "colab": {
     "base_uri": "https://localhost:8080/",
     "height": 279
    },
    "id": "ODi0WlmQFtIh",
    "outputId": "d1ab874f-0717-4987-87bf-1f0c7c8e7148"
   },
   "outputs": [
    {
     "data": {
      "image/png": "[encoded data removed]",
      "text/plain": [
       "<Figure size 432x288 with 1 Axes>"
      ]
     },
     "metadata": {
      "needs_background": "light"
     },
     "output_type": "display_data"
    }
   ],
   "source": [
    "x_test_np = Var_to_nparray(x_test)\n",
    "x_train_np = Var_to_nparray(x_train)\n",
    "y_train_np = Var_to_nparray(y_train)\n",
    "if D1:\n",
    "    plt.scatter(x_train_np, y_train_np, label=\"train data\");\n",
    "    plt.scatter(x_test_np, Var_to_nparray(output_test), label=\"test prediction\");\n",
    "    plt.scatter(x_test_np, y_test_np, label=\"test data\");\n",
    "    plt.legend();\n",
    "    plt.xlabel(\"x\");\n",
    "    plt.ylabel(\"y\");\n",
    "else:\n",
    "    plt.scatter(x_train_np[:,1], y_train, label=\"train data\");\n",
    "    plt.scatter(x_test_np[:,1], Var_to_nparray(output_test), label=\"test data prediction\");\n",
    "    plt.scatter(x_test_np[:,1], y_test_np, label=\"test data\");\n",
    "    plt.legend();\n",
    "    plt.xlabel(\"x\");\n",
    "    plt.ylabel(\"y\");"
   ]
  },
  {
   "cell_type": "markdown",
   "metadata": {
    "id": "zTBAmjsAFtIk"
   },
   "source": [
    "## Exercise k) Show overfitting, underfitting and just right fitting\n",
    "\n",
    "Vary the architecture and other things to show clear signs of overfitting (=training loss significantly lower than test loss) and underfitting (=not fitting enoung to training data so that test performance is also hurt).\n",
    "\n",
    "See also if you can get a good compromise which leads to a low validation loss. \n",
    "\n",
    "For this problem do you see any big difference between validation and test loss? The answer here will probably be no. Discuss cases where it is important to keep the two separate.\n",
    "\n",
    "_Insert written answer here._\n",
    "\n",
    "We don't see a big difference as in our case test and validation sets have exactly the same assumptions. It is important to keep them separate if we for example want to tune our network based on validation set. For example we check 10 different networks and check which of them has the best parameters in terms of the error on validation. then we use the test set to do the unbiased assesment of quality."
   ]
  },
  {
   "cell_type": "markdown",
   "metadata": {},
   "source": [
    "### Overfitting\n",
    "\n",
    "To show overfitting I use a large number of epochs, a very simple network and a high learning rate. It is easier to see it on the 3D dataset. Below we can notice that after a certain amount of epochs the train loss keeps getting smaller but the distance from the validation loss stays relatively the same."
   ]
  },
  {
   "cell_type": "code",
   "execution_count": 166,
   "metadata": {
    "id": "u1oDngHLapIz"
   },
   "outputs": [],
   "source": [
    "D1 = False\n",
    "x_train, y_train,  x_validation, y_validation, x_test, y_test = data_generator(noise=0.5, D1=D1)"
   ]
  },
  {
   "cell_type": "code",
   "execution_count": 158,
   "metadata": {
    "colab": {
     "base_uri": "https://localhost:8080/",
     "height": 265
    },
    "id": "Ysfa3FsBavlm",
    "outputId": "26d5d03c-6c26-47ce-cbab-676c99c30b73"
   },
   "outputs": [
    {
     "data": {
      "image/png": "[encoded data removed]",
      "text/plain": [
       "<Figure size 432x288 with 1 Axes>"
      ]
     },
     "metadata": {
      "needs_background": "light"
     },
     "output_type": "display_data"
    }
   ],
   "source": [
    "if D1:\n",
    "    plt.scatter(x_train[:,0], y_train);\n",
    "    plt.scatter(x_validation[:,0], y_validation);\n",
    "    plt.scatter(x_test[:,0], y_test);\n",
    "else:\n",
    "    plt.scatter(x_train[:,1], y_train);\n",
    "    plt.scatter(x_validation[:,1], y_validation);\n",
    "    plt.scatter(x_test[:,1], y_test);\n",
    "plt.show()"
   ]
  },
  {
   "cell_type": "code",
   "execution_count": 169,
   "metadata": {
    "id": "zac2HHNlgbpm"
   },
   "outputs": [],
   "source": [
    "# convert from nparray to Var\n",
    "def nparray_to_Var(x):\n",
    "    if x.ndim==1:\n",
    "        y = [[Var(float(x[i]))] for i in range(x.shape[0])] # always work with list of list\n",
    "    else:\n",
    "        y = [[Var(float(x[i,j])) for j in range(x.shape[1])] for i in range(x.shape[0])]\n",
    "    return y\n",
    "   \n",
    "x_train = nparray_to_Var(x_train)\n",
    "y_train = nparray_to_Var(y_train)\n",
    "x_validation = nparray_to_Var(x_validation)\n",
    "y_validation = nparray_to_Var(y_validation)\n",
    "x_test = nparray_to_Var(x_test)\n",
    "y_test = nparray_to_Var(y_test)\n"
   ]
  },
  {
   "cell_type": "code",
   "execution_count": 175,
   "metadata": {
    "id": "tQZCn2dxFtIl"
   },
   "outputs": [
    {
     "name": "stdout",
     "output_type": "stream",
     "text": [
      "   0 ( 0.00%) Train loss: 102.203 \t Validation loss: 72.592\n",
      "  10 ( 5.00%) Train loss: 86.849 \t Validation loss: 65.229\n",
      "  20 (10.00%) Train loss: 66.470 \t Validation loss: 55.038\n",
      "  30 (15.00%) Train loss: 49.628 \t Validation loss: 43.083\n",
      "  40 (20.00%) Train loss: 35.341 \t Validation loss: 30.532\n",
      "  50 (25.00%) Train loss: 22.535 \t Validation loss: 19.521\n",
      "  60 (30.00%) Train loss: 14.514 \t Validation loss: 13.403\n",
      "  70 (35.00%) Train loss: 10.479 \t Validation loss: 11.163\n",
      "  80 (40.00%) Train loss: 8.451 \t Validation loss: 10.604\n",
      "  90 (45.00%) Train loss: 7.294 \t Validation loss: 10.444\n",
      " 100 (50.00%) Train loss: 6.606 \t Validation loss: 10.242\n",
      " 110 (55.00%) Train loss: 6.072 \t Validation loss: 10.031\n",
      " 120 (60.00%) Train loss: 5.592 \t Validation loss: 9.684\n",
      " 130 (65.00%) Train loss: 5.207 \t Validation loss: 9.376\n",
      " 140 (70.00%) Train loss: 4.732 \t Validation loss: 8.982\n",
      " 150 (75.00%) Train loss: 4.170 \t Validation loss: 8.600\n",
      " 160 (80.00%) Train loss: 3.720 \t Validation loss: 8.331\n",
      " 170 (85.00%) Train loss: 3.361 \t Validation loss: 8.084\n",
      " 180 (90.00%) Train loss: 3.071 \t Validation loss: 7.878\n",
      " 190 (95.00%) Train loss: 2.802 \t Validation loss: 7.552\n"
     ]
    }
   ],
   "source": [
    "# Insert your code for getting overfitting, underfitting and just right fitting\n",
    "# Initialize an arbitrary neural network\n",
    "NN = [\n",
    "    DenseLayer(3, 10, lambda x: x.relu()),\n",
    "    DenseLayer(10, 1, lambda x: x.identity())\n",
    "]\n",
    "\n",
    "# Initialize training hyperparameters\n",
    "EPOCHS = 200\n",
    "LEARN_R = 0.001\n",
    "\n",
    "train_loss = []\n",
    "val_loss = []\n",
    "\n",
    "for e in range(EPOCHS):\n",
    "     \n",
    "    # Forward pass and loss computation\n",
    "    Loss = squared_loss(y_train, forward(x_train, NN))\n",
    "\n",
    "    # Backward pass\n",
    "    Loss.backward()\n",
    "    \n",
    "    # gradient descent update\n",
    "    update_parameters(parameters(NN), LEARN_R)\n",
    "    zero_gradients(parameters(NN))\n",
    "    \n",
    "    # Training loss\n",
    "    train_loss.append(Loss.v)\n",
    "    \n",
    "    # Validation\n",
    "    Loss_validation = squared_loss(y_validation, forward(x_validation, NN))\n",
    "    val_loss.append(Loss_validation.v)\n",
    "    \n",
    "    if e%10==0:\n",
    "        print(\"{:4d}\".format(e),\n",
    "              \"({:5.2f}%)\".format(e/EPOCHS*100), \n",
    "              \"Train loss: {:4.3f} \\t Validation loss: {:4.3f}\".format(train_loss[-1], val_loss[-1]))\n",
    "        \n"
   ]
  },
  {
   "cell_type": "code",
   "execution_count": 163,
   "metadata": {},
   "outputs": [
    {
     "name": "stdout",
     "output_type": "stream",
     "text": [
      "Var(v=69.3935, grad=0.0000)\n"
     ]
    }
   ],
   "source": [
    "Loss_test = squared_loss(y_test, forward(x_test, NN))\n",
    "print(Loss_test)"
   ]
  },
  {
   "cell_type": "code",
   "execution_count": 164,
   "metadata": {},
   "outputs": [
    {
     "data": {
      "image/png": "[encoded data removed]",
      "text/plain": [
       "<Figure size 432x288 with 1 Axes>"
      ]
     },
     "metadata": {
      "needs_background": "light"
     },
     "output_type": "display_data"
    }
   ],
   "source": [
    "plt.plot(range(len(train_loss)), train_loss);\n",
    "plt.plot(range(len(val_loss)), val_loss);"
   ]
  },
  {
   "cell_type": "markdown",
   "metadata": {},
   "source": [
    "### Underfitting\n",
    "\n",
    "We just put a very high learning rate and the network can't even learn the training examples."
   ]
  },
  {
   "cell_type": "code",
   "execution_count": 171,
   "metadata": {},
   "outputs": [
    {
     "name": "stdout",
     "output_type": "stream",
     "text": [
      "   0 ( 0.00%) Train loss: 103.920 \t Validation loss: 72.368\n",
      "  10 (20.00%) Train loss: 90.427 \t Validation loss: 70.461\n",
      "  20 (40.00%) Train loss: 17026958.680 \t Validation loss: 1080449414.044\n",
      "  30 (60.00%) Train loss: 7008079859828297320420605952.000 \t Validation loss: 1045259027137433217425502896128.000\n",
      "  40 (80.00%) Train loss: 25052454037593073317731731239539156044972017319936.000 \t Validation loss: 3736592658667779036462230721664226914236060479258624.000\n"
     ]
    }
   ],
   "source": [
    "# Insert your code for getting overfitting, underfitting and just right fitting\n",
    "# Initialize an arbitrary neural network\n",
    "NN = [\n",
    "    DenseLayer(3, 10, lambda x: x.tanhi()),\n",
    "    DenseLayer(10, 1, lambda x: x.identity())\n",
    "]\n",
    "\n",
    "# Initialize training hyperparameters\n",
    "EPOCHS = 50\n",
    "LEARN_R = 0.01\n",
    "\n",
    "train_loss = []\n",
    "val_loss = []\n",
    "\n",
    "for e in range(EPOCHS):\n",
    "     \n",
    "    # Forward pass and loss computation\n",
    "    Loss = squared_loss(y_train, forward(x_train, NN))\n",
    "\n",
    "    # Backward pass\n",
    "    Loss.backward()\n",
    "    \n",
    "    # gradient descent update\n",
    "    update_parameters(parameters(NN), LEARN_R)\n",
    "    zero_gradients(parameters(NN))\n",
    "    \n",
    "    # Training loss\n",
    "    train_loss.append(Loss.v)\n",
    "    \n",
    "    # Validation\n",
    "    Loss_validation = squared_loss(y_validation, forward(x_validation, NN))\n",
    "    val_loss.append(Loss_validation.v)\n",
    "    \n",
    "    if e%10==0:\n",
    "        print(\"{:4d}\".format(e),\n",
    "              \"({:5.2f}%)\".format(e/EPOCHS*100), \n",
    "              \"Train loss: {:4.3f} \\t Validation loss: {:4.3f}\".format(train_loss[-1], val_loss[-1]))"
   ]
  },
  {
   "cell_type": "markdown",
   "metadata": {},
   "source": [
    "### Just right fitting\n",
    "\n",
    "We can see that by increasing our number of neurons just slightly and reducing the learning rate we keep reducing the train loss while the validation loss stays similar."
   ]
  },
  {
   "cell_type": "code",
   "execution_count": 177,
   "metadata": {},
   "outputs": [
    {
     "name": "stdout",
     "output_type": "stream",
     "text": [
      "   0 ( 0.00%) Train loss: 102.523 \t Validation loss: 74.768\n",
      "  10 (10.00%) Train loss: 69.987 \t Validation loss: 52.930\n",
      "  20 (20.00%) Train loss: 41.776 \t Validation loss: 34.673\n",
      "  30 (30.00%) Train loss: 24.575 \t Validation loss: 20.792\n",
      "  40 (40.00%) Train loss: 16.040 \t Validation loss: 13.597\n",
      "  50 (50.00%) Train loss: 12.019 \t Validation loss: 10.581\n",
      "  60 (60.00%) Train loss: 9.762 \t Validation loss: 9.322\n",
      "  70 (70.00%) Train loss: 8.279 \t Validation loss: 8.774\n",
      "  80 (80.00%) Train loss: 7.186 \t Validation loss: 8.473\n",
      "  90 (90.00%) Train loss: 6.372 \t Validation loss: 8.256\n"
     ]
    }
   ],
   "source": [
    "# Insert your code for getting overfitting, underfitting and just right fitting\n",
    "# Initialize an arbitrary neural network\n",
    "NN = [\n",
    "    DenseLayer(3, 50, lambda x: x.relu()),\n",
    "    DenseLayer(50, 1, lambda x: x.identity())\n",
    "]\n",
    "\n",
    "# Initialize training hyperparameters\n",
    "EPOCHS = 100\n",
    "LEARN_R = 1e-3\n",
    "\n",
    "train_loss = []\n",
    "val_loss = []\n",
    "\n",
    "for e in range(EPOCHS):\n",
    "     \n",
    "    # Forward pass and loss computation\n",
    "    Loss = squared_loss(y_train, forward(x_train, NN))\n",
    "\n",
    "    # Backward pass\n",
    "    Loss.backward()\n",
    "    \n",
    "    # gradient descent update\n",
    "    update_parameters(parameters(NN), LEARN_R)\n",
    "    zero_gradients(parameters(NN))\n",
    "    \n",
    "    # Training loss\n",
    "    train_loss.append(Loss.v)\n",
    "    \n",
    "    # Validation\n",
    "    Loss_validation = squared_loss(y_validation, forward(x_validation, NN))\n",
    "    val_loss.append(Loss_validation.v)\n",
    "    \n",
    "    if e%10==0:\n",
    "        print(\"{:4d}\".format(e),\n",
    "              \"({:5.2f}%)\".format(e/EPOCHS*100), \n",
    "              \"Train loss: {:4.3f} \\t Validation loss: {:4.3f}\".format(train_loss[-1], val_loss[-1]))"
   ]
  },
  {
   "cell_type": "markdown",
   "metadata": {
    "id": "fYPZP-eTFtIo"
   },
   "source": [
    "# Next steps - classification\n",
    "\n",
    "It is straight forward to extend what we have done to classification. \n",
    "\n",
    "For numerical stability it is better to make softmax and cross-entropy as one function so we write the cross entropy loss as a function of the logits we talked about last week. \n",
    "\n",
    "Next week we will see how to perform classification in PyTorch."
   ]
  },
  {
   "cell_type": "markdown",
   "metadata": {
    "id": "qsVPul3QFtIo"
   },
   "source": [
    "## Exercise l) optional - Implement backpropagation for classification\n",
    "\n",
    "Should be possible with very few lines of code. :-)"
   ]
  },
  {
   "cell_type": "code",
   "execution_count": null,
   "metadata": {
    "collapsed": true,
    "id": "oC8QrI2tFtIp"
   },
   "outputs": [],
   "source": [
    "# Just add code."
   ]
  },
  {
   "cell_type": "markdown",
   "metadata": {
    "id": "APqhJv3tta1O"
   },
   "source": [
    "## Exercise m) optional - Introduce a NeuralNetwork class\n",
    "\n",
    "The functions we applied on the neural network (parameters, update_parameters and zero_gradients) can more naturally be included as methods in a NeuralNetwork class. Make such a class and modify the code to use it. "
   ]
  },
  {
   "cell_type": "code",
   "execution_count": null,
   "metadata": {
    "id": "Dqfnor1ouMLq"
   },
   "outputs": [],
   "source": [
    "# just add some code"
   ]
  }
 ],
 "metadata": {
  "anaconda-cloud": {},
  "colab": {
   "name": "2.1-EXE-FNN-AutoDif-Nanograd.ipynb",
   "provenance": []
  },
  "kernelspec": {
   "display_name": "Python 3",
   "language": "python",
   "name": "python3"
  },
  "language_info": {
   "codemirror_mode": {
    "name": "ipython",
    "version": 3
   },
   "file_extension": ".py",
   "mimetype": "text/x-python",
   "name": "python",
   "nbconvert_exporter": "python",
   "pygments_lexer": "ipython3",
   "version": "3.8.5"
  }
 },
 "nbformat": 4,
 "nbformat_minor": 1
}
