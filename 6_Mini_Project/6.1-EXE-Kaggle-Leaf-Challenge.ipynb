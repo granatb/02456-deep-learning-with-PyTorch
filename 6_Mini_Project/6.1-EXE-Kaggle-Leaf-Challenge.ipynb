{
  "nbformat": 4,
  "nbformat_minor": 0,
  "metadata": {
    "anaconda-cloud": {},
    "kernelspec": {
      "display_name": "Python 3",
      "language": "python",
      "name": "python3"
    },
    "language_info": {
      "codemirror_mode": {
        "name": "ipython",
        "version": 3
      },
      "file_extension": ".py",
      "mimetype": "text/x-python",
      "name": "python",
      "nbconvert_exporter": "python",
      "pygments_lexer": "ipython3",
      "version": "3.7.6"
    },
    "colab": {
      "name": "6.1-EXE-Kaggle-Leaf-Challenge.ipynb",
      "provenance": []
    }
  },
  "cells": [
    {
      "cell_type": "markdown",
      "metadata": {
        "id": "Q_PyLyZjutAp"
      },
      "source": [
        "# Credits\n",
        "\n",
        "Originally created for a previous version of the [02456-deep-learning](https://github.com/DeepLearningDTU/02456-deep-learning) course material, but [converted to PyTorch](https://github.com/pytorch/tutorials).\n",
        "See repos for credits."
      ]
    },
    {
      "cell_type": "code",
      "metadata": {
        "id": "SONavEk_utAr"
      },
      "source": [
        "## Install pandas if you don't already have it (uncomment line below)\n",
        "\n",
        "# ! pip install pandas"
      ],
      "execution_count": 1,
      "outputs": []
    },
    {
      "cell_type": "code",
      "metadata": {
        "id": "ZBE-BAlyutAs"
      },
      "source": [
        "%matplotlib inline\n",
        "import matplotlib\n",
        "import numpy as np\n",
        "import pandas as pd\n",
        "import matplotlib.pyplot as plt\n",
        "import glob\n",
        "import os\n",
        "\n",
        "from IPython.display import clear_output\n",
        "from skimage.io import imread\n",
        "from skimage.transform import resize\n",
        "\n",
        "import data_utils\n",
        "\n",
        "#import sys\n",
        "#sys.path.append(os.path.join('.', '..')) # Allow us to import shared custom \n",
        "#                                         # libraries, like utils.py"
      ],
      "execution_count": 2,
      "outputs": []
    },
    {
      "cell_type": "markdown",
      "metadata": {
        "id": "KMDYSx1hutAs"
      },
      "source": [
        "# Tying everything together\n",
        "\n",
        "Now that you have learned about the three most used network architectures: FFNs, CNNs and RNNs. It is time to combine these network types into a more advanced model. \n",
        "It often happens that you have a combination of data that cannot fully be modeled by any one of these three types of network. Knowing how to divide the data into the right subsets, and then build a network that handles each subset efficiently can mean the difference between a great model and an unusable one. \n",
        "\n",
        "In this notebook we will work on the **Kaggle Leaf Classification Challenge**, a data science competition from [`kaggle.com`](kaggle.com) that contains several different kinds of data.\n",
        "First we will download the data and visualize it, and then we will train a network to classify the data.\n",
        "A simple network with poor performance is provided for you as a starting point, but it is up to you use the things you have learnt to improve the results.\n",
        "\n",
        "\n",
        "## Kaggle challenge\n",
        "Kaggle is a website to participate in real life challenges.\n",
        "Early 2017 it was bought by Google, who wanted access to the global community of data scientists it has created over the last 7 years.\n",
        "Since then Google has sponsored its expansion and now the prizes of the competitions and the amount of public datasets are bigger than ever. \n",
        "Most competitions on Kaggle have a dataset, an accuracy metric and a leaderboard to compare submissions.\n",
        "You can read more about Kaggle public datasets [here](https://www.kaggle.com/datasets).\n",
        "\n",
        "The challenge we will pursue is the [_Leaf Classification_](https://www.kaggle.com/c/leaf-classification) challenge.\n",
        "The dataset consists approximately 1,584 images of leaf specimens which have been converted to binary black leaves against white backgrounds. \n",
        "Three sets of features are also provided per image: a shape contiguous descriptor, an interior texture histogram, and a ﬁne-scale margin histogram. For each feature, a 64-attribute vector is given per leaf sample. We will primarily look into the type of neural network best suited for handling this type of data. \n",
        "\n",
        "Lastly, we will train the model and put the outputs in a submission file that we can submit to Kaggle."
      ]
    },
    {
      "cell_type": "markdown",
      "metadata": {
        "id": "kmDMqplQutAt"
      },
      "source": [
        "# Get set up\n",
        "\n",
        "**NB**: You will need a Kaggle account for this exercise!\n",
        "\n",
        "1. Go to [Kaggle](https://www.kaggle.com/), create a user\n",
        "2. [Download the dataset](https://www.kaggle.com/c/leaf-classification/data)\n",
        "3. Unpack the dataset in the current directory. Structure should be as follows:\n",
        "```\n",
        "02456-deep-learning-with-PyTorch\\4_Mini_Project\n",
        "--> sample_submission.csv\n",
        "--> test.csv\n",
        "--> train.csv\n",
        "--> images\n",
        "--> --> 1.jpg\n",
        "--> --> 2.jpg\n",
        "--> --> 3.jpg\n",
        "--> --> ...\n",
        "```\n",
        "\n",
        "# Upload data to colab\n",
        "If you're running this notebook on google colab, you'll need to upload `data_utils.py` that we provide as well as the data you've just downloaded from kaggle to colab. Small files like `data_utils.py` you can simply upload via the folder icon to the left. Files that are uploaded like this, however, will be deleted every time the runtime deconnects. For big files like the kaggle datafolder it's therefore better to:\n",
        "\n",
        "1. upload the data to google drive\n",
        "2. mount the google drive (see cell below)"
      ]
    },
    {
      "cell_type": "code",
      "metadata": {
        "colab": {
          "base_uri": "https://localhost:8080/"
        },
        "id": "RtL3AXnwutAu",
        "outputId": "3a4a92a9-a674-43e4-e5ce-67e677133489"
      },
      "source": [
        "from google.colab import drive\n",
        "drive.mount('/content/drive', force_remount=True)"
      ],
      "execution_count": 3,
      "outputs": [
        {
          "output_type": "stream",
          "name": "stdout",
          "text": [
            "Mounted at /content/drive\n"
          ]
        }
      ]
    },
    {
      "cell_type": "markdown",
      "metadata": {
        "id": "RsMw7LZiutAv"
      },
      "source": [
        "After going through a quick authorization process you should now have access to the uploaded file via colab. We can check the location of our data like so:"
      ]
    },
    {
      "cell_type": "code",
      "metadata": {
        "collapsed": true,
        "colab": {
          "base_uri": "https://localhost:8080/"
        },
        "id": "CcURiPfNutAv",
        "outputId": "1709bba3-c0ce-4371-961a-1e6e17fa9886"
      },
      "source": [
        "!ls drive/'My Drive'"
      ],
      "execution_count": 4,
      "outputs": [
        {
          "output_type": "stream",
          "name": "stdout",
          "text": [
            " 101029750_3293872910643461_502878955976523776_n.png\n",
            " 10-marca-16r-sprawozdanie.docx\n",
            " 10-marca-16r-sprawozdanie.docx.gdoc\n",
            " 14-marca-16r-sprawozdanie.docx\n",
            " 14-marca-16r-sprawozdanie.docx.gdoc\n",
            " 18-marca-16r-sprawozdanie.docx\n",
            " 18-marca-16r-sprawozdanie.docx.gdoc\n",
            " 1-marca-16r-sprawozdanie.docx\n",
            " 1-marca-16r-sprawozdanie.docx.gdoc\n",
            " 20210901_211102_00.mp4\n",
            " 2-marca-16r-sprawozdanie.docx\n",
            " 2-marca-16r-sprawozdanie.docx.gdoc\n",
            " 3-marca-16r-sprawozdanie.docx\n",
            " 3-marca-16r-sprawozdanie.docx.gdoc\n",
            "'activity_diagram (1).png'\n",
            "'activity_diagram (2).png'\n",
            "'activity_diagram (3).png'\n",
            "'activity_diagram (4).png'\n",
            "'activity_diagram (5).png'\n",
            " activity_diagram.drawio\n",
            " activity_diagram.png\n",
            "'A.GRAFIK MENORA.gsheet'\n",
            " answers_1712.gsheet\n",
            " augment.py\n",
            "'balllista new avatar.png'\n",
            "'Bartek foty grecja'\n",
            "'Bartłomiej Granat CV.doc'\n",
            "'Bartłomiej Granat CV.doc.gdoc'\n",
            "'Całkonalia 2019'\n",
            "'cechy gospodarki wolnorynkowej.doc'\n",
            " champy.gsheet\n",
            " classify-dirt.py\n",
            " classify-ice.py\n",
            " classify-snow.py\n",
            " classify-wet.py\n",
            "'Colab Notebooks'\n",
            "'ConWX cover letter.gdoc'\n",
            " Coolheads.gsheet\n",
            "'Copy of 1st_question (1).gsheet'\n",
            "'Copy of 1st_question.gsheet'\n",
            "'Copy of Kwalifikacje (Liga Pretendenta).gsheet'\n",
            "'Copy of NDA_Ballista Esports.docx'\n",
            "'CTO Job Offer.gdoc'\n",
            " cukier.gdoc\n",
            "'Cukrownictwo w Polsce.gslides'\n",
            "'dane zawodników.xlsx'\n",
            " Dania.gsheet\n",
            "'Doc Aug 22 2021.pdf'\n",
            "'Doc Aug 23 2021.pdf'\n",
            "'Doc Aug 31 2021(1).pdf'\n",
            " Dockerfile\n",
            "'Doc Sep 23 2021(1).pdf'\n",
            "'Doc Sep 29 2021.pdf'\n",
            "'Dokument bez tytułu (1).gdoc'\n",
            "'Dokument bez tytułu.gdoc'\n",
            " domki.gsheet\n",
            " Farby.gsheet\n",
            " finalhtml.zip\n",
            " final.rar\n",
            " granat_bartek.R\n",
            " granatb.zip\n",
            " granat_labels.gsheet\n",
            " IMG_20171029_210026.jpg\n",
            " IMG_20171031_185432.jpg\n",
            "'infopack - lista zakwaterowanie.gdoc'\n",
            "'infopack - lista zakwaterowanie.pdf'\n",
            " inPress.gslides\n",
            " Kanclerz_teren.docx\n",
            " Kanclerz_teren.gdoc\n",
            "'Kawiarnia Broadway.gdoc'\n",
            " KRP_Staszic.gsheet\n",
            "'Kwestionariusz Osobowy.xls'\n",
            " lab3.mp4\n",
            " Laptop.gsheet\n",
            " leaf_images\n",
            "'Lean Canvas 27.gsheet'\n",
            "'lecimy gdzie.gsheet'\n",
            "'Leothon 2019'\n",
            " mail.gdoc\n",
            "'Melini 2019.gslides'\n",
            " model-dirt.h5\n",
            " muza2.rar\n",
            " muza.rar\n",
            " nartki\n",
            "'NDA BGranat'\n",
            "'New Folder'\n",
            " note1.txt\n",
            " OKO.pptx\n",
            " OKO.pptx.gslides\n",
            "'opieka nad salami.doc'\n",
            "'Ordynacja Lenart (1).odt.gdoc'\n",
            "'Ordynacja Lenart (2).odt.gdoc'\n",
            "'Ordynacja Lenart (3).odt.gdoc'\n",
            "'Ordynacja Lenart.odt'\n",
            "'Ordynacja Lenart.odt.gdoc'\n",
            "'Otrzesiny schemat.gdoc'\n",
            "'Parkiet_27.10.2014_(249).76934.wyd'\n",
            "'Pecha_Kucha_Vesta (1).pptx.gslides'\n",
            " Pecha_Kucha_Vesta.pptx\n",
            " Pecha_Kucha_Vesta.pptx.gslides\n",
            " PESTEL.gdoc\n",
            " piraci.xlsx\n",
            " piraci.xlsx.gsheet\n",
            "'Plan ogólny'\n",
            "'praca domowa.doc'\n",
            "'praca domowa.doc.gdoc'\n",
            "'pracownik 08.zip'\n",
            " prez_slow.mp4\n",
            " projekt.rar\n",
            " Przedsiębiorczość.gdoc\n",
            "'Rec Audio-433,00.pdf'\n",
            " receipt.pdf\n",
            " requirements.txt\n",
            " robota.gdoc\n",
            "'RWL higlights'\n",
            " scanner_20181212_210410\n",
            " scen.gdoc\n",
            " Schedule.gsheet\n",
            "'Senatorowie w roku szkolnym 2014.odt'\n",
            "'Shiny HTML Template App - Google Chrome 2020-11-20 01-17-54.mp4'\n",
            " Sortowanieprzezwstawianie.cpp\n",
            " SparkDemo-1.1-SNAPSHOT-jar-with-dependencies.jar\n",
            "'Sponsoring Ballista.gsheet'\n",
            " studenci_bartekG.xcl.gsheet\n",
            "'Święty Archanioł Michał.doc'\n",
            "'Święty Archanioł Michał.doc.gdoc'\n",
            " tabela1.docx\n",
            " tabela1.docx.gdoc\n",
            " TD_LAB5.zip\n",
            " train-dirt.py\n",
            " train-ice.py\n",
            " train-snow.py\n",
            " train-wet.py\n",
            " Uchwala-nr-3-Senatu-w-sprawie-powolnia-Komisji-Wyborczej.odt\n",
            " Uczestnicy.gsheet\n",
            "\"Udostępnij 'umowa_slowacja_pw.doc'\"\n",
            "'Umowa_DIATAZA_PIKNIK FONTANNA 23.05.2019 całkonalia.gdoc'\n",
            "'Umowa_DIATAZA_PIKNIK FONTANNA 23.05.2019 całkonalia.pdf'\n",
            "'Untitled Diagram (1).drawio'\n",
            "'Untitled Diagram (1).pdf'\n",
            "'Untitled Diagram (2).pdf'\n",
            "'Untitled Diagram.drawio'\n",
            "'Untitled Diagram.pdf'\n",
            "'Untitled document (1).gdoc'\n",
            "'Untitled document (2).gdoc'\n",
            "'Untitled document (3).gdoc'\n",
            "'Untitled document (4).gdoc'\n",
            "'Untitled document (5).gdoc'\n",
            "'Untitled document.gdoc'\n",
            "'Untitled form (1).gform'\n",
            "'Untitled form (2).gform'\n",
            "'Untitled form (3).gform'\n",
            "'Untitled form (4).gform'\n",
            "'Untitled form.gform'\n",
            "'Untitled presentation (1).gslides'\n",
            "'Untitled presentation.gslides'\n",
            "'Untitled spreadsheet (1).gsheet'\n",
            "'Untitled spreadsheet.gsheet'\n",
            "'Vesta - KRP.gdoc'\n",
            "'Vesta - KRP - raporty .gdoc'\n",
            "'Vocabulary to the presentation.odt'\n",
            "'Vocabulary to the presentation.odt.gdoc'\n",
            "'wybór Lenarta.odt'\n",
            " wyk3_pt1.mp4\n",
            " wyk3_pt2.mp4\n",
            " wyk3_pt3.mp4\n",
            "'Wywiady LoL.gdoc'\n"
          ]
        }
      ]
    },
    {
      "cell_type": "markdown",
      "metadata": {
        "id": "ba0-5UruutAw"
      },
      "source": [
        "Let's save the path for later use. Just replace this with your local path if you're not running on colab."
      ]
    },
    {
      "cell_type": "code",
      "metadata": {
        "id": "hS4i05ekutAw"
      },
      "source": [
        "drive_path = 'drive/My Drive/leaf_images/'\n",
        "# local_path = ''  # if you're folder structure is as defined above and you want to run locally"
      ],
      "execution_count": 5,
      "outputs": []
    },
    {
      "cell_type": "markdown",
      "metadata": {
        "id": "wQpBfc4JutAx"
      },
      "source": [
        "# Visualizing the data\n",
        "\n",
        "First we start out by looking at the images. \n",
        "You need to load them first!\n",
        "Then we load in the training data, which is in CSV format. For this, we use [pandas](https://pandas.pydata.org/).\n",
        "Pandas is useful for data analysis, but we don't suggest using it in any production code."
      ]
    },
    {
      "cell_type": "code",
      "metadata": {
        "colab": {
          "base_uri": "https://localhost:8080/"
        },
        "id": "iHPwk7moutAx",
        "outputId": "a5068064-6e3c-45e6-e96c-d449102f8ab2"
      },
      "source": [
        "image_paths = glob.glob(drive_path+\"images/*.jpg\") # if your path to the \n",
        "print(\"Total Observations:\\t\", len(image_paths))\n",
        "\n",
        "# now loading the train.csv to find features for each training point\n",
        "train = pd.read_csv(drive_path+'train.csv')\n",
        "train_images = [drive_path+'images/{}.jpg'.format(i) for i in train.id.values]\n",
        "\n",
        "# now loading the test.csv\n",
        "test = pd.read_csv(drive_path+'test.csv')"
      ],
      "execution_count": 6,
      "outputs": [
        {
          "output_type": "stream",
          "name": "stdout",
          "text": [
            "Total Observations:\t 1584\n"
          ]
        }
      ]
    },
    {
      "cell_type": "markdown",
      "metadata": {
        "id": "D9rn6UtZutAx"
      },
      "source": [
        "## Exercise 1\n",
        "\n",
        "1.1) How many samples do we have for training and test? Do we have the same information for training and test data? How many samples do we have for each species?\n",
        "\n",
        "**Hint** You might want to use .shape, .columns, pd.unique() and .symmetric_difference().\n"
      ]
    },
    {
      "cell_type": "code",
      "metadata": {
        "colab": {
          "base_uri": "https://localhost:8080/",
          "height": 191
        },
        "id": "zw-UwaHvwzK3",
        "outputId": "2218872b-c6ab-4b7b-a32e-041db14e41f2"
      },
      "source": [
        "train.head(3)"
      ],
      "execution_count": 7,
      "outputs": [
        {
          "output_type": "execute_result",
          "data": {
            "text/html": [
              "<div>\n",
              "<style scoped>\n",
              "    .dataframe tbody tr th:only-of-type {\n",
              "        vertical-align: middle;\n",
              "    }\n",
              "\n",
              "    .dataframe tbody tr th {\n",
              "        vertical-align: top;\n",
              "    }\n",
              "\n",
              "    .dataframe thead th {\n",
              "        text-align: right;\n",
              "    }\n",
              "</style>\n",
              "<table border=\"1\" class=\"dataframe\">\n",
              "  <thead>\n",
              "    <tr style=\"text-align: right;\">\n",
              "      <th></th>\n",
              "      <th>id</th>\n",
              "      <th>species</th>\n",
              "      <th>margin1</th>\n",
              "      <th>margin2</th>\n",
              "      <th>margin3</th>\n",
              "      <th>margin4</th>\n",
              "      <th>margin5</th>\n",
              "      <th>margin6</th>\n",
              "      <th>margin7</th>\n",
              "      <th>margin8</th>\n",
              "      <th>margin9</th>\n",
              "      <th>margin10</th>\n",
              "      <th>margin11</th>\n",
              "      <th>margin12</th>\n",
              "      <th>margin13</th>\n",
              "      <th>margin14</th>\n",
              "      <th>margin15</th>\n",
              "      <th>margin16</th>\n",
              "      <th>margin17</th>\n",
              "      <th>margin18</th>\n",
              "      <th>margin19</th>\n",
              "      <th>margin20</th>\n",
              "      <th>margin21</th>\n",
              "      <th>margin22</th>\n",
              "      <th>margin23</th>\n",
              "      <th>margin24</th>\n",
              "      <th>margin25</th>\n",
              "      <th>margin26</th>\n",
              "      <th>margin27</th>\n",
              "      <th>margin28</th>\n",
              "      <th>margin29</th>\n",
              "      <th>margin30</th>\n",
              "      <th>margin31</th>\n",
              "      <th>margin32</th>\n",
              "      <th>margin33</th>\n",
              "      <th>margin34</th>\n",
              "      <th>margin35</th>\n",
              "      <th>margin36</th>\n",
              "      <th>margin37</th>\n",
              "      <th>margin38</th>\n",
              "      <th>...</th>\n",
              "      <th>texture25</th>\n",
              "      <th>texture26</th>\n",
              "      <th>texture27</th>\n",
              "      <th>texture28</th>\n",
              "      <th>texture29</th>\n",
              "      <th>texture30</th>\n",
              "      <th>texture31</th>\n",
              "      <th>texture32</th>\n",
              "      <th>texture33</th>\n",
              "      <th>texture34</th>\n",
              "      <th>texture35</th>\n",
              "      <th>texture36</th>\n",
              "      <th>texture37</th>\n",
              "      <th>texture38</th>\n",
              "      <th>texture39</th>\n",
              "      <th>texture40</th>\n",
              "      <th>texture41</th>\n",
              "      <th>texture42</th>\n",
              "      <th>texture43</th>\n",
              "      <th>texture44</th>\n",
              "      <th>texture45</th>\n",
              "      <th>texture46</th>\n",
              "      <th>texture47</th>\n",
              "      <th>texture48</th>\n",
              "      <th>texture49</th>\n",
              "      <th>texture50</th>\n",
              "      <th>texture51</th>\n",
              "      <th>texture52</th>\n",
              "      <th>texture53</th>\n",
              "      <th>texture54</th>\n",
              "      <th>texture55</th>\n",
              "      <th>texture56</th>\n",
              "      <th>texture57</th>\n",
              "      <th>texture58</th>\n",
              "      <th>texture59</th>\n",
              "      <th>texture60</th>\n",
              "      <th>texture61</th>\n",
              "      <th>texture62</th>\n",
              "      <th>texture63</th>\n",
              "      <th>texture64</th>\n",
              "    </tr>\n",
              "  </thead>\n",
              "  <tbody>\n",
              "    <tr>\n",
              "      <th>0</th>\n",
              "      <td>1</td>\n",
              "      <td>Acer_Opalus</td>\n",
              "      <td>0.007812</td>\n",
              "      <td>0.023438</td>\n",
              "      <td>0.023438</td>\n",
              "      <td>0.003906</td>\n",
              "      <td>0.011719</td>\n",
              "      <td>0.009766</td>\n",
              "      <td>0.027344</td>\n",
              "      <td>0.0</td>\n",
              "      <td>0.001953</td>\n",
              "      <td>0.033203</td>\n",
              "      <td>0.013672</td>\n",
              "      <td>0.019531</td>\n",
              "      <td>0.066406</td>\n",
              "      <td>0.000000</td>\n",
              "      <td>0.029297</td>\n",
              "      <td>0.0</td>\n",
              "      <td>0.031250</td>\n",
              "      <td>0.011719</td>\n",
              "      <td>0.000000</td>\n",
              "      <td>0.025391</td>\n",
              "      <td>0.023438</td>\n",
              "      <td>0.001953</td>\n",
              "      <td>0.0</td>\n",
              "      <td>0.015625</td>\n",
              "      <td>0.000000</td>\n",
              "      <td>0.031250</td>\n",
              "      <td>0.000000</td>\n",
              "      <td>0.013672</td>\n",
              "      <td>0.029297</td>\n",
              "      <td>0.015625</td>\n",
              "      <td>0.011719</td>\n",
              "      <td>0.003906</td>\n",
              "      <td>0.025391</td>\n",
              "      <td>0.000000</td>\n",
              "      <td>0.001953</td>\n",
              "      <td>0.011719</td>\n",
              "      <td>0.009766</td>\n",
              "      <td>0.041016</td>\n",
              "      <td>...</td>\n",
              "      <td>0.008789</td>\n",
              "      <td>0.015625</td>\n",
              "      <td>0.044922</td>\n",
              "      <td>0.000000</td>\n",
              "      <td>0.037109</td>\n",
              "      <td>0.012695</td>\n",
              "      <td>0.028320</td>\n",
              "      <td>0.0</td>\n",
              "      <td>0.019531</td>\n",
              "      <td>0.026367</td>\n",
              "      <td>0.005859</td>\n",
              "      <td>0.0</td>\n",
              "      <td>0.004883</td>\n",
              "      <td>0.016602</td>\n",
              "      <td>0.034180</td>\n",
              "      <td>0.056641</td>\n",
              "      <td>0.006836</td>\n",
              "      <td>0.000977</td>\n",
              "      <td>0.022461</td>\n",
              "      <td>0.037109</td>\n",
              "      <td>0.004883</td>\n",
              "      <td>0.021484</td>\n",
              "      <td>0.035156</td>\n",
              "      <td>0.000977</td>\n",
              "      <td>0.004883</td>\n",
              "      <td>0.015625</td>\n",
              "      <td>0.0</td>\n",
              "      <td>0.0</td>\n",
              "      <td>0.006836</td>\n",
              "      <td>0.037109</td>\n",
              "      <td>0.007812</td>\n",
              "      <td>0.0</td>\n",
              "      <td>0.002930</td>\n",
              "      <td>0.002930</td>\n",
              "      <td>0.035156</td>\n",
              "      <td>0.0</td>\n",
              "      <td>0.0</td>\n",
              "      <td>0.004883</td>\n",
              "      <td>0.000000</td>\n",
              "      <td>0.025391</td>\n",
              "    </tr>\n",
              "    <tr>\n",
              "      <th>1</th>\n",
              "      <td>2</td>\n",
              "      <td>Pterocarya_Stenoptera</td>\n",
              "      <td>0.005859</td>\n",
              "      <td>0.000000</td>\n",
              "      <td>0.031250</td>\n",
              "      <td>0.015625</td>\n",
              "      <td>0.025391</td>\n",
              "      <td>0.001953</td>\n",
              "      <td>0.019531</td>\n",
              "      <td>0.0</td>\n",
              "      <td>0.000000</td>\n",
              "      <td>0.007812</td>\n",
              "      <td>0.003906</td>\n",
              "      <td>0.027344</td>\n",
              "      <td>0.023438</td>\n",
              "      <td>0.000000</td>\n",
              "      <td>0.033203</td>\n",
              "      <td>0.0</td>\n",
              "      <td>0.009766</td>\n",
              "      <td>0.009766</td>\n",
              "      <td>0.007812</td>\n",
              "      <td>0.007812</td>\n",
              "      <td>0.019531</td>\n",
              "      <td>0.007812</td>\n",
              "      <td>0.0</td>\n",
              "      <td>0.000000</td>\n",
              "      <td>0.007812</td>\n",
              "      <td>0.027344</td>\n",
              "      <td>0.003906</td>\n",
              "      <td>0.037109</td>\n",
              "      <td>0.007812</td>\n",
              "      <td>0.048828</td>\n",
              "      <td>0.054688</td>\n",
              "      <td>0.027344</td>\n",
              "      <td>0.003906</td>\n",
              "      <td>0.000000</td>\n",
              "      <td>0.000000</td>\n",
              "      <td>0.003906</td>\n",
              "      <td>0.013672</td>\n",
              "      <td>0.033203</td>\n",
              "      <td>...</td>\n",
              "      <td>0.050781</td>\n",
              "      <td>0.001953</td>\n",
              "      <td>0.021484</td>\n",
              "      <td>0.003906</td>\n",
              "      <td>0.027344</td>\n",
              "      <td>0.023438</td>\n",
              "      <td>0.062500</td>\n",
              "      <td>0.0</td>\n",
              "      <td>0.038086</td>\n",
              "      <td>0.000000</td>\n",
              "      <td>0.019531</td>\n",
              "      <td>0.0</td>\n",
              "      <td>0.001953</td>\n",
              "      <td>0.003906</td>\n",
              "      <td>0.015625</td>\n",
              "      <td>0.004883</td>\n",
              "      <td>0.104490</td>\n",
              "      <td>0.000000</td>\n",
              "      <td>0.061523</td>\n",
              "      <td>0.007812</td>\n",
              "      <td>0.008789</td>\n",
              "      <td>0.013672</td>\n",
              "      <td>0.011719</td>\n",
              "      <td>0.001953</td>\n",
              "      <td>0.035156</td>\n",
              "      <td>0.007812</td>\n",
              "      <td>0.0</td>\n",
              "      <td>0.0</td>\n",
              "      <td>0.053711</td>\n",
              "      <td>0.036133</td>\n",
              "      <td>0.000977</td>\n",
              "      <td>0.0</td>\n",
              "      <td>0.000000</td>\n",
              "      <td>0.000977</td>\n",
              "      <td>0.023438</td>\n",
              "      <td>0.0</td>\n",
              "      <td>0.0</td>\n",
              "      <td>0.000977</td>\n",
              "      <td>0.039062</td>\n",
              "      <td>0.022461</td>\n",
              "    </tr>\n",
              "    <tr>\n",
              "      <th>2</th>\n",
              "      <td>3</td>\n",
              "      <td>Quercus_Hartwissiana</td>\n",
              "      <td>0.005859</td>\n",
              "      <td>0.009766</td>\n",
              "      <td>0.019531</td>\n",
              "      <td>0.007812</td>\n",
              "      <td>0.003906</td>\n",
              "      <td>0.005859</td>\n",
              "      <td>0.068359</td>\n",
              "      <td>0.0</td>\n",
              "      <td>0.000000</td>\n",
              "      <td>0.044922</td>\n",
              "      <td>0.007812</td>\n",
              "      <td>0.011719</td>\n",
              "      <td>0.021484</td>\n",
              "      <td>0.001953</td>\n",
              "      <td>0.025391</td>\n",
              "      <td>0.0</td>\n",
              "      <td>0.009766</td>\n",
              "      <td>0.011719</td>\n",
              "      <td>0.007812</td>\n",
              "      <td>0.005859</td>\n",
              "      <td>0.041016</td>\n",
              "      <td>0.001953</td>\n",
              "      <td>0.0</td>\n",
              "      <td>0.015625</td>\n",
              "      <td>0.000000</td>\n",
              "      <td>0.009766</td>\n",
              "      <td>0.001953</td>\n",
              "      <td>0.009766</td>\n",
              "      <td>0.009766</td>\n",
              "      <td>0.015625</td>\n",
              "      <td>0.005859</td>\n",
              "      <td>0.000000</td>\n",
              "      <td>0.017578</td>\n",
              "      <td>0.007812</td>\n",
              "      <td>0.005859</td>\n",
              "      <td>0.009766</td>\n",
              "      <td>0.019531</td>\n",
              "      <td>0.042969</td>\n",
              "      <td>...</td>\n",
              "      <td>0.000977</td>\n",
              "      <td>0.000000</td>\n",
              "      <td>0.000977</td>\n",
              "      <td>0.003906</td>\n",
              "      <td>0.035156</td>\n",
              "      <td>0.015625</td>\n",
              "      <td>0.027344</td>\n",
              "      <td>0.0</td>\n",
              "      <td>0.000000</td>\n",
              "      <td>0.008789</td>\n",
              "      <td>0.015625</td>\n",
              "      <td>0.0</td>\n",
              "      <td>0.000000</td>\n",
              "      <td>0.011719</td>\n",
              "      <td>0.000977</td>\n",
              "      <td>0.000977</td>\n",
              "      <td>0.000000</td>\n",
              "      <td>0.000000</td>\n",
              "      <td>0.000000</td>\n",
              "      <td>0.005859</td>\n",
              "      <td>0.022461</td>\n",
              "      <td>0.020508</td>\n",
              "      <td>0.021484</td>\n",
              "      <td>0.056641</td>\n",
              "      <td>0.010742</td>\n",
              "      <td>0.008789</td>\n",
              "      <td>0.0</td>\n",
              "      <td>0.0</td>\n",
              "      <td>0.000977</td>\n",
              "      <td>0.000000</td>\n",
              "      <td>0.154300</td>\n",
              "      <td>0.0</td>\n",
              "      <td>0.005859</td>\n",
              "      <td>0.000977</td>\n",
              "      <td>0.007812</td>\n",
              "      <td>0.0</td>\n",
              "      <td>0.0</td>\n",
              "      <td>0.000000</td>\n",
              "      <td>0.020508</td>\n",
              "      <td>0.002930</td>\n",
              "    </tr>\n",
              "  </tbody>\n",
              "</table>\n",
              "<p>3 rows × 194 columns</p>\n",
              "</div>"
            ],
            "text/plain": [
              "   id                species   margin1  ...  texture62  texture63  texture64\n",
              "0   1            Acer_Opalus  0.007812  ...   0.004883   0.000000   0.025391\n",
              "1   2  Pterocarya_Stenoptera  0.005859  ...   0.000977   0.039062   0.022461\n",
              "2   3   Quercus_Hartwissiana  0.005859  ...   0.000000   0.020508   0.002930\n",
              "\n",
              "[3 rows x 194 columns]"
            ]
          },
          "metadata": {},
          "execution_count": 7
        }
      ]
    },
    {
      "cell_type": "code",
      "metadata": {
        "colab": {
          "base_uri": "https://localhost:8080/",
          "height": 191
        },
        "id": "isafn3F6w0zT",
        "outputId": "75476ec3-1a6d-4f7e-8d40-989853b86d68"
      },
      "source": [
        "test.head(3)"
      ],
      "execution_count": 8,
      "outputs": [
        {
          "output_type": "execute_result",
          "data": {
            "text/html": [
              "<div>\n",
              "<style scoped>\n",
              "    .dataframe tbody tr th:only-of-type {\n",
              "        vertical-align: middle;\n",
              "    }\n",
              "\n",
              "    .dataframe tbody tr th {\n",
              "        vertical-align: top;\n",
              "    }\n",
              "\n",
              "    .dataframe thead th {\n",
              "        text-align: right;\n",
              "    }\n",
              "</style>\n",
              "<table border=\"1\" class=\"dataframe\">\n",
              "  <thead>\n",
              "    <tr style=\"text-align: right;\">\n",
              "      <th></th>\n",
              "      <th>id</th>\n",
              "      <th>margin1</th>\n",
              "      <th>margin2</th>\n",
              "      <th>margin3</th>\n",
              "      <th>margin4</th>\n",
              "      <th>margin5</th>\n",
              "      <th>margin6</th>\n",
              "      <th>margin7</th>\n",
              "      <th>margin8</th>\n",
              "      <th>margin9</th>\n",
              "      <th>margin10</th>\n",
              "      <th>margin11</th>\n",
              "      <th>margin12</th>\n",
              "      <th>margin13</th>\n",
              "      <th>margin14</th>\n",
              "      <th>margin15</th>\n",
              "      <th>margin16</th>\n",
              "      <th>margin17</th>\n",
              "      <th>margin18</th>\n",
              "      <th>margin19</th>\n",
              "      <th>margin20</th>\n",
              "      <th>margin21</th>\n",
              "      <th>margin22</th>\n",
              "      <th>margin23</th>\n",
              "      <th>margin24</th>\n",
              "      <th>margin25</th>\n",
              "      <th>margin26</th>\n",
              "      <th>margin27</th>\n",
              "      <th>margin28</th>\n",
              "      <th>margin29</th>\n",
              "      <th>margin30</th>\n",
              "      <th>margin31</th>\n",
              "      <th>margin32</th>\n",
              "      <th>margin33</th>\n",
              "      <th>margin34</th>\n",
              "      <th>margin35</th>\n",
              "      <th>margin36</th>\n",
              "      <th>margin37</th>\n",
              "      <th>margin38</th>\n",
              "      <th>margin39</th>\n",
              "      <th>...</th>\n",
              "      <th>texture25</th>\n",
              "      <th>texture26</th>\n",
              "      <th>texture27</th>\n",
              "      <th>texture28</th>\n",
              "      <th>texture29</th>\n",
              "      <th>texture30</th>\n",
              "      <th>texture31</th>\n",
              "      <th>texture32</th>\n",
              "      <th>texture33</th>\n",
              "      <th>texture34</th>\n",
              "      <th>texture35</th>\n",
              "      <th>texture36</th>\n",
              "      <th>texture37</th>\n",
              "      <th>texture38</th>\n",
              "      <th>texture39</th>\n",
              "      <th>texture40</th>\n",
              "      <th>texture41</th>\n",
              "      <th>texture42</th>\n",
              "      <th>texture43</th>\n",
              "      <th>texture44</th>\n",
              "      <th>texture45</th>\n",
              "      <th>texture46</th>\n",
              "      <th>texture47</th>\n",
              "      <th>texture48</th>\n",
              "      <th>texture49</th>\n",
              "      <th>texture50</th>\n",
              "      <th>texture51</th>\n",
              "      <th>texture52</th>\n",
              "      <th>texture53</th>\n",
              "      <th>texture54</th>\n",
              "      <th>texture55</th>\n",
              "      <th>texture56</th>\n",
              "      <th>texture57</th>\n",
              "      <th>texture58</th>\n",
              "      <th>texture59</th>\n",
              "      <th>texture60</th>\n",
              "      <th>texture61</th>\n",
              "      <th>texture62</th>\n",
              "      <th>texture63</th>\n",
              "      <th>texture64</th>\n",
              "    </tr>\n",
              "  </thead>\n",
              "  <tbody>\n",
              "    <tr>\n",
              "      <th>0</th>\n",
              "      <td>4</td>\n",
              "      <td>0.019531</td>\n",
              "      <td>0.009766</td>\n",
              "      <td>0.078125</td>\n",
              "      <td>0.011719</td>\n",
              "      <td>0.003906</td>\n",
              "      <td>0.015625</td>\n",
              "      <td>0.005859</td>\n",
              "      <td>0.0</td>\n",
              "      <td>0.005859</td>\n",
              "      <td>0.023438</td>\n",
              "      <td>0.005859</td>\n",
              "      <td>0.021484</td>\n",
              "      <td>0.076172</td>\n",
              "      <td>0.001953</td>\n",
              "      <td>0.035156</td>\n",
              "      <td>0.0</td>\n",
              "      <td>0.001953</td>\n",
              "      <td>0.021484</td>\n",
              "      <td>0.001953</td>\n",
              "      <td>0.015625</td>\n",
              "      <td>0.009766</td>\n",
              "      <td>0.000000</td>\n",
              "      <td>0.000000</td>\n",
              "      <td>0.005859</td>\n",
              "      <td>0.007812</td>\n",
              "      <td>0.015625</td>\n",
              "      <td>0.000000</td>\n",
              "      <td>0.017578</td>\n",
              "      <td>0.029297</td>\n",
              "      <td>0.021484</td>\n",
              "      <td>0.001953</td>\n",
              "      <td>0.003906</td>\n",
              "      <td>0.025391</td>\n",
              "      <td>0.000000</td>\n",
              "      <td>0.013672</td>\n",
              "      <td>0.005859</td>\n",
              "      <td>0.042969</td>\n",
              "      <td>0.064453</td>\n",
              "      <td>0.031250</td>\n",
              "      <td>...</td>\n",
              "      <td>0.004883</td>\n",
              "      <td>0.000000</td>\n",
              "      <td>0.013672</td>\n",
              "      <td>0.001953</td>\n",
              "      <td>0.045898</td>\n",
              "      <td>0.024414</td>\n",
              "      <td>0.045898</td>\n",
              "      <td>0.0</td>\n",
              "      <td>0.000000</td>\n",
              "      <td>0.070312</td>\n",
              "      <td>0.011719</td>\n",
              "      <td>0.0</td>\n",
              "      <td>0.0</td>\n",
              "      <td>0.054688</td>\n",
              "      <td>0.024414</td>\n",
              "      <td>0.026367</td>\n",
              "      <td>0.000000</td>\n",
              "      <td>0.000977</td>\n",
              "      <td>0.010742</td>\n",
              "      <td>0.020508</td>\n",
              "      <td>0.013672</td>\n",
              "      <td>0.034180</td>\n",
              "      <td>0.025391</td>\n",
              "      <td>0.000000</td>\n",
              "      <td>0.014648</td>\n",
              "      <td>0.018555</td>\n",
              "      <td>0.0</td>\n",
              "      <td>0.0</td>\n",
              "      <td>0.0</td>\n",
              "      <td>0.015625</td>\n",
              "      <td>0.006836</td>\n",
              "      <td>0.0</td>\n",
              "      <td>0.015625</td>\n",
              "      <td>0.000977</td>\n",
              "      <td>0.015625</td>\n",
              "      <td>0.0</td>\n",
              "      <td>0.0</td>\n",
              "      <td>0.000000</td>\n",
              "      <td>0.003906</td>\n",
              "      <td>0.053711</td>\n",
              "    </tr>\n",
              "    <tr>\n",
              "      <th>1</th>\n",
              "      <td>7</td>\n",
              "      <td>0.007812</td>\n",
              "      <td>0.005859</td>\n",
              "      <td>0.064453</td>\n",
              "      <td>0.009766</td>\n",
              "      <td>0.003906</td>\n",
              "      <td>0.013672</td>\n",
              "      <td>0.007812</td>\n",
              "      <td>0.0</td>\n",
              "      <td>0.033203</td>\n",
              "      <td>0.023438</td>\n",
              "      <td>0.009766</td>\n",
              "      <td>0.019531</td>\n",
              "      <td>0.039062</td>\n",
              "      <td>0.027344</td>\n",
              "      <td>0.017578</td>\n",
              "      <td>0.0</td>\n",
              "      <td>0.017578</td>\n",
              "      <td>0.015625</td>\n",
              "      <td>0.009766</td>\n",
              "      <td>0.009766</td>\n",
              "      <td>0.042969</td>\n",
              "      <td>0.007812</td>\n",
              "      <td>0.000000</td>\n",
              "      <td>0.003906</td>\n",
              "      <td>0.005859</td>\n",
              "      <td>0.011719</td>\n",
              "      <td>0.007812</td>\n",
              "      <td>0.009766</td>\n",
              "      <td>0.037109</td>\n",
              "      <td>0.013672</td>\n",
              "      <td>0.005859</td>\n",
              "      <td>0.003906</td>\n",
              "      <td>0.019531</td>\n",
              "      <td>0.000000</td>\n",
              "      <td>0.005859</td>\n",
              "      <td>0.029297</td>\n",
              "      <td>0.019531</td>\n",
              "      <td>0.041016</td>\n",
              "      <td>0.005859</td>\n",
              "      <td>...</td>\n",
              "      <td>0.001953</td>\n",
              "      <td>0.002930</td>\n",
              "      <td>0.051758</td>\n",
              "      <td>0.001953</td>\n",
              "      <td>0.016602</td>\n",
              "      <td>0.010742</td>\n",
              "      <td>0.044922</td>\n",
              "      <td>0.0</td>\n",
              "      <td>0.000000</td>\n",
              "      <td>0.033203</td>\n",
              "      <td>0.013672</td>\n",
              "      <td>0.0</td>\n",
              "      <td>0.0</td>\n",
              "      <td>0.031250</td>\n",
              "      <td>0.058594</td>\n",
              "      <td>0.041016</td>\n",
              "      <td>0.012695</td>\n",
              "      <td>0.005859</td>\n",
              "      <td>0.021484</td>\n",
              "      <td>0.047852</td>\n",
              "      <td>0.030273</td>\n",
              "      <td>0.009766</td>\n",
              "      <td>0.041992</td>\n",
              "      <td>0.000000</td>\n",
              "      <td>0.007812</td>\n",
              "      <td>0.004883</td>\n",
              "      <td>0.0</td>\n",
              "      <td>0.0</td>\n",
              "      <td>0.0</td>\n",
              "      <td>0.049805</td>\n",
              "      <td>0.000000</td>\n",
              "      <td>0.0</td>\n",
              "      <td>0.006836</td>\n",
              "      <td>0.001953</td>\n",
              "      <td>0.013672</td>\n",
              "      <td>0.0</td>\n",
              "      <td>0.0</td>\n",
              "      <td>0.000977</td>\n",
              "      <td>0.037109</td>\n",
              "      <td>0.044922</td>\n",
              "    </tr>\n",
              "    <tr>\n",
              "      <th>2</th>\n",
              "      <td>9</td>\n",
              "      <td>0.000000</td>\n",
              "      <td>0.000000</td>\n",
              "      <td>0.001953</td>\n",
              "      <td>0.021484</td>\n",
              "      <td>0.041016</td>\n",
              "      <td>0.000000</td>\n",
              "      <td>0.023438</td>\n",
              "      <td>0.0</td>\n",
              "      <td>0.011719</td>\n",
              "      <td>0.005859</td>\n",
              "      <td>0.001953</td>\n",
              "      <td>0.021484</td>\n",
              "      <td>0.001953</td>\n",
              "      <td>0.019531</td>\n",
              "      <td>0.035156</td>\n",
              "      <td>0.0</td>\n",
              "      <td>0.007812</td>\n",
              "      <td>0.001953</td>\n",
              "      <td>0.046875</td>\n",
              "      <td>0.003906</td>\n",
              "      <td>0.003906</td>\n",
              "      <td>0.013672</td>\n",
              "      <td>0.015625</td>\n",
              "      <td>0.037109</td>\n",
              "      <td>0.027344</td>\n",
              "      <td>0.009766</td>\n",
              "      <td>0.023438</td>\n",
              "      <td>0.027344</td>\n",
              "      <td>0.005859</td>\n",
              "      <td>0.011719</td>\n",
              "      <td>0.046875</td>\n",
              "      <td>0.056641</td>\n",
              "      <td>0.001953</td>\n",
              "      <td>0.003906</td>\n",
              "      <td>0.003906</td>\n",
              "      <td>0.005859</td>\n",
              "      <td>0.001953</td>\n",
              "      <td>0.003906</td>\n",
              "      <td>0.013672</td>\n",
              "      <td>...</td>\n",
              "      <td>0.000000</td>\n",
              "      <td>0.010742</td>\n",
              "      <td>0.010742</td>\n",
              "      <td>0.000000</td>\n",
              "      <td>0.005859</td>\n",
              "      <td>0.000000</td>\n",
              "      <td>0.088867</td>\n",
              "      <td>0.0</td>\n",
              "      <td>0.000977</td>\n",
              "      <td>0.051758</td>\n",
              "      <td>0.000000</td>\n",
              "      <td>0.0</td>\n",
              "      <td>0.0</td>\n",
              "      <td>0.042969</td>\n",
              "      <td>0.002930</td>\n",
              "      <td>0.026367</td>\n",
              "      <td>0.000000</td>\n",
              "      <td>0.000000</td>\n",
              "      <td>0.000000</td>\n",
              "      <td>0.013672</td>\n",
              "      <td>0.003906</td>\n",
              "      <td>0.022461</td>\n",
              "      <td>0.007812</td>\n",
              "      <td>0.038086</td>\n",
              "      <td>0.000000</td>\n",
              "      <td>0.000000</td>\n",
              "      <td>0.0</td>\n",
              "      <td>0.0</td>\n",
              "      <td>0.0</td>\n",
              "      <td>0.084961</td>\n",
              "      <td>0.128910</td>\n",
              "      <td>0.0</td>\n",
              "      <td>0.000977</td>\n",
              "      <td>0.000000</td>\n",
              "      <td>0.000000</td>\n",
              "      <td>0.0</td>\n",
              "      <td>0.0</td>\n",
              "      <td>0.015625</td>\n",
              "      <td>0.000000</td>\n",
              "      <td>0.000000</td>\n",
              "    </tr>\n",
              "  </tbody>\n",
              "</table>\n",
              "<p>3 rows × 193 columns</p>\n",
              "</div>"
            ],
            "text/plain": [
              "   id   margin1   margin2   margin3  ...  texture61  texture62  texture63  texture64\n",
              "0   4  0.019531  0.009766  0.078125  ...        0.0   0.000000   0.003906   0.053711\n",
              "1   7  0.007812  0.005859  0.064453  ...        0.0   0.000977   0.037109   0.044922\n",
              "2   9  0.000000  0.000000  0.001953  ...        0.0   0.015625   0.000000   0.000000\n",
              "\n",
              "[3 rows x 193 columns]"
            ]
          },
          "metadata": {},
          "execution_count": 8
        }
      ]
    },
    {
      "cell_type": "code",
      "metadata": {
        "colab": {
          "base_uri": "https://localhost:8080/"
        },
        "id": "c6XhLtyvutAy",
        "outputId": "29c7e8a3-8f49-46b4-de00-9b741dd319a1"
      },
      "source": [
        "# Your code to produce answers here:\n",
        "print(train.shape)\n",
        "print(test.shape)\n",
        "print(train.drop_duplicates().shape)\n",
        "print(test.drop_duplicates().shape)\n",
        "print(train.species.value_counts())"
      ],
      "execution_count": 9,
      "outputs": [
        {
          "output_type": "stream",
          "name": "stdout",
          "text": [
            "(990, 194)\n",
            "(594, 193)\n",
            "(990, 194)\n",
            "(594, 193)\n",
            "Quercus_Brantii            10\n",
            "Quercus_Kewensis           10\n",
            "Quercus_Castaneifolia      10\n",
            "Quercus_Cerris             10\n",
            "Quercus_Shumardii          10\n",
            "                           ..\n",
            "Liquidambar_Styraciflua    10\n",
            "Acer_Pictum                10\n",
            "Quercus_Palustris          10\n",
            "Quercus_Agrifolia          10\n",
            "Alnus_Viridis              10\n",
            "Name: species, Length: 99, dtype: int64\n"
          ]
        }
      ]
    },
    {
      "cell_type": "markdown",
      "metadata": {
        "id": "fh7lTK0ZutAy"
      },
      "source": [
        " * **Answer:**"
      ]
    },
    {
      "cell_type": "markdown",
      "metadata": {
        "id": "fVhqDGzhutAy"
      },
      "source": [
        "With our training data and images loaded into memory.\n",
        "It is time to take a look at the data.\n",
        "Trying to classify leaves does not sound like a particularly difficult or interesting problem.\n",
        "We have probably all had teachers forcing us to do it on field trips as children.\n",
        "\n",
        "But try to take a look at **all** the different categories and come up with a system that discern **all** types of leaves from each other. (In fact, distinguishing crops from weed using AI is already a thing: [weed-killing AI](https://www.cnbc.com/2018/06/04/weed-killing-ai-robot.html).)"
      ]
    },
    {
      "cell_type": "code",
      "metadata": {
        "colab": {
          "base_uri": "https://localhost:8080/",
          "height": 297
        },
        "id": "GJ0T2e--utAy",
        "outputId": "a000c4da-fe48-48d8-f8af-8921c41d8a64"
      },
      "source": [
        "# First we find an example of each species in order to visualize it\n",
        "species = np.array(sorted(train.species.unique()))\n",
        "species_examples = [np.random.choice(train[train.species == s].id.values) for s in species]\n",
        "\n",
        "# Then we gather its' index in our list of images in order to find the correct image\n",
        "indexes = [image_paths.index(drive_path + 'images/{}.jpg'.format(i)) for i in species_examples]\n",
        "\n",
        "# Plot of the first image\n",
        "plt.figure(figsize=(8, 8))\n",
        "image = imread(image_paths[indexes[0]], as_gray=True)\n",
        "plt.imshow(image, cmap='gray')\n",
        "plt.title(\"%s\" % (species[0]))\n",
        "plt.axis('off')\n",
        "plt.show()"
      ],
      "execution_count": 10,
      "outputs": [
        {
          "output_type": "display_data",
          "data": {
            "image/png": "[encoded data removed]",
            "text/plain": [
              "<Figure size 576x576 with 1 Axes>"
            ]
          },
          "metadata": {
            "needs_background": "light"
          }
        }
      ]
    },
    {
      "cell_type": "markdown",
      "metadata": {
        "id": "6NCs95rButAz"
      },
      "source": [
        "## Exercise 2\n",
        "2.1) In general it is a good approach to visualize an image for each category to get a better feeling of the task. You should now write some code to show 1 image from each category. You might want to use plt.subplot()."
      ]
    },
    {
      "cell_type": "code",
      "metadata": {
        "id": "7RjHbd71utAz"
      },
      "source": [
        "# Now plot 1 image from each category:\n",
        "# imgs = []\n",
        "# for i in range(len(indexes)):\n",
        "#   imgs.append(imread(image_paths[indexes[i]], as_gray=True))\n",
        "\n",
        "# _ , axs = plt.subplots(11, 9, figsize=(24, 24))\n",
        "# axs = axs.flatten()\n",
        "# i = 0\n",
        "# for img, ax in zip(imgs, axs):\n",
        "#     ax.imshow(img, cmap='gray')\n",
        "#     ax.axis('off')\n",
        "#     ax.title.set_text(species[i])\n",
        "#     i += 1\n",
        "# plt.show()"
      ],
      "execution_count": 11,
      "outputs": []
    },
    {
      "cell_type": "markdown",
      "metadata": {
        "id": "LXTExx_PutAz"
      },
      "source": [
        "As you can see, classifying leaves is actually a very tough problem.\n",
        "What makes it even worse, is that we cannot use all the image data we have available.\n",
        "In order to decrease the amount of computations needed, we need to reduce the size of the images as much as possible.\n",
        "On top of that our neural network usually only accepts fixed size input tensors.\n",
        "This means we will have to change the shape of the images so that they all have the same sizes.\n",
        "\n",
        "\n",
        "Resizing is problematic because it alters the shape of the leaves, and for some of them, this is their most distinctive feature. Take a look at `Salix_Intergra` in the bottom left corner.\n",
        "Describing this leaf without taking its' shape into account seems extremely difficult.\n",
        "\n",
        "Therefore we will \n",
        "- 1) first pad all the images into squares, and\n",
        "- 2) then resize them, as visualized below:"
      ]
    },
    {
      "cell_type": "markdown",
      "metadata": {
        "id": "UObDV96yutA0"
      },
      "source": [
        "## Exercise 3\n",
        "\n",
        "3.1) **Find an appropriate image size**. Test various resizings of the image until you have found the smallest resizing of the image where you \"can still differentiate between the images\".\n",
        "How small is to small should ultimately be determined by an actual test, but what makes visual sense is a good place to start.\n",
        "Change the `image_size=(?, ?)` parameter below, and note your choice.\n",
        " * **Answer:**\n"
      ]
    },
    {
      "cell_type": "code",
      "metadata": {
        "colab": {
          "base_uri": "https://localhost:8080/",
          "height": 403
        },
        "id": "aZvsDD1gutA0",
        "outputId": "003637c1-7957-4cd1-de49-91fb393da7d2"
      },
      "source": [
        "## Image pre-processing\n",
        "image_size = (64, 64)  # <-- YOUR CODE HERE\n",
        "\n",
        "# Amount of images\n",
        "amount = 5\n",
        "image_sample = np.random.choice(train_images, amount)\n",
        "\n",
        "# Define figure size\n",
        "fig = plt.figure(figsize=(18, 6))\n",
        "\n",
        "# Save original images in the figure\n",
        "ax = plt.subplot(2, amount + 1, 1)\n",
        "txt = ax.text(0.4, 0.5, 'Original', fontsize=20)\n",
        "txt.set_clip_on(False)\n",
        "plt.axis('off')\n",
        "for i, path in enumerate(image_sample):\n",
        "    plt.subplot(2, amount + 1, i + 2)\n",
        "    image = imread(path, as_gray=True)    \n",
        "    plt.imshow(image, cmap='gray')\n",
        "    _id = int(path.split('/')[-1].split('.')[0])\n",
        "    plt.title(\"{0}\\nshape: {1}\".format(train[train.id == _id].species.values[0], image.shape))\n",
        "    plt.axis('off')\n",
        "    \n",
        "# Save resized images in the figure\n",
        "ax = plt.subplot(2, amount + 1, len(image_sample) + 2)\n",
        "txt = ax.text(0.4, 0.5, 'Resized', fontsize=20)\n",
        "txt.set_clip_on(False)\n",
        "plt.axis('off')\n",
        "for i, path in enumerate(image_sample):\n",
        "    i += len(image_sample) + 3\n",
        "    plt.subplot(2, amount + 1, i)\n",
        "    image = imread(path, as_gray=True)\n",
        "    image = data_utils.pad2square(image)  # Make the image square\n",
        "    image = resize(image, output_shape=image_size, mode='reflect', anti_aliasing=True)  # resizes the image\n",
        "    plt.imshow(image, cmap='gray')\n",
        "\n",
        "# Show plot\n",
        "plt.show()"
      ],
      "execution_count": 12,
      "outputs": [
        {
          "output_type": "display_data",
          "data": {
            "image/png": "[encoded data removed]",
            "text/plain": [
              "<Figure size 1296x432 with 12 Axes>"
            ]
          },
          "metadata": {
            "needs_background": "light"
          }
        }
      ]
    },
    {
      "cell_type": "markdown",
      "metadata": {
        "id": "YsmyjkI7utA0"
      },
      "source": [
        "## Investigating the other features\n",
        "\n",
        "Now that we have looked at the image data we have available, it is time to take a look at the other available features. Below we choose a random subset of the training data, and visualize the 3 types of available features:\n",
        "* margin\n",
        "* shape\n",
        "* texture\n",
        "\n",
        "Try to run it a few times to try and get an understanding of how the features differ from species to species."
      ]
    },
    {
      "cell_type": "code",
      "metadata": {
        "colab": {
          "base_uri": "https://localhost:8080/",
          "height": 477
        },
        "id": "yGjs21AGutA1",
        "outputId": "c994ac68-cfe5-4ade-c8de-4b226163ddcf"
      },
      "source": [
        "# Extract features\n",
        "X = train.values\n",
        "species = X[:, 1:2]\n",
        "margin = X[:, 2:66]\n",
        "shape = X[:, 66:130]\n",
        "texture = X[:, 130:]\n",
        "\n",
        "# Let us plot some of the features\n",
        "plt.figure(figsize=(21,7)) # Set the plot size\n",
        "amount = 5                 # Choose the amount of images we want to show at a time\n",
        "\n",
        "for i, idx in enumerate(np.random.choice(range(len(train)), amount)):\n",
        "    ax = plt.subplot(amount,4,1+i*4)\n",
        "    txt = ax.text(0.2, 0.2, species[idx][0], fontsize=20)\n",
        "    txt.set_clip_on(False)\n",
        "    plt.axis('off')\n",
        "    if i == 0:\n",
        "        plt.title('Species', fontsize=20)\n",
        "    plt.subplot(amount,4,2+i*4)\n",
        "    plt.plot(margin[idx])\n",
        "    if i == 0:\n",
        "        plt.title('Margin', fontsize=20)\n",
        "    plt.axis('off')\n",
        "    plt.subplot(amount,4,3+i*4)\n",
        "    plt.plot(shape[idx])\n",
        "    if i == 0:\n",
        "        plt.title('Shape', fontsize=20)\n",
        "    plt.axis('off')\n",
        "    plt.subplot(amount,4,4+i*4)\n",
        "    plt.plot(texture[idx])\n",
        "    if i == 0:\n",
        "        plt.title('Texture', fontsize=20)\n",
        "    plt.axis('off')\n",
        "\n",
        "plt.tight_layout()\n",
        "plt.show()"
      ],
      "execution_count": 13,
      "outputs": [
        {
          "output_type": "display_data",
          "data": {
            "image/png": "[encoded data removed]",
            "text/plain": [
              "<Figure size 1512x504 with 20 Axes>"
            ]
          },
          "metadata": {
            "needs_background": "light"
          }
        }
      ]
    },
    {
      "cell_type": "markdown",
      "metadata": {
        "id": "gfxfIYWWutA1"
      },
      "source": [
        "## Exercise 4\n",
        "So far we have learned about the feed forward neural network (FFNN), the convolutional neural network (CNN) and the recurrent neural network (RNN).\n",
        "\n",
        "4.1) How could the `image`, `Margin`, `Shape` and `Texture` be used for classification, i.e. what kind of network type would you use for each of them, and why?\n",
        " * **Answer:**\n",
        " "
      ]
    },
    {
      "cell_type": "markdown",
      "metadata": {
        "id": "E7CxB4OfutA2"
      },
      "source": [
        "# Managing the data\n",
        "\n",
        "The details of the code in this section isn't that important.\n",
        "It simply manages the data in a nice way - so it is a good place to come back and look for inspiration when you going to work on your own projects.\n",
        "\n",
        "\n",
        "## Defining the data loader"
      ]
    },
    {
      "cell_type": "markdown",
      "metadata": {
        "id": "ErlwqmfDutA2"
      },
      "source": [
        "## Exercise 5 \n",
        "5.1) As a part of the data loader, we should specify the shape of the images, number of classes, and the number of features for the three feature types: margin, shape and texture. Define the three variables in the code below."
      ]
    },
    {
      "cell_type": "code",
      "metadata": {
        "id": "ybTltiE2utA2"
      },
      "source": [
        "# The image shape should be of the format (height, width, channels)\n",
        "IMAGE_SHAPE =  (64, 64, 1)  # <-- Your answer here\n",
        "NUM_CLASSES = 99   # <-- Your answer here \n",
        "\n",
        "# For all three features types margin, shape, and texture, we have NUM_FEATURES for each type.\n",
        "NUM_FEATURES = 64  # <-- Your answer here"
      ],
      "execution_count": 14,
      "outputs": []
    },
    {
      "cell_type": "code",
      "metadata": {
        "id": "6YOYsHotutA2"
      },
      "source": [
        "# # Paths to data\n",
        "# TRAIN_PATH = drive_path + \"train.csv\" \n",
        "# TEST_PATH = drive_path + \"test.csv\" \n",
        "# IMAGE_PATHS = glob.glob(drive_path + \"images/*.jpg\")\n",
        "\n",
        "# # train holds both X (input) and t (target/truth)\n",
        "# data = data_utils.load_data(train_path=TRAIN_PATH, \n",
        "#                             test_path=TEST_PATH,\n",
        "#                             image_paths=IMAGE_PATHS,\n",
        "#                             image_shape=IMAGE_SHAPE[:2])\n",
        "# # to visualize the size of the dimensions of the data\n",
        "# print(\"\\n@@@Shape checking of data sets@@@\")\n",
        "# print(\"TRAIN\")\n",
        "# print(\"\\timages\\t%s%f\" % (data.train['images'].shape, data.train['images'].mean()))\n",
        "# print(\"\\tmargins\\t%s\\t%f\" % (data.train['margins'].shape, data.train['margins'].mean()))\n",
        "# print(\"\\tshapes\\t%s\\t%f\" % (data.train['shapes'].shape, data.train['shapes'].mean()))\n",
        "# print(\"\\ttextures%s\\t%f\" % (data.train['textures'].shape, data.train['textures'].mean()))\n",
        "# print(\"\\tts\\t %s\" % (data.train['ts'].shape))\n",
        "# print(\"\\twhile training, batch_generator will onehot encode ts to (batch_size, num_classes)\")\n",
        "# print(\"TEST\")\n",
        "# print(\"\\timages\\t%s\\t%f\" % (data.test['images'].shape, data.test['images'].mean())) \n",
        "# print(\"\\tmargins\\t%s\\t%f\" % (data.test['margins'].shape, data.test['margins'].mean()))\n",
        "# print(\"\\tshapes\\t%s\\t%f\" % (data.test['shapes'].shape, data.test['shapes'].mean()))\n",
        "# print(\"\\ttextures%s\\t%f\" % (data.test['textures'].shape, data.test['textures'].mean()))\n",
        "# print(\"\\tids\\t%s\" % (data.test['ids'].shape))"
      ],
      "execution_count": 15,
      "outputs": []
    },
    {
      "cell_type": "markdown",
      "metadata": {
        "id": "8GEuw5ihutA4"
      },
      "source": [
        "#### Do you want to load your data quickly next time?\n",
        "In the above cell the data is loaded, reshaped and stored as an object. If you want load this object quickly next time you should go for pickle. Pickle does effectively write an object into a character stream, so it can be loaded fastly next time. Simply replace `drive_path` with you `local_path` if you're not using colab. "
      ]
    },
    {
      "cell_type": "code",
      "metadata": {
        "id": "GqOXt8nCutA4"
      },
      "source": [
        "import pickle\n",
        "\n",
        "# # Dump the data into a pickle file\n",
        "# with open(drive_path + '/data.pickle', 'wb') as f:\n",
        "#     pickle.dump(data, f)"
      ],
      "execution_count": 16,
      "outputs": []
    },
    {
      "cell_type": "code",
      "metadata": {
        "id": "TsL5w7ECutA4"
      },
      "source": [
        "# Load the data from a pickle file\n",
        "with open(drive_path + '/data.pickle', 'rb') as f:\n",
        "    data = pickle.load(f)"
      ],
      "execution_count": 17,
      "outputs": []
    },
    {
      "cell_type": "markdown",
      "metadata": {
        "id": "n-CFMYt6utA5"
      },
      "source": [
        "## Batch Generator\n",
        "\n",
        "While training, we will not directly access the entire dataset, instead we have a `batch_generator` function to give us inputs aligned with their targets/ids in a size that our model can handle in memory (batch\\_size).\n",
        "\n",
        "Furthermore, the `batch_generator` also handles validation splitting.\n",
        "\n",
        "## Exercise 6\n",
        "6.1) Explain shortly why the size of batches is important. You should comment on how the size of batches affect the memory, training speed, and the estimates of the gradients.\n",
        "Choose a reasonable batch size the `batch_size = ?` parameter below, and note your choice.\n",
        "\n",
        " * **Answer:**"
      ]
    },
    {
      "cell_type": "code",
      "metadata": {
        "colab": {
          "base_uri": "https://localhost:8080/"
        },
        "id": "64QXY6NWutA5",
        "outputId": "af3c2f6a-ed42-4303-bcbf-a5fcad9ce1bc"
      },
      "source": [
        "batch_size = 20\n",
        "dummy_batch_gen = data_utils.batch_generator(data, batch_size=batch_size, num_classes=NUM_CLASSES, num_iterations=5e3, seed=42)\n",
        "train_batch = next(dummy_batch_gen.gen_train())\n",
        "valid_batch, i = next(dummy_batch_gen.gen_valid())\n",
        "test_batch, i = next(dummy_batch_gen.gen_test())\n",
        "\n",
        "print(\"TRAIN\")\n",
        "print(\"\\timages,\", train_batch['images'].shape)\n",
        "print(\"\\tmargins,\", train_batch['margins'].shape)\n",
        "print(\"\\tshapes,\", train_batch['shapes'].shape)\n",
        "print(\"\\ttextures,\", train_batch['textures'].shape)\n",
        "print(\"\\tts,\", train_batch['ts'].shape)\n",
        "print()\n",
        "print(\"VALID\")\n",
        "print(\"\\timages,\", valid_batch['images'].shape)\n",
        "print(\"\\tmargins,\", valid_batch['margins'].shape)\n",
        "print(\"\\tshapes,\", valid_batch['shapes'].shape)\n",
        "print(\"\\ttextures,\", valid_batch['textures'].shape)\n",
        "print(\"\\tts,\", valid_batch['ts'].shape)\n",
        "print()\n",
        "print(\"TEST\")\n",
        "print(\"\\timages,\", test_batch['images'].shape)\n",
        "print(\"\\tmargins,\", test_batch['margins'].shape)\n",
        "print(\"\\tshapes,\", test_batch['shapes'].shape)\n",
        "print(\"\\ttextures,\", test_batch['textures'].shape)\n",
        "print(\"\\tids,\", len(test_batch['ids']))"
      ],
      "execution_count": 18,
      "outputs": [
        {
          "output_type": "stream",
          "name": "stdout",
          "text": [
            "TRAIN\n",
            "\timages, (20, 64, 64, 1)\n",
            "\tmargins, (20, 64)\n",
            "\tshapes, (20, 64)\n",
            "\ttextures, (20, 64)\n",
            "\tts, (20, 99)\n",
            "\n",
            "VALID\n",
            "\timages, (20, 64, 64, 1)\n",
            "\tmargins, (20, 64)\n",
            "\tshapes, (20, 64)\n",
            "\ttextures, (20, 64)\n",
            "\tts, (20, 99)\n",
            "\n",
            "TEST\n",
            "\timages, (20, 64, 64, 1)\n",
            "\tmargins, (20, 64)\n",
            "\tshapes, (20, 64)\n",
            "\ttextures, (20, 64)\n",
            "\tids, 20\n"
          ]
        }
      ]
    },
    {
      "cell_type": "markdown",
      "metadata": {
        "id": "m7XwkP9MutA5"
      },
      "source": [
        "# Build the model"
      ]
    },
    {
      "cell_type": "code",
      "metadata": {
        "id": "nMgF_7g6utA6"
      },
      "source": [
        "# Load functions\n",
        "import torch\n",
        "from torch.autograd import Variable\n",
        "import torch.nn as nn\n",
        "import torch.optim as optim\n",
        "from torch.nn import Linear, GRU, Conv2d, Dropout, MaxPool2d, BatchNorm1d\n",
        "from torch.nn.functional import relu, elu, relu6, sigmoid, tanh, softmax"
      ],
      "execution_count": 19,
      "outputs": []
    },
    {
      "cell_type": "code",
      "metadata": {
        "colab": {
          "base_uri": "https://localhost:8080/"
        },
        "id": "nXl8ECKrutA6",
        "outputId": "7e4cb743-97f2-4c45-d489-f74c64b42f78"
      },
      "source": [
        "use_cuda = torch.cuda.is_available()\n",
        "print(\"Running GPU.\") if use_cuda else print(\"No GPU available.\")\n",
        "\n",
        "\n",
        "def get_variable(x):\n",
        "    \"\"\" Converts tensors to cuda, if available. \"\"\"\n",
        "    if use_cuda:\n",
        "        return x.cuda()\n",
        "    return x\n",
        "\n",
        "\n",
        "def get_numpy(x):\n",
        "    \"\"\" Get numpy array for both cuda and not. \"\"\"\n",
        "    if use_cuda:\n",
        "        return x.cpu().data.numpy()\n",
        "    return x.data.numpy()"
      ],
      "execution_count": 20,
      "outputs": [
        {
          "output_type": "stream",
          "name": "stdout",
          "text": [
            "No GPU available.\n"
          ]
        }
      ]
    },
    {
      "cell_type": "markdown",
      "metadata": {
        "id": "-u4FmMV-utA6"
      },
      "source": [
        "## Exercise 7\n",
        "7.1)  Now you must define the network architecture. It is always a good idea to start simple. We recommend you to start with a mix of a convolutional layer (maybe followed by max pooling layer), a recurrent layer, and a linear output layer such that we use all the features.  \n",
        "\n",
        "When you build the model you should be aware of the dimensions of the input and output for your different layers. The function`permute` and `view` will be very useful to rearrange your dimensions. It might also be useful to look up the helper function for computing convolutional layers' dimensions from lab 4.1. "
      ]
    },
    {
      "cell_type": "code",
      "metadata": {
        "colab": {
          "base_uri": "https://localhost:8080/"
        },
        "id": "gfcJs1y7utA6",
        "outputId": "7f7be10f-0db0-43c4-db39-4d93a74599a6"
      },
      "source": [
        "height, width, channels = IMAGE_SHAPE\n",
        "\n",
        "# conv_out_channels = 16 # <-- Filters in your convolutional layer\n",
        "# kernel_size = 3       # <-- Kernel size\n",
        "# conv_stride = 1       # <-- Stride\n",
        "# conv_pad    = 1       # <-- Padding\n",
        " \n",
        "# Keep track of features to output layer\n",
        "# features_cat_size = 64*64*conv_out_channels # <-- Number of features concatenated before output layer\n",
        "    \n",
        "class Net(nn.Module):\n",
        "    def __init__(self):\n",
        "        super(Net, self).__init__()\n",
        "        \n",
        "        self.conv_1 = nn.Sequential(\n",
        "            nn.Conv2d(in_channels=1,\n",
        "                out_channels=64, \n",
        "                kernel_size=3, \n",
        "                padding=1,\n",
        "                stride=1),\n",
        "            nn.Dropout2d(p=0.3),\n",
        "            # [(W−K+2P)/S]+1\n",
        "            # output dim (64, 64, 64)\n",
        "            nn.BatchNorm2d(64),\n",
        "            nn.MaxPool2d(kernel_size=2, \n",
        "                         stride=2),\n",
        "            # output dim (64, 32, 32)\n",
        "            nn.ReLU(inplace=True),\n",
        "            nn.Conv2d(in_channels=64, \n",
        "                      out_channels=32, \n",
        "                      kernel_size=5, \n",
        "                      padding=2),\n",
        "            nn.Dropout2d(p=0.3),\n",
        "            # output dim (32, 32, 32)\n",
        "            nn.MaxPool2d(kernel_size=2,\n",
        "                         stride=2),\n",
        "            # output dim (32, 16, 16)\n",
        "            # nn.ReLU(inplace=True),\n",
        "            # nn.Conv2d(in_channels=32, \n",
        "            #           out_channels=8, \n",
        "            #           kernel_size=5, \n",
        "            #           padding=2),\n",
        "            # # output dim (8, 16, 16)\n",
        "            # nn.Dropout2d(p=0.3),\n",
        "            # nn.MaxPool2d(kernel_size=2,\n",
        "            #     stride=2),\n",
        "            # # output dim (8, 8, 8)\n",
        "            # nn.ReLU(inplace=True)\n",
        "        )\n",
        "        # self.conv_1 = Conv2d(in_channels=channels,\n",
        "        #                      out_channels=conv_out_channels,\n",
        "        #                      kernel_size=kernel_size,\n",
        "        #                      stride=conv_stride,\n",
        "        #                      padding=conv_pad)\n",
        "        self.fc1_features = 32*16*16 #conv_out_channels*64*64\n",
        "        # Exercise: Add a recurrent unit like and RNN or GRU\n",
        "        # >> YOUR CODE HERE <<\n",
        "        self.rnn_1 = nn.GRU(input_size=1, hidden_size=8, num_layers=5, batch_first=True)\n",
        "        \n",
        "        self.fnn = nn.Sequential(\n",
        "            nn.Linear(32*16*16+128, 500, bias=False),\n",
        "            nn.ReLU(),\n",
        "            nn.Dropout(0.2),\n",
        "            nn.Linear(500, 200),\n",
        "            nn.Sigmoid(),\n",
        "            nn.Linear(200, NUM_CLASSES)\n",
        "        )\n",
        "\n",
        "        # self.l_fnn = Linear(in_features=64*8+128+32*64,\n",
        "        #                     out_features=500,\n",
        "        #                     bias=False)\n",
        "        \n",
        "        # self.l_fnn2 = Linear(in_features=500,\n",
        "        #             out_features=200,\n",
        "        #             bias=False)\n",
        "\n",
        "        # self.l_out = Linear(in_features=200,\n",
        "        #                     out_features=NUM_CLASSES,\n",
        "        #                     bias=False)\n",
        "        \n",
        "    def forward(self, x_img, x_margin, x_shape, x_texture):\n",
        "        features = []\n",
        "        out = {}\n",
        "        \n",
        "        ## Convolutional layer ##\n",
        "        # - Change dimensions to fit the convolutional layer \n",
        "        # - Apply Conv2d\n",
        "        # - Use an activation function\n",
        "        # - Change dimensions s.t. the features can be used in the final FFNN output layer\n",
        "        \n",
        "        # >> YOUR CODE HERE <<\n",
        "\n",
        "        # x = x_img.reshape(x_img.shape[0], 1,height,width)\n",
        "        # # x = relu(self.conv_1(x))\n",
        "        # x = self.conv_1(x)\n",
        "        # features_img = x.view(-1, self.fc1_features)\n",
        "        # # Append features to the list \"features\"\n",
        "        # features.append(features_img)\n",
        "        \n",
        "        \n",
        "        ## Use concatenated leaf features for FFNN ##\n",
        "        x = torch.cat((x_margin, x_texture), dim=1)  # if you want to use features as feature vectors\n",
        "\n",
        "        features_vector = x\n",
        "        features.append(features_vector)\n",
        "        \n",
        "        ## Use concatenated leaf features for RNN ##\n",
        "        # - Chage dimensions to fit GRU\n",
        "        # - Apply GRU\n",
        "        # - Change dimensions s.t. the features can be used in the final FFNN output layer\n",
        "\n",
        "        # >> YOUR CODE HERE <<\n",
        "        # x = torch.cat((x_shape), dim=1)\n",
        "        # x = x_shape.reshape(x_img.shape[0], 64,1)\n",
        "        # x_out, h = self.rnn_1(x)\n",
        "        # features_rnn = x_out.reshape(-1, 8*64)\n",
        "        # # Append features to the list \"features\"\n",
        "        # features.append(features_rnn)\n",
        "        \n",
        "        \n",
        "        ## Output layer where all features are in use ##\n",
        "        features_final = torch.cat(features, dim=1)\n",
        "\n",
        "        # x = relu(self.l_fnn(features_final))\n",
        "\n",
        "        out['out'] = self.fnn(features_final)\n",
        "        return out\n",
        "\n",
        "net = Net()\n",
        "if use_cuda:\n",
        "    net.cuda()\n",
        "print(net)"
      ],
      "execution_count": 21,
      "outputs": [
        {
          "output_type": "stream",
          "name": "stdout",
          "text": [
            "Net(\n",
            "  (conv_1): Sequential(\n",
            "    (0): Conv2d(1, 64, kernel_size=(3, 3), stride=(1, 1), padding=(1, 1))\n",
            "    (1): Dropout2d(p=0.3, inplace=False)\n",
            "    (2): BatchNorm2d(64, eps=1e-05, momentum=0.1, affine=True, track_running_stats=True)\n",
            "    (3): MaxPool2d(kernel_size=2, stride=2, padding=0, dilation=1, ceil_mode=False)\n",
            "    (4): ReLU(inplace=True)\n",
            "    (5): Conv2d(64, 32, kernel_size=(5, 5), stride=(1, 1), padding=(2, 2))\n",
            "    (6): Dropout2d(p=0.3, inplace=False)\n",
            "    (7): MaxPool2d(kernel_size=2, stride=2, padding=0, dilation=1, ceil_mode=False)\n",
            "  )\n",
            "  (rnn_1): GRU(1, 8, num_layers=5, batch_first=True)\n",
            "  (fnn): Sequential(\n",
            "    (0): Linear(in_features=8320, out_features=500, bias=False)\n",
            "    (1): ReLU()\n",
            "    (2): Dropout(p=0.2, inplace=False)\n",
            "    (3): Linear(in_features=500, out_features=200, bias=True)\n",
            "    (4): Sigmoid()\n",
            "    (5): Linear(in_features=200, out_features=99, bias=True)\n",
            "  )\n",
            ")\n"
          ]
        }
      ]
    },
    {
      "cell_type": "markdown",
      "metadata": {
        "id": "OdzTyHkoutA7"
      },
      "source": [
        "# Build the cost function"
      ]
    },
    {
      "cell_type": "markdown",
      "metadata": {
        "id": "qRQyARMUutA7"
      },
      "source": [
        "## Exercise 8\n",
        "8.1) Since this is a classification task we will use the cross-entropy loss. Define the cross-entropy loss as the loss function in the code below."
      ]
    },
    {
      "cell_type": "code",
      "metadata": {
        "id": "RODhwERtutA7"
      },
      "source": [
        "LEARNING_RATE = 0.0001\n",
        "criterion = nn.CrossEntropyLoss() #<-- Your code here.   \n",
        "\n",
        "# weight_decay is equal to L2 regularization\n",
        "optimizer = optim.Adam(net.parameters(), lr=LEARNING_RATE, weight_decay=0.1)\n",
        "\n",
        "def accuracy(ys, ts):\n",
        "    predictions = torch.max(ys, 1)[1]\n",
        "    correct_prediction = torch.eq(predictions, ts)\n",
        "    return torch.mean(correct_prediction.float())"
      ],
      "execution_count": 22,
      "outputs": []
    },
    {
      "cell_type": "markdown",
      "metadata": {
        "id": "A1NaC_AOutA8"
      },
      "source": [
        "## Test network\n",
        "\n",
        "#### Debugging \n",
        "The following cell might cause you some errors - try these suggestions before you try anyting else.\n",
        "\n",
        "* **Your kernel keeps dying** on the line below it is most likely because you run out of memory.\n",
        "The two most likely solutions are \n",
        " 1. reduce the image size further\n",
        " 1. change your network architecture such that it uses less resources\n",
        "\n",
        "* **`RuntimeError: size mismatch, m1: [??? x ???], m2: [??? x ???]`** \n",
        " 1. `features_cat_size` must match the actual output of the network i.e. the second dimension in `m1`.\n",
        "\n",
        "* **Training is very slow**. This is most likely caused by the images. \n",
        " 1. Try and reduce the size of the images further, or reduce the dimensions of the network using either pooling or strides.\n"
      ]
    },
    {
      "cell_type": "code",
      "metadata": {
        "id": "dwbWysLJR70G",
        "colab": {
          "base_uri": "https://localhost:8080/"
        },
        "outputId": "d9711efd-fc4b-4777-856d-9514634c5fef"
      },
      "source": [
        "IMAGE_SHAPE"
      ],
      "execution_count": 23,
      "outputs": [
        {
          "output_type": "execute_result",
          "data": {
            "text/plain": [
              "(64, 64, 1)"
            ]
          },
          "metadata": {},
          "execution_count": 23
        }
      ]
    },
    {
      "cell_type": "code",
      "metadata": {
        "colab": {
          "base_uri": "https://localhost:8080/"
        },
        "id": "tyFozEyeutA8",
        "outputId": "cdd1f188-a9d9-4dca-c28e-fd707340ce17"
      },
      "source": [
        "_img_shape = tuple([batch_size] + list(IMAGE_SHAPE))\n",
        "# _img_shape = tuple([batch_size] + list((1,64,64)))\n",
        "_feature_shape = (batch_size, NUM_FEATURES)\n",
        "\n",
        "def randnorm(size):\n",
        "    return np.random.normal(0, 1, size).astype('float32')\n",
        "\n",
        "# dummy data\n",
        "_x_image = get_variable(Variable(torch.from_numpy(randnorm(_img_shape))))\n",
        "_x_margin = get_variable(Variable(torch.from_numpy(randnorm(_feature_shape))))\n",
        "_x_shape = get_variable(Variable(torch.from_numpy(randnorm(_feature_shape))))\n",
        "_x_texture = get_variable(Variable(torch.from_numpy(randnorm(_feature_shape))))\n",
        "\n",
        "# test the forward pass\n",
        "output = net(x_img=_x_image, x_margin=_x_margin, x_shape=_x_shape, x_texture=_x_texture)\n",
        "output['out']"
      ],
      "execution_count": 24,
      "outputs": [
        {
          "output_type": "stream",
          "name": "stderr",
          "text": [
            "/usr/local/lib/python3.7/dist-packages/torch/nn/functional.py:718: UserWarning: Named tensors and all their associated APIs are an experimental feature and subject to change. Please do not use them for anything important until they are released as stable. (Triggered internally at  /pytorch/c10/core/TensorImpl.h:1156.)\n",
            "  return torch.max_pool2d(input, kernel_size, stride, padding, dilation, ceil_mode)\n"
          ]
        },
        {
          "output_type": "execute_result",
          "data": {
            "text/plain": [
              "tensor([[ 0.0449,  0.2394,  0.3314,  ..., -0.0252, -0.1313,  0.2263],\n",
              "        [ 0.0019,  0.2239,  0.2929,  ..., -0.0506, -0.0838,  0.1746],\n",
              "        [ 0.0314,  0.2388,  0.2847,  ..., -0.0415, -0.0687,  0.1857],\n",
              "        ...,\n",
              "        [ 0.0334,  0.2423,  0.2760,  ..., -0.0026, -0.1508,  0.2047],\n",
              "        [ 0.0465,  0.2230,  0.2543,  ..., -0.0434, -0.1118,  0.2471],\n",
              "        [ 0.0320,  0.2683,  0.3291,  ..., -0.0669, -0.1000,  0.2217]],\n",
              "       grad_fn=<AddmmBackward>)"
            ]
          },
          "metadata": {},
          "execution_count": 24
        }
      ]
    },
    {
      "cell_type": "code",
      "metadata": {
        "id": "iPkoPiO2Tnv4",
        "colab": {
          "base_uri": "https://localhost:8080/",
          "height": 285
        },
        "outputId": "0b45c39b-718c-42e4-84ed-db99e3e50bdc"
      },
      "source": [
        "plt.imshow(_x_image[0].reshape(1,64,64)[0])"
      ],
      "execution_count": 25,
      "outputs": [
        {
          "output_type": "execute_result",
          "data": {
            "text/plain": [
              "<matplotlib.image.AxesImage at 0x7f1b67495c90>"
            ]
          },
          "metadata": {},
          "execution_count": 25
        },
        {
          "output_type": "display_data",
          "data": {
            "image/png": "[encoded data removed]",
            "text/plain": [
              "<Figure size 432x288 with 1 Axes>"
            ]
          },
          "metadata": {
            "needs_background": "light"
          }
        }
      ]
    },
    {
      "cell_type": "code",
      "metadata": {
        "id": "3aIgC0jsU8Xo"
      },
      "source": [
        "# sum(_x_image.permute(0, 3,1,2)[0][0] == _x_image.reshape(8, 1,64,64)[0][0])"
      ],
      "execution_count": 26,
      "outputs": []
    },
    {
      "cell_type": "markdown",
      "metadata": {
        "id": "oHatfpH2utA8"
      },
      "source": [
        "# Train"
      ]
    },
    {
      "cell_type": "code",
      "metadata": {
        "colab": {
          "base_uri": "https://localhost:8080/",
          "height": 374
        },
        "id": "aBn-InT4utA8",
        "outputId": "1e24b25f-8bdf-44e3-f26b-a143d3403b41"
      },
      "source": [
        "# Setup settings for training \n",
        "VALIDATION_SIZE = 0.1 # 0.1 is ~ 100 samples for validation\n",
        "max_iter = 10000\n",
        "log_every = 100\n",
        "eval_every = 100\n",
        "\n",
        "# Function to get label\n",
        "def get_labels(batch):\n",
        "    return get_variable(Variable(torch.from_numpy(batch['ts']).long()))\n",
        "\n",
        "# Function to get input\n",
        "def get_input(batch):\n",
        "    return {\n",
        "        'x_img': get_variable(Variable(torch.from_numpy(batch['images']))),\n",
        "        'x_margin': get_variable(Variable(torch.from_numpy(batch['margins']))),\n",
        "        'x_shape': get_variable(Variable(torch.from_numpy(batch['shapes']))),\n",
        "        'x_texture': get_variable(Variable(torch.from_numpy(batch['textures'])))\n",
        "    }\n",
        "\n",
        "# Initialize lists for training and validation\n",
        "train_iter = []\n",
        "train_loss, train_accs = [], []\n",
        "valid_iter = []\n",
        "valid_loss, valid_accs = [], []\n",
        "\n",
        "# Generate batches\n",
        "batch_gen = data_utils.batch_generator(data,\n",
        "                                       batch_size=batch_size,\n",
        "                                       num_classes=NUM_CLASSES,\n",
        "                                       num_iterations=max_iter,\n",
        "                                       seed=42,\n",
        "                                       val_size=VALIDATION_SIZE)\n",
        "\n",
        "# Train network\n",
        "net.train()\n",
        "for i, batch_train in enumerate(batch_gen.gen_train()):\n",
        "    if i % eval_every == 0:\n",
        "        \n",
        "        # Do the validaiton\n",
        "        net.eval()\n",
        "        val_losses, val_accs, val_lengths = 0, 0, 0\n",
        "        for batch_valid, num in batch_gen.gen_valid():\n",
        "            output = net(**get_input(batch_valid))\n",
        "            labels_argmax = torch.max(get_labels(batch_valid), 1)[1]\n",
        "            val_losses += criterion(output['out'], labels_argmax) * num\n",
        "            val_accs += accuracy(output['out'], labels_argmax) * num\n",
        "            val_lengths += num\n",
        "\n",
        "        # Divide by the total accumulated batch sizes\n",
        "        val_losses /= val_lengths\n",
        "        val_accs /= val_lengths\n",
        "        valid_loss.append(get_numpy(val_losses))\n",
        "        valid_accs.append(get_numpy(val_accs))\n",
        "        valid_iter.append(i)\n",
        "#         print(\"Valid, it: {} loss: {:.2f} accs: {:.2f}\\n\".format(i, valid_loss[-1], valid_accs[-1]))\n",
        "        net.train()\n",
        "    \n",
        "    # Train network\n",
        "    output = net(**get_input(batch_train))\n",
        "    labels_argmax = torch.max(get_labels(batch_train), 1)[1]\n",
        "    batch_loss = criterion(output['out'], labels_argmax)\n",
        "    \n",
        "    train_iter.append(i)\n",
        "    train_loss.append(float(get_numpy(batch_loss)))\n",
        "    train_accs.append(float(get_numpy(accuracy(output['out'], labels_argmax))))\n",
        "    \n",
        "    optimizer.zero_grad()\n",
        "    batch_loss.backward()\n",
        "    optimizer.step()\n",
        "    \n",
        "    # Log i figure\n",
        "    if i % log_every == 0:\n",
        "        fig = plt.figure(figsize=(12,4))\n",
        "        plt.subplot(1, 2, 1)\n",
        "        plt.plot(train_iter, train_loss, label='train_loss')\n",
        "        plt.plot(valid_iter, valid_loss, label='valid_loss')\n",
        "        plt.legend()\n",
        "\n",
        "        plt.subplot(1, 2, 2)\n",
        "        plt.plot(train_iter, train_accs, label='train_accs')\n",
        "        plt.plot(valid_iter, valid_accs, label='valid_accs')\n",
        "        plt.legend()\n",
        "        plt.show()\n",
        "        clear_output(wait=True)\n",
        "#         print(\"Train, it: {} loss: {:.2f} accs: {:.2f}\".format(i, train_loss[-1], train_accs[-1]))\n",
        "        \n",
        "    if max_iter < i:\n",
        "        break"
      ],
      "execution_count": 27,
      "outputs": [
        {
          "output_type": "error",
          "ename": "KeyboardInterrupt",
          "evalue": "ignored",
          "traceback": [
            "\u001b[0;31m---------------------------------------------------------------------------\u001b[0m",
            "\u001b[0;31mKeyboardInterrupt\u001b[0m                         Traceback (most recent call last)",
            "\u001b[0;32m<ipython-input-27-93d1f270692f>\u001b[0m in \u001b[0;36m<module>\u001b[0;34m()\u001b[0m\n\u001b[1;32m     66\u001b[0m \u001b[0;34m\u001b[0m\u001b[0m\n\u001b[1;32m     67\u001b[0m     \u001b[0moptimizer\u001b[0m\u001b[0;34m.\u001b[0m\u001b[0mzero_grad\u001b[0m\u001b[0;34m(\u001b[0m\u001b[0;34m)\u001b[0m\u001b[0;34m\u001b[0m\u001b[0;34m\u001b[0m\u001b[0m\n\u001b[0;32m---> 68\u001b[0;31m     \u001b[0mbatch_loss\u001b[0m\u001b[0;34m.\u001b[0m\u001b[0mbackward\u001b[0m\u001b[0;34m(\u001b[0m\u001b[0;34m)\u001b[0m\u001b[0;34m\u001b[0m\u001b[0;34m\u001b[0m\u001b[0m\n\u001b[0m\u001b[1;32m     69\u001b[0m     \u001b[0moptimizer\u001b[0m\u001b[0;34m.\u001b[0m\u001b[0mstep\u001b[0m\u001b[0;34m(\u001b[0m\u001b[0;34m)\u001b[0m\u001b[0;34m\u001b[0m\u001b[0;34m\u001b[0m\u001b[0m\n\u001b[1;32m     70\u001b[0m \u001b[0;34m\u001b[0m\u001b[0m\n",
            "\u001b[0;32m/usr/local/lib/python3.7/dist-packages/torch/_tensor.py\u001b[0m in \u001b[0;36mbackward\u001b[0;34m(self, gradient, retain_graph, create_graph, inputs)\u001b[0m\n\u001b[1;32m    253\u001b[0m                 \u001b[0mcreate_graph\u001b[0m\u001b[0;34m=\u001b[0m\u001b[0mcreate_graph\u001b[0m\u001b[0;34m,\u001b[0m\u001b[0;34m\u001b[0m\u001b[0;34m\u001b[0m\u001b[0m\n\u001b[1;32m    254\u001b[0m                 inputs=inputs)\n\u001b[0;32m--> 255\u001b[0;31m         \u001b[0mtorch\u001b[0m\u001b[0;34m.\u001b[0m\u001b[0mautograd\u001b[0m\u001b[0;34m.\u001b[0m\u001b[0mbackward\u001b[0m\u001b[0;34m(\u001b[0m\u001b[0mself\u001b[0m\u001b[0;34m,\u001b[0m \u001b[0mgradient\u001b[0m\u001b[0;34m,\u001b[0m \u001b[0mretain_graph\u001b[0m\u001b[0;34m,\u001b[0m \u001b[0mcreate_graph\u001b[0m\u001b[0;34m,\u001b[0m \u001b[0minputs\u001b[0m\u001b[0;34m=\u001b[0m\u001b[0minputs\u001b[0m\u001b[0;34m)\u001b[0m\u001b[0;34m\u001b[0m\u001b[0;34m\u001b[0m\u001b[0m\n\u001b[0m\u001b[1;32m    256\u001b[0m \u001b[0;34m\u001b[0m\u001b[0m\n\u001b[1;32m    257\u001b[0m     \u001b[0;32mdef\u001b[0m \u001b[0mregister_hook\u001b[0m\u001b[0;34m(\u001b[0m\u001b[0mself\u001b[0m\u001b[0;34m,\u001b[0m \u001b[0mhook\u001b[0m\u001b[0;34m)\u001b[0m\u001b[0;34m:\u001b[0m\u001b[0;34m\u001b[0m\u001b[0;34m\u001b[0m\u001b[0m\n",
            "\u001b[0;32m/usr/local/lib/python3.7/dist-packages/torch/autograd/__init__.py\u001b[0m in \u001b[0;36mbackward\u001b[0;34m(tensors, grad_tensors, retain_graph, create_graph, grad_variables, inputs)\u001b[0m\n\u001b[1;32m    147\u001b[0m     Variable._execution_engine.run_backward(\n\u001b[1;32m    148\u001b[0m         \u001b[0mtensors\u001b[0m\u001b[0;34m,\u001b[0m \u001b[0mgrad_tensors_\u001b[0m\u001b[0;34m,\u001b[0m \u001b[0mretain_graph\u001b[0m\u001b[0;34m,\u001b[0m \u001b[0mcreate_graph\u001b[0m\u001b[0;34m,\u001b[0m \u001b[0minputs\u001b[0m\u001b[0;34m,\u001b[0m\u001b[0;34m\u001b[0m\u001b[0;34m\u001b[0m\u001b[0m\n\u001b[0;32m--> 149\u001b[0;31m         allow_unreachable=True, accumulate_grad=True)  # allow_unreachable flag\n\u001b[0m\u001b[1;32m    150\u001b[0m \u001b[0;34m\u001b[0m\u001b[0m\n\u001b[1;32m    151\u001b[0m \u001b[0;34m\u001b[0m\u001b[0m\n",
            "\u001b[0;31mKeyboardInterrupt\u001b[0m: "
          ]
        }
      ]
    },
    {
      "cell_type": "markdown",
      "metadata": {
        "id": "vlkNWpEMutA9"
      },
      "source": [
        "## Exercise 9\n",
        "\n",
        "**Tip** This is very small dataset (number of observations) compared to the number of features.\n",
        "This means that overfitting will likely be an issue, and sometimes fancy tricks won't do any good. \n",
        "Keep that in mind, and always start out simple.\n",
        "\n",
        "**3.1) Improve the network**, and get as high a validation score as you can. \n",
        "When trying to improve the network nothing is sacred, you can change learning rate, try testing various learning rates, batch sizes, validation sizes, etc. \n",
        "And most importantly, the validation set is very small (only 1 sample per class), etc.\n",
        "\n",
        "To get you of to a good start we have created a list of **things you might want to try**:\n",
        "* Add more layers (mostly fully connected and convolutional)\n",
        "* Increase or decrease the batch size \n",
        "* Use dropout (a lot - e.g. between the convolutional layers)\n",
        "* Use batchnormalization (a lot)\n",
        "* Try with L2 regularization (weight decay)\n",
        "* Use only the image for training (with CNN) - comment on the increased time between iterations.\n",
        "* Change the image size to be bigger or smaller\n",
        "* Try other combinations of FFN, CNN, RNN parts in various ways (bigger is not always better)\n",
        "\n",
        "If your network is not performing as well as you would like it to, [here](http://theorangeduck.com/page/neural-network-not-working) is a great explanation of what might have gone wrong.\n",
        "\n",
        "\n",
        "**3.2) Improve Kaggle score**. Once happy try to get the best score on Kaggle for this dataset as you can (**upload** instructions below)\n",
        "You can upload your solution multiple times as you progress.\n",
        "A very good implementation would get a score between $0.04$ to $0.06$ (the smaller the better), try and see if you can get there, and explain what might have gone wrong if you cant. \n",
        "\n",
        "\n",
        "**3.3) Reflect on the process**, and how you got to your final design and discuss your final results. \n",
        "What worked, and what didn't?\n",
        "Include at least the following: \n",
        "* Description of final architecture\n",
        "* Description of training parameters\n",
        "* Description of final results (Kaggle and validation)\n",
        "\n",
        "**Answer:**\n"
      ]
    },
    {
      "cell_type": "markdown",
      "metadata": {
        "id": "umFc6SzkutA9"
      },
      "source": [
        "# Submission to Kaggle\n",
        "\n",
        "First we have to make testset predictions, then we have to place it in the submission file and the upload to Kaggle for our score! You can upload at max 5 submissions a day."
      ]
    },
    {
      "cell_type": "code",
      "metadata": {
        "id": "mGgqKyMw0375"
      },
      "source": [
        "softmax(output['out'].data)[0]"
      ],
      "execution_count": null,
      "outputs": []
    },
    {
      "cell_type": "code",
      "metadata": {
        "id": "A6_DRm9-utA9"
      },
      "source": [
        "# GET PREDICTIONS\n",
        "# containers to collect ids and predictions\n",
        "ids_test, preds_test = [], []\n",
        "net.eval()\n",
        "# run like with validation\n",
        "for batch_test, num in batch_gen.gen_test():\n",
        "    output = net(**get_input(batch_test))\n",
        "    y_out = softmax(output['out'].data)\n",
        "\n",
        "    ids_test += batch_test['ids']\n",
        "    if num!=len(y_out):\n",
        "        # in case of the last batch, num will be less than batch_size\n",
        "        y_out = y_out[:num]\n",
        "    preds_test.append(y_out)\n",
        "preds_test = np.concatenate(preds_test, axis=0)\n",
        "assert len(ids_test) == len(preds_test)"
      ],
      "execution_count": null,
      "outputs": []
    },
    {
      "cell_type": "markdown",
      "metadata": {
        "id": "IevFVk0OutA9"
      },
      "source": [
        "## Make submission file"
      ]
    },
    {
      "cell_type": "code",
      "metadata": {
        "scrolled": true,
        "id": "aZzsnny8utA-"
      },
      "source": [
        "preds_df = pd.DataFrame(preds_test, columns=data.le.classes_)\n",
        "ids_test_df = pd.DataFrame(ids_test, columns=[\"id\"])\n",
        "submission = pd.concat([ids_test_df, preds_df], axis=1)\n",
        "submission.to_csv(drive_path + 'submission.csv', index=False)\n",
        "\n",
        "# below prints the submission, can be removed and replaced with code block below\n",
        "submission.head(5)"
      ],
      "execution_count": null,
      "outputs": []
    },
    {
      "cell_type": "markdown",
      "metadata": {
        "id": "Ta36Ij35utA-"
      },
      "source": [
        "## Upload submission\n",
        "\n",
        "1. Go to [`https://www.kaggle.com/c/leaf-classification/submit`](https://www.kaggle.com/c/leaf-classification/submit)\n",
        "3. Click or drop your submission here (writing a description is good practice)\n",
        "4. Submit and look at where you are on the leaderboard.\n",
        "\n",
        "Success! "
      ]
    }
  ]
}